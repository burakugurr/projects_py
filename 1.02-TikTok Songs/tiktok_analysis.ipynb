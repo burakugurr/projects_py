{
 "cells": [
  {
   "cell_type": "code",
   "execution_count": 288,
   "id": "fe764d2b",
   "metadata": {},
   "outputs": [],
   "source": [
    "import matplotlib.pyplot as plt\n",
    "import pandas as pd\n",
    "import numpy as np\n",
    "import scipy\n",
    "import os\n",
    "import plotly.express as px\n"
   ]
  },
  {
   "cell_type": "markdown",
   "id": "9f6b5222",
   "metadata": {},
   "source": [
    "# Data Insights"
   ]
  },
  {
   "cell_type": "markdown",
   "id": "7e422078",
   "metadata": {},
   "source": [
    "## Introduction"
   ]
  },
  {
   "cell_type": "markdown",
   "id": "c2f5178e",
   "metadata": {},
   "source": [
    "track_name - Name of the track\n",
    "\n",
    "artist_name - Name of the artist\n",
    "\n",
    "artist_pop - Popularity of the artist\n",
    "\n",
    "album - Name of the album\n",
    "\n",
    "track_pop - Popularity of the track\n",
    "\n",
    "danceability - Danceability describes how suitable a track is for dancing based on a combination of musical elements including tempo, rhythm stability, beat strength, and overall regularity. A value of 0.0 is least danceable and 1.0 is most danceable.\n",
    "\n",
    "energy - Energy is a measure from 0.0 to 1.0 and represents a perceptual measure of intensity and activity. Typically, energetic tracks feel fast, loud, and noisy. For example, death metal has high energy, while a Bach prelude scores low on the scale. Perceptual features contributing to this attribute include dynamic range, perceived loudness, timbre, onset rate, and general entropy.\n",
    "\n",
    "loudness - The overall loudness of a track in decibels (dB). Loudness values are averaged across the entire track and are useful for comparing relative loudness of tracks. \n",
    "Loudness is the quality of a sound that is the primary psychological correlate of physical strength (amplitude). Values typically range between -60 and 0 db.\n",
    "\n",
    "mode - Mode indicates the modality (major or minor) of a track, the type of scale from which its melodic content is derived. Major is represented by 1 and minor is 0.\n",
    "\n",
    "key - The key the track is in. Integers map to pitches using standard Pitch Class notation. E.g. 0 = C, 1 = C♯/D♭, 2 = D, and so on. If no key was detected, the value is -1.\n",
    "\n",
    "speechiness - Speechiness detects the presence of spoken words in a track. The more exclusively speech-like the recording (e.g. talk show, audio book, poetry), the closer to 1.0 the attribute value. Values above 0.66 describe tracks that are probably made entirely of spoken words. Values between 0.33 and 0.66 describe tracks that may contain both music and speech, either in sections or layered, including such cases as rap music. Values below 0.33 most likely represent music and other non-speech-like tracks.\n",
    "\n",
    "acousticness - A confidence measure from 0.0 to 1.0 of whether the track is acoustic. 1.0 represents high confidence the track is acoustic.\n",
    "\n",
    "instrumentalness - Predicts whether a track contains no vocals. \"Ooh\" and \"aah\" sounds are treated as instrumental in this context. Rap or spoken word tracks are clearly \"vocal\". The closer the instrumentalness value is to 1.0, the greater likelihood the track contains no vocal content. Values above 0.5 are intended to represent instrumental tracks, but confidence is higher as the value approaches 1.0.\n",
    "\n",
    "liveness - Detects the presence of an audience in the recording. Higher liveness values represent an increased probability that the track was performed live. A value above 0.8 provides strong likelihood that the track is live.\n",
    "\n",
    "valence - A measure from 0.0 to 1.0 describing the musical positiveness conveyed by a track. Tracks with high valence sound more positive (e.g. happy, cheerful, euphoric), while tracks with low valence sound more negative (e.g. sad, depressed, angry).\n",
    "\n",
    "tempo - The overall estimated tempo of a track in beats per minute (BPM). In musical terminology, tempo is the speed or pace of a given piece and derives directly from the average beat duration.\n",
    "\n",
    "time_signature - An estimated time signature. The time signature (meter) is a notational convention to specify how many beats are in each bar (or measure). The time signature ranges from 3 to 7 indicating time signatures of \"3/4\", to \"7/4\".\n",
    "\n",
    "duration_ms - The duration of the track in milliseconds."
   ]
  },
  {
   "cell_type": "code",
   "execution_count": 289,
   "id": "11ae1332",
   "metadata": {},
   "outputs": [
    {
     "data": {
      "text/plain": [
       "['.gitignore', 'tiktok_analysis.ipynb', 'TikTok_songs_2022.csv']"
      ]
     },
     "execution_count": 289,
     "metadata": {},
     "output_type": "execute_result"
    }
   ],
   "source": [
    "os.listdir()"
   ]
  },
  {
   "cell_type": "code",
   "execution_count": 290,
   "id": "81e64e43",
   "metadata": {},
   "outputs": [],
   "source": [
    "data = pd.read_csv(\"TikTok_songs_2022.csv\")"
   ]
  },
  {
   "cell_type": "code",
   "execution_count": 291,
   "id": "ef174e2f",
   "metadata": {
    "scrolled": true
   },
   "outputs": [
    {
     "data": {
      "text/html": [
       "<div>\n",
       "<style scoped>\n",
       "    .dataframe tbody tr th:only-of-type {\n",
       "        vertical-align: middle;\n",
       "    }\n",
       "\n",
       "    .dataframe tbody tr th {\n",
       "        vertical-align: top;\n",
       "    }\n",
       "\n",
       "    .dataframe thead th {\n",
       "        text-align: right;\n",
       "    }\n",
       "</style>\n",
       "<table border=\"1\" class=\"dataframe\">\n",
       "  <thead>\n",
       "    <tr style=\"text-align: right;\">\n",
       "      <th></th>\n",
       "      <th>track_name</th>\n",
       "      <th>artist_name</th>\n",
       "      <th>artist_pop</th>\n",
       "      <th>album</th>\n",
       "      <th>track_pop</th>\n",
       "      <th>danceability</th>\n",
       "      <th>energy</th>\n",
       "      <th>loudness</th>\n",
       "      <th>mode</th>\n",
       "      <th>key</th>\n",
       "      <th>speechiness</th>\n",
       "      <th>acousticness</th>\n",
       "      <th>instrumentalness</th>\n",
       "      <th>liveness</th>\n",
       "      <th>valence</th>\n",
       "      <th>tempo</th>\n",
       "      <th>time_signature</th>\n",
       "      <th>duration_ms</th>\n",
       "    </tr>\n",
       "  </thead>\n",
       "  <tbody>\n",
       "    <tr>\n",
       "      <th>0</th>\n",
       "      <td>Running Up That Hill (A Deal With God)</td>\n",
       "      <td>Kate Bush</td>\n",
       "      <td>81</td>\n",
       "      <td>Hounds Of Love</td>\n",
       "      <td>95</td>\n",
       "      <td>0.629</td>\n",
       "      <td>0.547</td>\n",
       "      <td>-13.123</td>\n",
       "      <td>0</td>\n",
       "      <td>10</td>\n",
       "      <td>0.0550</td>\n",
       "      <td>0.7200</td>\n",
       "      <td>0.003140</td>\n",
       "      <td>0.0604</td>\n",
       "      <td>0.197</td>\n",
       "      <td>108.375</td>\n",
       "      <td>4</td>\n",
       "      <td>298933</td>\n",
       "    </tr>\n",
       "    <tr>\n",
       "      <th>1</th>\n",
       "      <td>As It Was</td>\n",
       "      <td>Harry Styles</td>\n",
       "      <td>91</td>\n",
       "      <td>As It Was</td>\n",
       "      <td>96</td>\n",
       "      <td>0.520</td>\n",
       "      <td>0.731</td>\n",
       "      <td>-5.338</td>\n",
       "      <td>0</td>\n",
       "      <td>6</td>\n",
       "      <td>0.0557</td>\n",
       "      <td>0.3420</td>\n",
       "      <td>0.001010</td>\n",
       "      <td>0.3110</td>\n",
       "      <td>0.662</td>\n",
       "      <td>173.930</td>\n",
       "      <td>4</td>\n",
       "      <td>167303</td>\n",
       "    </tr>\n",
       "    <tr>\n",
       "      <th>2</th>\n",
       "      <td>Sunroof</td>\n",
       "      <td>Nicky Youre</td>\n",
       "      <td>73</td>\n",
       "      <td>Sunroof</td>\n",
       "      <td>44</td>\n",
       "      <td>0.768</td>\n",
       "      <td>0.716</td>\n",
       "      <td>-5.110</td>\n",
       "      <td>1</td>\n",
       "      <td>10</td>\n",
       "      <td>0.0404</td>\n",
       "      <td>0.3500</td>\n",
       "      <td>0.000000</td>\n",
       "      <td>0.1500</td>\n",
       "      <td>0.841</td>\n",
       "      <td>131.430</td>\n",
       "      <td>4</td>\n",
       "      <td>163026</td>\n",
       "    </tr>\n",
       "    <tr>\n",
       "      <th>3</th>\n",
       "      <td>Heat Waves</td>\n",
       "      <td>Glass Animals</td>\n",
       "      <td>80</td>\n",
       "      <td>Dreamland (+ Bonus Levels)</td>\n",
       "      <td>89</td>\n",
       "      <td>0.761</td>\n",
       "      <td>0.525</td>\n",
       "      <td>-6.900</td>\n",
       "      <td>1</td>\n",
       "      <td>11</td>\n",
       "      <td>0.0944</td>\n",
       "      <td>0.4400</td>\n",
       "      <td>0.000007</td>\n",
       "      <td>0.0921</td>\n",
       "      <td>0.531</td>\n",
       "      <td>80.870</td>\n",
       "      <td>4</td>\n",
       "      <td>238805</td>\n",
       "    </tr>\n",
       "    <tr>\n",
       "      <th>4</th>\n",
       "      <td>About Damn Time</td>\n",
       "      <td>Lizzo</td>\n",
       "      <td>81</td>\n",
       "      <td>About Damn Time</td>\n",
       "      <td>92</td>\n",
       "      <td>0.836</td>\n",
       "      <td>0.743</td>\n",
       "      <td>-6.305</td>\n",
       "      <td>0</td>\n",
       "      <td>10</td>\n",
       "      <td>0.0656</td>\n",
       "      <td>0.0995</td>\n",
       "      <td>0.000000</td>\n",
       "      <td>0.3350</td>\n",
       "      <td>0.722</td>\n",
       "      <td>108.966</td>\n",
       "      <td>4</td>\n",
       "      <td>191822</td>\n",
       "    </tr>\n",
       "  </tbody>\n",
       "</table>\n",
       "</div>"
      ],
      "text/plain": [
       "                               track_name    artist_name  artist_pop  \\\n",
       "0  Running Up That Hill (A Deal With God)      Kate Bush          81   \n",
       "1                               As It Was   Harry Styles          91   \n",
       "2                                 Sunroof    Nicky Youre          73   \n",
       "3                              Heat Waves  Glass Animals          80   \n",
       "4                         About Damn Time          Lizzo          81   \n",
       "\n",
       "                        album  track_pop  danceability  energy  loudness  \\\n",
       "0              Hounds Of Love         95         0.629   0.547   -13.123   \n",
       "1                   As It Was         96         0.520   0.731    -5.338   \n",
       "2                     Sunroof         44         0.768   0.716    -5.110   \n",
       "3  Dreamland (+ Bonus Levels)         89         0.761   0.525    -6.900   \n",
       "4             About Damn Time         92         0.836   0.743    -6.305   \n",
       "\n",
       "   mode  key  speechiness  acousticness  instrumentalness  liveness  valence  \\\n",
       "0     0   10       0.0550        0.7200          0.003140    0.0604    0.197   \n",
       "1     0    6       0.0557        0.3420          0.001010    0.3110    0.662   \n",
       "2     1   10       0.0404        0.3500          0.000000    0.1500    0.841   \n",
       "3     1   11       0.0944        0.4400          0.000007    0.0921    0.531   \n",
       "4     0   10       0.0656        0.0995          0.000000    0.3350    0.722   \n",
       "\n",
       "     tempo  time_signature  duration_ms  \n",
       "0  108.375               4       298933  \n",
       "1  173.930               4       167303  \n",
       "2  131.430               4       163026  \n",
       "3   80.870               4       238805  \n",
       "4  108.966               4       191822  "
      ]
     },
     "execution_count": 291,
     "metadata": {},
     "output_type": "execute_result"
    }
   ],
   "source": [
    "data.head()"
   ]
  },
  {
   "cell_type": "code",
   "execution_count": 292,
   "id": "8b847d01",
   "metadata": {},
   "outputs": [],
   "source": [
    "# album-track name"
   ]
  },
  {
   "cell_type": "code",
   "execution_count": 293,
   "id": "ff461cc4",
   "metadata": {
    "scrolled": true
   },
   "outputs": [
    {
     "data": {
      "text/plain": [
       "(263, 18)"
      ]
     },
     "execution_count": 293,
     "metadata": {},
     "output_type": "execute_result"
    }
   ],
   "source": [
    "data.shape"
   ]
  },
  {
   "cell_type": "code",
   "execution_count": 294,
   "id": "49c9c99f",
   "metadata": {},
   "outputs": [
    {
     "name": "stdout",
     "output_type": "stream",
     "text": [
      "<class 'pandas.core.frame.DataFrame'>\n",
      "RangeIndex: 263 entries, 0 to 262\n",
      "Data columns (total 18 columns):\n",
      " #   Column            Non-Null Count  Dtype  \n",
      "---  ------            --------------  -----  \n",
      " 0   track_name        263 non-null    object \n",
      " 1   artist_name       263 non-null    object \n",
      " 2   artist_pop        263 non-null    int64  \n",
      " 3   album             263 non-null    object \n",
      " 4   track_pop         263 non-null    int64  \n",
      " 5   danceability      263 non-null    float64\n",
      " 6   energy            263 non-null    float64\n",
      " 7   loudness          263 non-null    float64\n",
      " 8   mode              263 non-null    int64  \n",
      " 9   key               263 non-null    int64  \n",
      " 10  speechiness       263 non-null    float64\n",
      " 11  acousticness      263 non-null    float64\n",
      " 12  instrumentalness  263 non-null    float64\n",
      " 13  liveness          263 non-null    float64\n",
      " 14  valence           263 non-null    float64\n",
      " 15  tempo             263 non-null    float64\n",
      " 16  time_signature    263 non-null    int64  \n",
      " 17  duration_ms       263 non-null    int64  \n",
      "dtypes: float64(9), int64(6), object(3)\n",
      "memory usage: 37.1+ KB\n"
     ]
    }
   ],
   "source": [
    "data.info()"
   ]
  },
  {
   "cell_type": "code",
   "execution_count": 295,
   "id": "dc82e027",
   "metadata": {},
   "outputs": [
    {
     "data": {
      "text/html": [
       "<div>\n",
       "<style scoped>\n",
       "    .dataframe tbody tr th:only-of-type {\n",
       "        vertical-align: middle;\n",
       "    }\n",
       "\n",
       "    .dataframe tbody tr th {\n",
       "        vertical-align: top;\n",
       "    }\n",
       "\n",
       "    .dataframe thead th {\n",
       "        text-align: right;\n",
       "    }\n",
       "</style>\n",
       "<table border=\"1\" class=\"dataframe\">\n",
       "  <thead>\n",
       "    <tr style=\"text-align: right;\">\n",
       "      <th></th>\n",
       "      <th>artist_pop</th>\n",
       "      <th>track_pop</th>\n",
       "      <th>danceability</th>\n",
       "      <th>energy</th>\n",
       "      <th>loudness</th>\n",
       "      <th>mode</th>\n",
       "      <th>key</th>\n",
       "      <th>speechiness</th>\n",
       "      <th>acousticness</th>\n",
       "      <th>instrumentalness</th>\n",
       "      <th>liveness</th>\n",
       "      <th>valence</th>\n",
       "      <th>tempo</th>\n",
       "      <th>time_signature</th>\n",
       "      <th>duration_ms</th>\n",
       "    </tr>\n",
       "  </thead>\n",
       "  <tbody>\n",
       "    <tr>\n",
       "      <th>count</th>\n",
       "      <td>263.000000</td>\n",
       "      <td>263.000000</td>\n",
       "      <td>263.000000</td>\n",
       "      <td>263.000000</td>\n",
       "      <td>263.000000</td>\n",
       "      <td>263.000000</td>\n",
       "      <td>263.000000</td>\n",
       "      <td>263.000000</td>\n",
       "      <td>263.000000</td>\n",
       "      <td>263.000000</td>\n",
       "      <td>263.000000</td>\n",
       "      <td>263.000000</td>\n",
       "      <td>263.000000</td>\n",
       "      <td>263.000000</td>\n",
       "      <td>263.000000</td>\n",
       "    </tr>\n",
       "    <tr>\n",
       "      <th>mean</th>\n",
       "      <td>64.186312</td>\n",
       "      <td>59.844106</td>\n",
       "      <td>0.715338</td>\n",
       "      <td>0.682631</td>\n",
       "      <td>-6.300513</td>\n",
       "      <td>0.536122</td>\n",
       "      <td>5.809886</td>\n",
       "      <td>0.117268</td>\n",
       "      <td>0.193188</td>\n",
       "      <td>0.020244</td>\n",
       "      <td>0.202562</td>\n",
       "      <td>0.506149</td>\n",
       "      <td>122.883696</td>\n",
       "      <td>3.969582</td>\n",
       "      <td>174656.212928</td>\n",
       "    </tr>\n",
       "    <tr>\n",
       "      <th>std</th>\n",
       "      <td>18.146338</td>\n",
       "      <td>24.976524</td>\n",
       "      <td>0.117722</td>\n",
       "      <td>0.141756</td>\n",
       "      <td>1.905114</td>\n",
       "      <td>0.499644</td>\n",
       "      <td>3.657312</td>\n",
       "      <td>0.101417</td>\n",
       "      <td>0.214588</td>\n",
       "      <td>0.109370</td>\n",
       "      <td>0.151808</td>\n",
       "      <td>0.220757</td>\n",
       "      <td>24.396686</td>\n",
       "      <td>0.288168</td>\n",
       "      <td>34785.125564</td>\n",
       "    </tr>\n",
       "    <tr>\n",
       "      <th>min</th>\n",
       "      <td>18.000000</td>\n",
       "      <td>0.000000</td>\n",
       "      <td>0.308000</td>\n",
       "      <td>0.214000</td>\n",
       "      <td>-13.468000</td>\n",
       "      <td>0.000000</td>\n",
       "      <td>0.000000</td>\n",
       "      <td>0.025200</td>\n",
       "      <td>0.000038</td>\n",
       "      <td>0.000000</td>\n",
       "      <td>0.026500</td>\n",
       "      <td>0.036300</td>\n",
       "      <td>62.948000</td>\n",
       "      <td>1.000000</td>\n",
       "      <td>85742.000000</td>\n",
       "    </tr>\n",
       "    <tr>\n",
       "      <th>25%</th>\n",
       "      <td>50.000000</td>\n",
       "      <td>47.000000</td>\n",
       "      <td>0.646000</td>\n",
       "      <td>0.593000</td>\n",
       "      <td>-7.423500</td>\n",
       "      <td>0.000000</td>\n",
       "      <td>2.000000</td>\n",
       "      <td>0.044750</td>\n",
       "      <td>0.028100</td>\n",
       "      <td>0.000000</td>\n",
       "      <td>0.094350</td>\n",
       "      <td>0.349000</td>\n",
       "      <td>106.850500</td>\n",
       "      <td>4.000000</td>\n",
       "      <td>148646.000000</td>\n",
       "    </tr>\n",
       "    <tr>\n",
       "      <th>50%</th>\n",
       "      <td>64.000000</td>\n",
       "      <td>66.000000</td>\n",
       "      <td>0.726000</td>\n",
       "      <td>0.701000</td>\n",
       "      <td>-6.067000</td>\n",
       "      <td>1.000000</td>\n",
       "      <td>6.000000</td>\n",
       "      <td>0.070700</td>\n",
       "      <td>0.120000</td>\n",
       "      <td>0.000003</td>\n",
       "      <td>0.132000</td>\n",
       "      <td>0.485000</td>\n",
       "      <td>123.056000</td>\n",
       "      <td>4.000000</td>\n",
       "      <td>171028.000000</td>\n",
       "    </tr>\n",
       "    <tr>\n",
       "      <th>75%</th>\n",
       "      <td>81.000000</td>\n",
       "      <td>79.500000</td>\n",
       "      <td>0.796500</td>\n",
       "      <td>0.790500</td>\n",
       "      <td>-4.887000</td>\n",
       "      <td>1.000000</td>\n",
       "      <td>9.000000</td>\n",
       "      <td>0.156000</td>\n",
       "      <td>0.298500</td>\n",
       "      <td>0.000334</td>\n",
       "      <td>0.277500</td>\n",
       "      <td>0.680000</td>\n",
       "      <td>130.004500</td>\n",
       "      <td>4.000000</td>\n",
       "      <td>199047.000000</td>\n",
       "    </tr>\n",
       "    <tr>\n",
       "      <th>max</th>\n",
       "      <td>95.000000</td>\n",
       "      <td>97.000000</td>\n",
       "      <td>0.961000</td>\n",
       "      <td>0.955000</td>\n",
       "      <td>-2.634000</td>\n",
       "      <td>1.000000</td>\n",
       "      <td>11.000000</td>\n",
       "      <td>0.481000</td>\n",
       "      <td>0.965000</td>\n",
       "      <td>0.939000</td>\n",
       "      <td>0.790000</td>\n",
       "      <td>0.956000</td>\n",
       "      <td>187.906000</td>\n",
       "      <td>5.000000</td>\n",
       "      <td>298933.000000</td>\n",
       "    </tr>\n",
       "  </tbody>\n",
       "</table>\n",
       "</div>"
      ],
      "text/plain": [
       "       artist_pop   track_pop  danceability      energy    loudness  \\\n",
       "count  263.000000  263.000000    263.000000  263.000000  263.000000   \n",
       "mean    64.186312   59.844106      0.715338    0.682631   -6.300513   \n",
       "std     18.146338   24.976524      0.117722    0.141756    1.905114   \n",
       "min     18.000000    0.000000      0.308000    0.214000  -13.468000   \n",
       "25%     50.000000   47.000000      0.646000    0.593000   -7.423500   \n",
       "50%     64.000000   66.000000      0.726000    0.701000   -6.067000   \n",
       "75%     81.000000   79.500000      0.796500    0.790500   -4.887000   \n",
       "max     95.000000   97.000000      0.961000    0.955000   -2.634000   \n",
       "\n",
       "             mode         key  speechiness  acousticness  instrumentalness  \\\n",
       "count  263.000000  263.000000   263.000000    263.000000        263.000000   \n",
       "mean     0.536122    5.809886     0.117268      0.193188          0.020244   \n",
       "std      0.499644    3.657312     0.101417      0.214588          0.109370   \n",
       "min      0.000000    0.000000     0.025200      0.000038          0.000000   \n",
       "25%      0.000000    2.000000     0.044750      0.028100          0.000000   \n",
       "50%      1.000000    6.000000     0.070700      0.120000          0.000003   \n",
       "75%      1.000000    9.000000     0.156000      0.298500          0.000334   \n",
       "max      1.000000   11.000000     0.481000      0.965000          0.939000   \n",
       "\n",
       "         liveness     valence       tempo  time_signature    duration_ms  \n",
       "count  263.000000  263.000000  263.000000      263.000000     263.000000  \n",
       "mean     0.202562    0.506149  122.883696        3.969582  174656.212928  \n",
       "std      0.151808    0.220757   24.396686        0.288168   34785.125564  \n",
       "min      0.026500    0.036300   62.948000        1.000000   85742.000000  \n",
       "25%      0.094350    0.349000  106.850500        4.000000  148646.000000  \n",
       "50%      0.132000    0.485000  123.056000        4.000000  171028.000000  \n",
       "75%      0.277500    0.680000  130.004500        4.000000  199047.000000  \n",
       "max      0.790000    0.956000  187.906000        5.000000  298933.000000  "
      ]
     },
     "execution_count": 295,
     "metadata": {},
     "output_type": "execute_result"
    }
   ],
   "source": [
    "data.describe()"
   ]
  },
  {
   "cell_type": "code",
   "execution_count": 296,
   "id": "05fefc68",
   "metadata": {},
   "outputs": [
    {
     "data": {
      "text/plain": [
       "0"
      ]
     },
     "execution_count": 296,
     "metadata": {},
     "output_type": "execute_result"
    }
   ],
   "source": [
    "data.duplicated().sum()"
   ]
  },
  {
   "cell_type": "code",
   "execution_count": 297,
   "id": "6f0cb0ab",
   "metadata": {},
   "outputs": [
    {
     "data": {
      "text/plain": [
       "track_name          0\n",
       "artist_name         0\n",
       "artist_pop          0\n",
       "album               0\n",
       "track_pop           0\n",
       "danceability        0\n",
       "energy              0\n",
       "loudness            0\n",
       "mode                0\n",
       "key                 0\n",
       "speechiness         0\n",
       "acousticness        0\n",
       "instrumentalness    0\n",
       "liveness            0\n",
       "valence             0\n",
       "tempo               0\n",
       "time_signature      0\n",
       "duration_ms         0\n",
       "dtype: int64"
      ]
     },
     "execution_count": 297,
     "metadata": {},
     "output_type": "execute_result"
    }
   ],
   "source": [
    "data.isnull().sum()"
   ]
  },
  {
   "cell_type": "code",
   "execution_count": 298,
   "id": "f21c4992",
   "metadata": {},
   "outputs": [
    {
     "data": {
      "text/plain": [
       "track_name          0\n",
       "artist_name         0\n",
       "artist_pop          0\n",
       "album               0\n",
       "track_pop           0\n",
       "danceability        0\n",
       "energy              0\n",
       "loudness            0\n",
       "mode                0\n",
       "key                 0\n",
       "speechiness         0\n",
       "acousticness        0\n",
       "instrumentalness    0\n",
       "liveness            0\n",
       "valence             0\n",
       "tempo               0\n",
       "time_signature      0\n",
       "duration_ms         0\n",
       "dtype: int64"
      ]
     },
     "execution_count": 298,
     "metadata": {},
     "output_type": "execute_result"
    }
   ],
   "source": [
    "data.isna().sum()"
   ]
  },
  {
   "cell_type": "code",
   "execution_count": 299,
   "id": "dd229cf3",
   "metadata": {
    "scrolled": true
   },
   "outputs": [
    {
     "name": "stdout",
     "output_type": "stream",
     "text": [
      "0 track_name\n",
      "1 artist_name\n",
      "2 artist_pop\n",
      "3 album\n",
      "4 track_pop\n",
      "5 danceability\n",
      "6 energy\n",
      "7 loudness\n",
      "8 mode\n",
      "9 key\n",
      "10 speechiness\n",
      "11 acousticness\n",
      "12 instrumentalness\n",
      "13 liveness\n",
      "14 valence\n",
      "15 tempo\n",
      "16 time_signature\n",
      "17 duration_ms\n"
     ]
    }
   ],
   "source": [
    "for index,columnName in enumerate(data.columns):\n",
    "    print(index,columnName)\n"
   ]
  },
  {
   "cell_type": "markdown",
   "id": "b761e0bb",
   "metadata": {},
   "source": [
    "## Data Visualization"
   ]
  },
  {
   "cell_type": "code",
   "execution_count": 300,
   "id": "317ca719",
   "metadata": {},
   "outputs": [
    {
     "data": {
      "text/html": [
       "<div>\n",
       "<style scoped>\n",
       "    .dataframe tbody tr th:only-of-type {\n",
       "        vertical-align: middle;\n",
       "    }\n",
       "\n",
       "    .dataframe tbody tr th {\n",
       "        vertical-align: top;\n",
       "    }\n",
       "\n",
       "    .dataframe thead th {\n",
       "        text-align: right;\n",
       "    }\n",
       "</style>\n",
       "<table border=\"1\" class=\"dataframe\">\n",
       "  <thead>\n",
       "    <tr style=\"text-align: right;\">\n",
       "      <th></th>\n",
       "      <th>track_name</th>\n",
       "      <th>artist_name</th>\n",
       "      <th>artist_pop</th>\n",
       "      <th>album</th>\n",
       "      <th>track_pop</th>\n",
       "      <th>danceability</th>\n",
       "      <th>energy</th>\n",
       "      <th>loudness</th>\n",
       "      <th>mode</th>\n",
       "      <th>key</th>\n",
       "      <th>speechiness</th>\n",
       "      <th>acousticness</th>\n",
       "      <th>instrumentalness</th>\n",
       "      <th>liveness</th>\n",
       "      <th>valence</th>\n",
       "      <th>tempo</th>\n",
       "      <th>time_signature</th>\n",
       "      <th>duration_ms</th>\n",
       "    </tr>\n",
       "  </thead>\n",
       "  <tbody>\n",
       "    <tr>\n",
       "      <th>0</th>\n",
       "      <td>Running Up That Hill (A Deal With God)</td>\n",
       "      <td>Kate Bush</td>\n",
       "      <td>81</td>\n",
       "      <td>Hounds Of Love</td>\n",
       "      <td>95</td>\n",
       "      <td>0.629</td>\n",
       "      <td>0.547</td>\n",
       "      <td>-13.123</td>\n",
       "      <td>0</td>\n",
       "      <td>10</td>\n",
       "      <td>0.0550</td>\n",
       "      <td>0.7200</td>\n",
       "      <td>0.003140</td>\n",
       "      <td>0.0604</td>\n",
       "      <td>0.197</td>\n",
       "      <td>108.375</td>\n",
       "      <td>4</td>\n",
       "      <td>298933</td>\n",
       "    </tr>\n",
       "    <tr>\n",
       "      <th>1</th>\n",
       "      <td>As It Was</td>\n",
       "      <td>Harry Styles</td>\n",
       "      <td>91</td>\n",
       "      <td>As It Was</td>\n",
       "      <td>96</td>\n",
       "      <td>0.520</td>\n",
       "      <td>0.731</td>\n",
       "      <td>-5.338</td>\n",
       "      <td>0</td>\n",
       "      <td>6</td>\n",
       "      <td>0.0557</td>\n",
       "      <td>0.3420</td>\n",
       "      <td>0.001010</td>\n",
       "      <td>0.3110</td>\n",
       "      <td>0.662</td>\n",
       "      <td>173.930</td>\n",
       "      <td>4</td>\n",
       "      <td>167303</td>\n",
       "    </tr>\n",
       "    <tr>\n",
       "      <th>2</th>\n",
       "      <td>Sunroof</td>\n",
       "      <td>Nicky Youre</td>\n",
       "      <td>73</td>\n",
       "      <td>Sunroof</td>\n",
       "      <td>44</td>\n",
       "      <td>0.768</td>\n",
       "      <td>0.716</td>\n",
       "      <td>-5.110</td>\n",
       "      <td>1</td>\n",
       "      <td>10</td>\n",
       "      <td>0.0404</td>\n",
       "      <td>0.3500</td>\n",
       "      <td>0.000000</td>\n",
       "      <td>0.1500</td>\n",
       "      <td>0.841</td>\n",
       "      <td>131.430</td>\n",
       "      <td>4</td>\n",
       "      <td>163026</td>\n",
       "    </tr>\n",
       "    <tr>\n",
       "      <th>3</th>\n",
       "      <td>Heat Waves</td>\n",
       "      <td>Glass Animals</td>\n",
       "      <td>80</td>\n",
       "      <td>Dreamland (+ Bonus Levels)</td>\n",
       "      <td>89</td>\n",
       "      <td>0.761</td>\n",
       "      <td>0.525</td>\n",
       "      <td>-6.900</td>\n",
       "      <td>1</td>\n",
       "      <td>11</td>\n",
       "      <td>0.0944</td>\n",
       "      <td>0.4400</td>\n",
       "      <td>0.000007</td>\n",
       "      <td>0.0921</td>\n",
       "      <td>0.531</td>\n",
       "      <td>80.870</td>\n",
       "      <td>4</td>\n",
       "      <td>238805</td>\n",
       "    </tr>\n",
       "    <tr>\n",
       "      <th>4</th>\n",
       "      <td>About Damn Time</td>\n",
       "      <td>Lizzo</td>\n",
       "      <td>81</td>\n",
       "      <td>About Damn Time</td>\n",
       "      <td>92</td>\n",
       "      <td>0.836</td>\n",
       "      <td>0.743</td>\n",
       "      <td>-6.305</td>\n",
       "      <td>0</td>\n",
       "      <td>10</td>\n",
       "      <td>0.0656</td>\n",
       "      <td>0.0995</td>\n",
       "      <td>0.000000</td>\n",
       "      <td>0.3350</td>\n",
       "      <td>0.722</td>\n",
       "      <td>108.966</td>\n",
       "      <td>4</td>\n",
       "      <td>191822</td>\n",
       "    </tr>\n",
       "  </tbody>\n",
       "</table>\n",
       "</div>"
      ],
      "text/plain": [
       "                               track_name    artist_name  artist_pop  \\\n",
       "0  Running Up That Hill (A Deal With God)      Kate Bush          81   \n",
       "1                               As It Was   Harry Styles          91   \n",
       "2                                 Sunroof    Nicky Youre          73   \n",
       "3                              Heat Waves  Glass Animals          80   \n",
       "4                         About Damn Time          Lizzo          81   \n",
       "\n",
       "                        album  track_pop  danceability  energy  loudness  \\\n",
       "0              Hounds Of Love         95         0.629   0.547   -13.123   \n",
       "1                   As It Was         96         0.520   0.731    -5.338   \n",
       "2                     Sunroof         44         0.768   0.716    -5.110   \n",
       "3  Dreamland (+ Bonus Levels)         89         0.761   0.525    -6.900   \n",
       "4             About Damn Time         92         0.836   0.743    -6.305   \n",
       "\n",
       "   mode  key  speechiness  acousticness  instrumentalness  liveness  valence  \\\n",
       "0     0   10       0.0550        0.7200          0.003140    0.0604    0.197   \n",
       "1     0    6       0.0557        0.3420          0.001010    0.3110    0.662   \n",
       "2     1   10       0.0404        0.3500          0.000000    0.1500    0.841   \n",
       "3     1   11       0.0944        0.4400          0.000007    0.0921    0.531   \n",
       "4     0   10       0.0656        0.0995          0.000000    0.3350    0.722   \n",
       "\n",
       "     tempo  time_signature  duration_ms  \n",
       "0  108.375               4       298933  \n",
       "1  173.930               4       167303  \n",
       "2  131.430               4       163026  \n",
       "3   80.870               4       238805  \n",
       "4  108.966               4       191822  "
      ]
     },
     "execution_count": 300,
     "metadata": {},
     "output_type": "execute_result"
    }
   ],
   "source": [
    "data.head()"
   ]
  },
  {
   "cell_type": "code",
   "execution_count": 301,
   "id": "4a140cf2",
   "metadata": {},
   "outputs": [
    {
     "data": {
      "text/plain": [
       "dtype('int64')"
      ]
     },
     "execution_count": 301,
     "metadata": {},
     "output_type": "execute_result"
    }
   ],
   "source": [
    "data.key.apply('str')\n",
    "data.key.dtypes"
   ]
  },
  {
   "cell_type": "code",
   "execution_count": 302,
   "id": "a472d4b8",
   "metadata": {},
   "outputs": [],
   "source": [
    "majorKeys = {\n",
    "    0:'E Major',\n",
    "    1:'B Major',\n",
    "    2:'F# Major',\n",
    "    3:'DFlat Major',\n",
    "    4:'AFlat Major',\n",
    "    5:'EFlat Major',\n",
    "    6:'BFlat Major',\n",
    "    7:'F Major',\n",
    "    8:'C Major',\n",
    "    9:'G Major',\n",
    "    10:'D Major',\n",
    "    11:'A Major'\n",
    "}\n",
    "\n",
    "minorKeys = {\n",
    "    0:'DFlat Minor',\n",
    "    1:'AFlat Minor',\n",
    "    2:'EFlat Minor',\n",
    "    3:'BFlat Minor',\n",
    "    4:'F Minor',\n",
    "    5:'C Minor',\n",
    "    6:'G Minor',\n",
    "    7:'D Minor',\n",
    "    8:'A Minor',\n",
    "    9:'E Minor',\n",
    "    10:'B Minor',\n",
    "    11:'F# Minor'\n",
    "}"
   ]
  },
  {
   "cell_type": "code",
   "execution_count": 303,
   "id": "6bef0f74",
   "metadata": {},
   "outputs": [
    {
     "data": {
      "text/html": [
       "<div>\n",
       "<style scoped>\n",
       "    .dataframe tbody tr th:only-of-type {\n",
       "        vertical-align: middle;\n",
       "    }\n",
       "\n",
       "    .dataframe tbody tr th {\n",
       "        vertical-align: top;\n",
       "    }\n",
       "\n",
       "    .dataframe thead th {\n",
       "        text-align: right;\n",
       "    }\n",
       "</style>\n",
       "<table border=\"1\" class=\"dataframe\">\n",
       "  <thead>\n",
       "    <tr style=\"text-align: right;\">\n",
       "      <th></th>\n",
       "      <th>track_name</th>\n",
       "      <th>artist_name</th>\n",
       "      <th>artist_pop</th>\n",
       "      <th>album</th>\n",
       "      <th>track_pop</th>\n",
       "      <th>danceability</th>\n",
       "      <th>energy</th>\n",
       "      <th>loudness</th>\n",
       "      <th>mode</th>\n",
       "      <th>key</th>\n",
       "      <th>speechiness</th>\n",
       "      <th>acousticness</th>\n",
       "      <th>instrumentalness</th>\n",
       "      <th>liveness</th>\n",
       "      <th>valence</th>\n",
       "      <th>tempo</th>\n",
       "      <th>time_signature</th>\n",
       "      <th>duration_ms</th>\n",
       "    </tr>\n",
       "  </thead>\n",
       "  <tbody>\n",
       "    <tr>\n",
       "      <th>0</th>\n",
       "      <td>Running Up That Hill (A Deal With God)</td>\n",
       "      <td>Kate Bush</td>\n",
       "      <td>81</td>\n",
       "      <td>Hounds Of Love</td>\n",
       "      <td>95</td>\n",
       "      <td>0.629</td>\n",
       "      <td>0.547</td>\n",
       "      <td>-13.123</td>\n",
       "      <td>0</td>\n",
       "      <td>10</td>\n",
       "      <td>0.0550</td>\n",
       "      <td>0.7200</td>\n",
       "      <td>0.003140</td>\n",
       "      <td>0.0604</td>\n",
       "      <td>0.197</td>\n",
       "      <td>108.375</td>\n",
       "      <td>4</td>\n",
       "      <td>298933</td>\n",
       "    </tr>\n",
       "    <tr>\n",
       "      <th>1</th>\n",
       "      <td>As It Was</td>\n",
       "      <td>Harry Styles</td>\n",
       "      <td>91</td>\n",
       "      <td>As It Was</td>\n",
       "      <td>96</td>\n",
       "      <td>0.520</td>\n",
       "      <td>0.731</td>\n",
       "      <td>-5.338</td>\n",
       "      <td>0</td>\n",
       "      <td>6</td>\n",
       "      <td>0.0557</td>\n",
       "      <td>0.3420</td>\n",
       "      <td>0.001010</td>\n",
       "      <td>0.3110</td>\n",
       "      <td>0.662</td>\n",
       "      <td>173.930</td>\n",
       "      <td>4</td>\n",
       "      <td>167303</td>\n",
       "    </tr>\n",
       "    <tr>\n",
       "      <th>2</th>\n",
       "      <td>Sunroof</td>\n",
       "      <td>Nicky Youre</td>\n",
       "      <td>73</td>\n",
       "      <td>Sunroof</td>\n",
       "      <td>44</td>\n",
       "      <td>0.768</td>\n",
       "      <td>0.716</td>\n",
       "      <td>-5.110</td>\n",
       "      <td>1</td>\n",
       "      <td>10</td>\n",
       "      <td>0.0404</td>\n",
       "      <td>0.3500</td>\n",
       "      <td>0.000000</td>\n",
       "      <td>0.1500</td>\n",
       "      <td>0.841</td>\n",
       "      <td>131.430</td>\n",
       "      <td>4</td>\n",
       "      <td>163026</td>\n",
       "    </tr>\n",
       "    <tr>\n",
       "      <th>3</th>\n",
       "      <td>Heat Waves</td>\n",
       "      <td>Glass Animals</td>\n",
       "      <td>80</td>\n",
       "      <td>Dreamland (+ Bonus Levels)</td>\n",
       "      <td>89</td>\n",
       "      <td>0.761</td>\n",
       "      <td>0.525</td>\n",
       "      <td>-6.900</td>\n",
       "      <td>1</td>\n",
       "      <td>11</td>\n",
       "      <td>0.0944</td>\n",
       "      <td>0.4400</td>\n",
       "      <td>0.000007</td>\n",
       "      <td>0.0921</td>\n",
       "      <td>0.531</td>\n",
       "      <td>80.870</td>\n",
       "      <td>4</td>\n",
       "      <td>238805</td>\n",
       "    </tr>\n",
       "    <tr>\n",
       "      <th>4</th>\n",
       "      <td>About Damn Time</td>\n",
       "      <td>Lizzo</td>\n",
       "      <td>81</td>\n",
       "      <td>About Damn Time</td>\n",
       "      <td>92</td>\n",
       "      <td>0.836</td>\n",
       "      <td>0.743</td>\n",
       "      <td>-6.305</td>\n",
       "      <td>0</td>\n",
       "      <td>10</td>\n",
       "      <td>0.0656</td>\n",
       "      <td>0.0995</td>\n",
       "      <td>0.000000</td>\n",
       "      <td>0.3350</td>\n",
       "      <td>0.722</td>\n",
       "      <td>108.966</td>\n",
       "      <td>4</td>\n",
       "      <td>191822</td>\n",
       "    </tr>\n",
       "  </tbody>\n",
       "</table>\n",
       "</div>"
      ],
      "text/plain": [
       "                               track_name    artist_name  artist_pop  \\\n",
       "0  Running Up That Hill (A Deal With God)      Kate Bush          81   \n",
       "1                               As It Was   Harry Styles          91   \n",
       "2                                 Sunroof    Nicky Youre          73   \n",
       "3                              Heat Waves  Glass Animals          80   \n",
       "4                         About Damn Time          Lizzo          81   \n",
       "\n",
       "                        album  track_pop  danceability  energy  loudness  \\\n",
       "0              Hounds Of Love         95         0.629   0.547   -13.123   \n",
       "1                   As It Was         96         0.520   0.731    -5.338   \n",
       "2                     Sunroof         44         0.768   0.716    -5.110   \n",
       "3  Dreamland (+ Bonus Levels)         89         0.761   0.525    -6.900   \n",
       "4             About Damn Time         92         0.836   0.743    -6.305   \n",
       "\n",
       "   mode  key  speechiness  acousticness  instrumentalness  liveness  valence  \\\n",
       "0     0   10       0.0550        0.7200          0.003140    0.0604    0.197   \n",
       "1     0    6       0.0557        0.3420          0.001010    0.3110    0.662   \n",
       "2     1   10       0.0404        0.3500          0.000000    0.1500    0.841   \n",
       "3     1   11       0.0944        0.4400          0.000007    0.0921    0.531   \n",
       "4     0   10       0.0656        0.0995          0.000000    0.3350    0.722   \n",
       "\n",
       "     tempo  time_signature  duration_ms  \n",
       "0  108.375               4       298933  \n",
       "1  173.930               4       167303  \n",
       "2  131.430               4       163026  \n",
       "3   80.870               4       238805  \n",
       "4  108.966               4       191822  "
      ]
     },
     "execution_count": 303,
     "metadata": {},
     "output_type": "execute_result"
    }
   ],
   "source": [
    "data.head()"
   ]
  },
  {
   "cell_type": "code",
   "execution_count": 304,
   "id": "9ef789d2",
   "metadata": {},
   "outputs": [
    {
     "data": {
      "text/html": [
       "<div>\n",
       "<style scoped>\n",
       "    .dataframe tbody tr th:only-of-type {\n",
       "        vertical-align: middle;\n",
       "    }\n",
       "\n",
       "    .dataframe tbody tr th {\n",
       "        vertical-align: top;\n",
       "    }\n",
       "\n",
       "    .dataframe thead th {\n",
       "        text-align: right;\n",
       "    }\n",
       "</style>\n",
       "<table border=\"1\" class=\"dataframe\">\n",
       "  <thead>\n",
       "    <tr style=\"text-align: right;\">\n",
       "      <th></th>\n",
       "      <th>track_name</th>\n",
       "      <th>artist_name</th>\n",
       "      <th>artist_pop</th>\n",
       "      <th>album</th>\n",
       "      <th>track_pop</th>\n",
       "      <th>danceability</th>\n",
       "      <th>energy</th>\n",
       "      <th>loudness</th>\n",
       "      <th>mode</th>\n",
       "      <th>key</th>\n",
       "      <th>speechiness</th>\n",
       "      <th>acousticness</th>\n",
       "      <th>instrumentalness</th>\n",
       "      <th>liveness</th>\n",
       "      <th>valence</th>\n",
       "      <th>tempo</th>\n",
       "      <th>time_signature</th>\n",
       "      <th>duration_ms</th>\n",
       "    </tr>\n",
       "  </thead>\n",
       "  <tbody>\n",
       "    <tr>\n",
       "      <th>0</th>\n",
       "      <td>Running Up That Hill (A Deal With God)</td>\n",
       "      <td>Kate Bush</td>\n",
       "      <td>81</td>\n",
       "      <td>Hounds Of Love</td>\n",
       "      <td>95</td>\n",
       "      <td>0.629</td>\n",
       "      <td>0.547</td>\n",
       "      <td>-13.123</td>\n",
       "      <td>minor</td>\n",
       "      <td>10</td>\n",
       "      <td>0.0550</td>\n",
       "      <td>0.7200</td>\n",
       "      <td>0.003140</td>\n",
       "      <td>0.0604</td>\n",
       "      <td>0.197</td>\n",
       "      <td>108.375</td>\n",
       "      <td>4</td>\n",
       "      <td>298933</td>\n",
       "    </tr>\n",
       "    <tr>\n",
       "      <th>1</th>\n",
       "      <td>As It Was</td>\n",
       "      <td>Harry Styles</td>\n",
       "      <td>91</td>\n",
       "      <td>As It Was</td>\n",
       "      <td>96</td>\n",
       "      <td>0.520</td>\n",
       "      <td>0.731</td>\n",
       "      <td>-5.338</td>\n",
       "      <td>minor</td>\n",
       "      <td>6</td>\n",
       "      <td>0.0557</td>\n",
       "      <td>0.3420</td>\n",
       "      <td>0.001010</td>\n",
       "      <td>0.3110</td>\n",
       "      <td>0.662</td>\n",
       "      <td>173.930</td>\n",
       "      <td>4</td>\n",
       "      <td>167303</td>\n",
       "    </tr>\n",
       "    <tr>\n",
       "      <th>2</th>\n",
       "      <td>Sunroof</td>\n",
       "      <td>Nicky Youre</td>\n",
       "      <td>73</td>\n",
       "      <td>Sunroof</td>\n",
       "      <td>44</td>\n",
       "      <td>0.768</td>\n",
       "      <td>0.716</td>\n",
       "      <td>-5.110</td>\n",
       "      <td>major</td>\n",
       "      <td>10</td>\n",
       "      <td>0.0404</td>\n",
       "      <td>0.3500</td>\n",
       "      <td>0.000000</td>\n",
       "      <td>0.1500</td>\n",
       "      <td>0.841</td>\n",
       "      <td>131.430</td>\n",
       "      <td>4</td>\n",
       "      <td>163026</td>\n",
       "    </tr>\n",
       "    <tr>\n",
       "      <th>3</th>\n",
       "      <td>Heat Waves</td>\n",
       "      <td>Glass Animals</td>\n",
       "      <td>80</td>\n",
       "      <td>Dreamland (+ Bonus Levels)</td>\n",
       "      <td>89</td>\n",
       "      <td>0.761</td>\n",
       "      <td>0.525</td>\n",
       "      <td>-6.900</td>\n",
       "      <td>major</td>\n",
       "      <td>11</td>\n",
       "      <td>0.0944</td>\n",
       "      <td>0.4400</td>\n",
       "      <td>0.000007</td>\n",
       "      <td>0.0921</td>\n",
       "      <td>0.531</td>\n",
       "      <td>80.870</td>\n",
       "      <td>4</td>\n",
       "      <td>238805</td>\n",
       "    </tr>\n",
       "    <tr>\n",
       "      <th>4</th>\n",
       "      <td>About Damn Time</td>\n",
       "      <td>Lizzo</td>\n",
       "      <td>81</td>\n",
       "      <td>About Damn Time</td>\n",
       "      <td>92</td>\n",
       "      <td>0.836</td>\n",
       "      <td>0.743</td>\n",
       "      <td>-6.305</td>\n",
       "      <td>minor</td>\n",
       "      <td>10</td>\n",
       "      <td>0.0656</td>\n",
       "      <td>0.0995</td>\n",
       "      <td>0.000000</td>\n",
       "      <td>0.3350</td>\n",
       "      <td>0.722</td>\n",
       "      <td>108.966</td>\n",
       "      <td>4</td>\n",
       "      <td>191822</td>\n",
       "    </tr>\n",
       "  </tbody>\n",
       "</table>\n",
       "</div>"
      ],
      "text/plain": [
       "                               track_name    artist_name  artist_pop  \\\n",
       "0  Running Up That Hill (A Deal With God)      Kate Bush          81   \n",
       "1                               As It Was   Harry Styles          91   \n",
       "2                                 Sunroof    Nicky Youre          73   \n",
       "3                              Heat Waves  Glass Animals          80   \n",
       "4                         About Damn Time          Lizzo          81   \n",
       "\n",
       "                        album  track_pop  danceability  energy  loudness  \\\n",
       "0              Hounds Of Love         95         0.629   0.547   -13.123   \n",
       "1                   As It Was         96         0.520   0.731    -5.338   \n",
       "2                     Sunroof         44         0.768   0.716    -5.110   \n",
       "3  Dreamland (+ Bonus Levels)         89         0.761   0.525    -6.900   \n",
       "4             About Damn Time         92         0.836   0.743    -6.305   \n",
       "\n",
       "    mode  key  speechiness  acousticness  instrumentalness  liveness  valence  \\\n",
       "0  minor   10       0.0550        0.7200          0.003140    0.0604    0.197   \n",
       "1  minor    6       0.0557        0.3420          0.001010    0.3110    0.662   \n",
       "2  major   10       0.0404        0.3500          0.000000    0.1500    0.841   \n",
       "3  major   11       0.0944        0.4400          0.000007    0.0921    0.531   \n",
       "4  minor   10       0.0656        0.0995          0.000000    0.3350    0.722   \n",
       "\n",
       "     tempo  time_signature  duration_ms  \n",
       "0  108.375               4       298933  \n",
       "1  173.930               4       167303  \n",
       "2  131.430               4       163026  \n",
       "3   80.870               4       238805  \n",
       "4  108.966               4       191822  "
      ]
     },
     "execution_count": 304,
     "metadata": {},
     "output_type": "execute_result"
    }
   ],
   "source": [
    "data['mode'].replace({\n",
    "    0:'minor',\n",
    "    1:'major'\n",
    "},inplace=True)\n",
    "\n",
    "data.head()"
   ]
  },
  {
   "cell_type": "code",
   "execution_count": 305,
   "id": "bfcc9f7b",
   "metadata": {},
   "outputs": [
    {
     "data": {
      "text/html": [
       "<div>\n",
       "<style scoped>\n",
       "    .dataframe tbody tr th:only-of-type {\n",
       "        vertical-align: middle;\n",
       "    }\n",
       "\n",
       "    .dataframe tbody tr th {\n",
       "        vertical-align: top;\n",
       "    }\n",
       "\n",
       "    .dataframe thead th {\n",
       "        text-align: right;\n",
       "    }\n",
       "</style>\n",
       "<table border=\"1\" class=\"dataframe\">\n",
       "  <thead>\n",
       "    <tr style=\"text-align: right;\">\n",
       "      <th></th>\n",
       "      <th>track_name</th>\n",
       "      <th>artist_name</th>\n",
       "      <th>artist_pop</th>\n",
       "      <th>album</th>\n",
       "      <th>track_pop</th>\n",
       "      <th>danceability</th>\n",
       "      <th>energy</th>\n",
       "      <th>loudness</th>\n",
       "      <th>mode</th>\n",
       "      <th>key</th>\n",
       "      <th>speechiness</th>\n",
       "      <th>acousticness</th>\n",
       "      <th>instrumentalness</th>\n",
       "      <th>liveness</th>\n",
       "      <th>valence</th>\n",
       "      <th>tempo</th>\n",
       "      <th>time_signature</th>\n",
       "      <th>duration_ms</th>\n",
       "    </tr>\n",
       "  </thead>\n",
       "  <tbody>\n",
       "    <tr>\n",
       "      <th>0</th>\n",
       "      <td>Running Up That Hill (A Deal With God)</td>\n",
       "      <td>Kate Bush</td>\n",
       "      <td>81</td>\n",
       "      <td>Hounds Of Love</td>\n",
       "      <td>95</td>\n",
       "      <td>0.629</td>\n",
       "      <td>0.547</td>\n",
       "      <td>-13.123</td>\n",
       "      <td>minor</td>\n",
       "      <td>B Minor</td>\n",
       "      <td>0.0550</td>\n",
       "      <td>0.7200</td>\n",
       "      <td>0.003140</td>\n",
       "      <td>0.0604</td>\n",
       "      <td>0.197</td>\n",
       "      <td>108.375</td>\n",
       "      <td>4</td>\n",
       "      <td>298933</td>\n",
       "    </tr>\n",
       "    <tr>\n",
       "      <th>1</th>\n",
       "      <td>As It Was</td>\n",
       "      <td>Harry Styles</td>\n",
       "      <td>91</td>\n",
       "      <td>As It Was</td>\n",
       "      <td>96</td>\n",
       "      <td>0.520</td>\n",
       "      <td>0.731</td>\n",
       "      <td>-5.338</td>\n",
       "      <td>minor</td>\n",
       "      <td>G Minor</td>\n",
       "      <td>0.0557</td>\n",
       "      <td>0.3420</td>\n",
       "      <td>0.001010</td>\n",
       "      <td>0.3110</td>\n",
       "      <td>0.662</td>\n",
       "      <td>173.930</td>\n",
       "      <td>4</td>\n",
       "      <td>167303</td>\n",
       "    </tr>\n",
       "    <tr>\n",
       "      <th>2</th>\n",
       "      <td>Sunroof</td>\n",
       "      <td>Nicky Youre</td>\n",
       "      <td>73</td>\n",
       "      <td>Sunroof</td>\n",
       "      <td>44</td>\n",
       "      <td>0.768</td>\n",
       "      <td>0.716</td>\n",
       "      <td>-5.110</td>\n",
       "      <td>major</td>\n",
       "      <td>B Minor</td>\n",
       "      <td>0.0404</td>\n",
       "      <td>0.3500</td>\n",
       "      <td>0.000000</td>\n",
       "      <td>0.1500</td>\n",
       "      <td>0.841</td>\n",
       "      <td>131.430</td>\n",
       "      <td>4</td>\n",
       "      <td>163026</td>\n",
       "    </tr>\n",
       "    <tr>\n",
       "      <th>3</th>\n",
       "      <td>Heat Waves</td>\n",
       "      <td>Glass Animals</td>\n",
       "      <td>80</td>\n",
       "      <td>Dreamland (+ Bonus Levels)</td>\n",
       "      <td>89</td>\n",
       "      <td>0.761</td>\n",
       "      <td>0.525</td>\n",
       "      <td>-6.900</td>\n",
       "      <td>major</td>\n",
       "      <td>F# Minor</td>\n",
       "      <td>0.0944</td>\n",
       "      <td>0.4400</td>\n",
       "      <td>0.000007</td>\n",
       "      <td>0.0921</td>\n",
       "      <td>0.531</td>\n",
       "      <td>80.870</td>\n",
       "      <td>4</td>\n",
       "      <td>238805</td>\n",
       "    </tr>\n",
       "    <tr>\n",
       "      <th>4</th>\n",
       "      <td>About Damn Time</td>\n",
       "      <td>Lizzo</td>\n",
       "      <td>81</td>\n",
       "      <td>About Damn Time</td>\n",
       "      <td>92</td>\n",
       "      <td>0.836</td>\n",
       "      <td>0.743</td>\n",
       "      <td>-6.305</td>\n",
       "      <td>minor</td>\n",
       "      <td>B Minor</td>\n",
       "      <td>0.0656</td>\n",
       "      <td>0.0995</td>\n",
       "      <td>0.000000</td>\n",
       "      <td>0.3350</td>\n",
       "      <td>0.722</td>\n",
       "      <td>108.966</td>\n",
       "      <td>4</td>\n",
       "      <td>191822</td>\n",
       "    </tr>\n",
       "  </tbody>\n",
       "</table>\n",
       "</div>"
      ],
      "text/plain": [
       "                               track_name    artist_name  artist_pop  \\\n",
       "0  Running Up That Hill (A Deal With God)      Kate Bush          81   \n",
       "1                               As It Was   Harry Styles          91   \n",
       "2                                 Sunroof    Nicky Youre          73   \n",
       "3                              Heat Waves  Glass Animals          80   \n",
       "4                         About Damn Time          Lizzo          81   \n",
       "\n",
       "                        album  track_pop  danceability  energy  loudness  \\\n",
       "0              Hounds Of Love         95         0.629   0.547   -13.123   \n",
       "1                   As It Was         96         0.520   0.731    -5.338   \n",
       "2                     Sunroof         44         0.768   0.716    -5.110   \n",
       "3  Dreamland (+ Bonus Levels)         89         0.761   0.525    -6.900   \n",
       "4             About Damn Time         92         0.836   0.743    -6.305   \n",
       "\n",
       "    mode       key  speechiness  acousticness  instrumentalness  liveness  \\\n",
       "0  minor   B Minor       0.0550        0.7200          0.003140    0.0604   \n",
       "1  minor   G Minor       0.0557        0.3420          0.001010    0.3110   \n",
       "2  major   B Minor       0.0404        0.3500          0.000000    0.1500   \n",
       "3  major  F# Minor       0.0944        0.4400          0.000007    0.0921   \n",
       "4  minor   B Minor       0.0656        0.0995          0.000000    0.3350   \n",
       "\n",
       "   valence    tempo  time_signature  duration_ms  \n",
       "0    0.197  108.375               4       298933  \n",
       "1    0.662  173.930               4       167303  \n",
       "2    0.841  131.430               4       163026  \n",
       "3    0.531   80.870               4       238805  \n",
       "4    0.722  108.966               4       191822  "
      ]
     },
     "execution_count": 305,
     "metadata": {},
     "output_type": "execute_result"
    }
   ],
   "source": [
    "\n",
    "data['key'].replace(minorKeys,inplace=True)\n",
    "data.head()\n",
    "\n",
    "\n",
    "# def replaceKey(df):\n",
    "#     if df['mode'] == 'minor':\n",
    "#         return df['key'].replace(minorKeys,True)\n",
    "#     else:\n",
    "#         return df['key'].replace(majorKeys,True)\n",
    "\n",
    "\n",
    "# data.apply(replaceKey,axis=1)"
   ]
  },
  {
   "cell_type": "code",
   "execution_count": 306,
   "id": "38c31bc2",
   "metadata": {},
   "outputs": [
    {
     "data": {
      "text/html": [
       "<div>\n",
       "<style scoped>\n",
       "    .dataframe tbody tr th:only-of-type {\n",
       "        vertical-align: middle;\n",
       "    }\n",
       "\n",
       "    .dataframe tbody tr th {\n",
       "        vertical-align: top;\n",
       "    }\n",
       "\n",
       "    .dataframe thead th {\n",
       "        text-align: right;\n",
       "    }\n",
       "</style>\n",
       "<table border=\"1\" class=\"dataframe\">\n",
       "  <thead>\n",
       "    <tr style=\"text-align: right;\">\n",
       "      <th></th>\n",
       "      <th>track_name</th>\n",
       "      <th>artist_name</th>\n",
       "      <th>artist_pop</th>\n",
       "      <th>album</th>\n",
       "      <th>track_pop</th>\n",
       "      <th>danceability</th>\n",
       "      <th>energy</th>\n",
       "      <th>loudness</th>\n",
       "      <th>mode</th>\n",
       "      <th>key</th>\n",
       "      <th>speechiness</th>\n",
       "      <th>acousticness</th>\n",
       "      <th>instrumentalness</th>\n",
       "      <th>liveness</th>\n",
       "      <th>valence</th>\n",
       "      <th>tempo</th>\n",
       "      <th>time_signature</th>\n",
       "      <th>duration_ms</th>\n",
       "    </tr>\n",
       "  </thead>\n",
       "  <tbody>\n",
       "    <tr>\n",
       "      <th>0</th>\n",
       "      <td>Running Up That Hill (A Deal With God)</td>\n",
       "      <td>Kate Bush</td>\n",
       "      <td>81</td>\n",
       "      <td>Hounds Of Love</td>\n",
       "      <td>95</td>\n",
       "      <td>0.629</td>\n",
       "      <td>0.547</td>\n",
       "      <td>-13.123</td>\n",
       "      <td>minor</td>\n",
       "      <td>None</td>\n",
       "      <td>0.0550</td>\n",
       "      <td>0.7200</td>\n",
       "      <td>0.003140</td>\n",
       "      <td>0.0604</td>\n",
       "      <td>0.197</td>\n",
       "      <td>108.375</td>\n",
       "      <td>4</td>\n",
       "      <td>298933</td>\n",
       "    </tr>\n",
       "    <tr>\n",
       "      <th>1</th>\n",
       "      <td>As It Was</td>\n",
       "      <td>Harry Styles</td>\n",
       "      <td>91</td>\n",
       "      <td>As It Was</td>\n",
       "      <td>96</td>\n",
       "      <td>0.520</td>\n",
       "      <td>0.731</td>\n",
       "      <td>-5.338</td>\n",
       "      <td>minor</td>\n",
       "      <td>None</td>\n",
       "      <td>0.0557</td>\n",
       "      <td>0.3420</td>\n",
       "      <td>0.001010</td>\n",
       "      <td>0.3110</td>\n",
       "      <td>0.662</td>\n",
       "      <td>173.930</td>\n",
       "      <td>4</td>\n",
       "      <td>167303</td>\n",
       "    </tr>\n",
       "    <tr>\n",
       "      <th>2</th>\n",
       "      <td>Sunroof</td>\n",
       "      <td>Nicky Youre</td>\n",
       "      <td>73</td>\n",
       "      <td>Sunroof</td>\n",
       "      <td>44</td>\n",
       "      <td>0.768</td>\n",
       "      <td>0.716</td>\n",
       "      <td>-5.110</td>\n",
       "      <td>major</td>\n",
       "      <td>None</td>\n",
       "      <td>0.0404</td>\n",
       "      <td>0.3500</td>\n",
       "      <td>0.000000</td>\n",
       "      <td>0.1500</td>\n",
       "      <td>0.841</td>\n",
       "      <td>131.430</td>\n",
       "      <td>4</td>\n",
       "      <td>163026</td>\n",
       "    </tr>\n",
       "    <tr>\n",
       "      <th>3</th>\n",
       "      <td>Heat Waves</td>\n",
       "      <td>Glass Animals</td>\n",
       "      <td>80</td>\n",
       "      <td>Dreamland (+ Bonus Levels)</td>\n",
       "      <td>89</td>\n",
       "      <td>0.761</td>\n",
       "      <td>0.525</td>\n",
       "      <td>-6.900</td>\n",
       "      <td>major</td>\n",
       "      <td>None</td>\n",
       "      <td>0.0944</td>\n",
       "      <td>0.4400</td>\n",
       "      <td>0.000007</td>\n",
       "      <td>0.0921</td>\n",
       "      <td>0.531</td>\n",
       "      <td>80.870</td>\n",
       "      <td>4</td>\n",
       "      <td>238805</td>\n",
       "    </tr>\n",
       "    <tr>\n",
       "      <th>4</th>\n",
       "      <td>About Damn Time</td>\n",
       "      <td>Lizzo</td>\n",
       "      <td>81</td>\n",
       "      <td>About Damn Time</td>\n",
       "      <td>92</td>\n",
       "      <td>0.836</td>\n",
       "      <td>0.743</td>\n",
       "      <td>-6.305</td>\n",
       "      <td>minor</td>\n",
       "      <td>None</td>\n",
       "      <td>0.0656</td>\n",
       "      <td>0.0995</td>\n",
       "      <td>0.000000</td>\n",
       "      <td>0.3350</td>\n",
       "      <td>0.722</td>\n",
       "      <td>108.966</td>\n",
       "      <td>4</td>\n",
       "      <td>191822</td>\n",
       "    </tr>\n",
       "  </tbody>\n",
       "</table>\n",
       "</div>"
      ],
      "text/plain": [
       "                               track_name    artist_name  artist_pop  \\\n",
       "0  Running Up That Hill (A Deal With God)      Kate Bush          81   \n",
       "1                               As It Was   Harry Styles          91   \n",
       "2                                 Sunroof    Nicky Youre          73   \n",
       "3                              Heat Waves  Glass Animals          80   \n",
       "4                         About Damn Time          Lizzo          81   \n",
       "\n",
       "                        album  track_pop  danceability  energy  loudness  \\\n",
       "0              Hounds Of Love         95         0.629   0.547   -13.123   \n",
       "1                   As It Was         96         0.520   0.731    -5.338   \n",
       "2                     Sunroof         44         0.768   0.716    -5.110   \n",
       "3  Dreamland (+ Bonus Levels)         89         0.761   0.525    -6.900   \n",
       "4             About Damn Time         92         0.836   0.743    -6.305   \n",
       "\n",
       "    mode   key  speechiness  acousticness  instrumentalness  liveness  \\\n",
       "0  minor  None       0.0550        0.7200          0.003140    0.0604   \n",
       "1  minor  None       0.0557        0.3420          0.001010    0.3110   \n",
       "2  major  None       0.0404        0.3500          0.000000    0.1500   \n",
       "3  major  None       0.0944        0.4400          0.000007    0.0921   \n",
       "4  minor  None       0.0656        0.0995          0.000000    0.3350   \n",
       "\n",
       "   valence    tempo  time_signature  duration_ms  \n",
       "0    0.197  108.375               4       298933  \n",
       "1    0.662  173.930               4       167303  \n",
       "2    0.841  131.430               4       163026  \n",
       "3    0.531   80.870               4       238805  \n",
       "4    0.722  108.966               4       191822  "
      ]
     },
     "execution_count": 306,
     "metadata": {},
     "output_type": "execute_result"
    }
   ],
   "source": [
    "data['key'] = np.where(data['mode']=='minor', data['key'].replace(minorKeys,inplace=True), data['key'].replace(majorKeys,inplace=True))\n",
    "data.head()"
   ]
  },
  {
   "cell_type": "code",
   "execution_count": 307,
   "id": "84fa116b",
   "metadata": {},
   "outputs": [],
   "source": [
    "grouped = data.groupby('artist_name')\n",
    "groupedArtistDurations = grouped.duration_ms.sum()"
   ]
  },
  {
   "cell_type": "code",
   "execution_count": 308,
   "id": "e1a20969",
   "metadata": {},
   "outputs": [
    {
     "data": {
      "application/vnd.plotly.v1+json": {
       "config": {
        "plotlyServerURL": "https://plot.ly"
       },
       "data": [
        {
         "alignmentgroup": "True",
         "hovertemplate": "Artist Name=%{x}<br>Duration (ms)=%{y}<br>color=%{marker.color}<extra></extra>",
         "legendgroup": "",
         "marker": {
          "color": [
           140526,
           699867,
           454846,
           159023,
           204764,
           128095,
           178261,
           165854,
           193806,
           514026,
           163636,
           135484,
           148000,
           526190,
           223480,
           132625,
           235813,
           226088,
           196213,
           122773,
           174321,
           200594,
           180522,
           190879,
           215507,
           214693,
           459963,
           218107,
           170040,
           123263,
           145800,
           264093,
           163884,
           206071,
           344486,
           185681,
           129241,
           210329,
           837282,
           144677,
           341448,
           738048,
           209722,
           111074,
           1609093,
           465424,
           106031,
           608174,
           97209,
           450988,
           184448,
           202735,
           232813,
           188735,
           128825,
           541091,
           234093,
           237735,
           168602,
           167040,
           185376,
           138750,
           238805,
           227101,
           243773,
           154286,
           201661,
           197000,
           345258,
           204000,
           212280,
           173381,
           195429,
           157712,
           198982,
           141636,
           313689,
           171375,
           160982,
           152137,
           182613,
           233456,
           152323,
           135000,
           174222,
           410949,
           160191,
           298933,
           117037,
           154806,
           166805,
           183465,
           166504,
           397588,
           177525,
           168228,
           186000,
           162547,
           648775,
           205458,
           212354,
           191822,
           301669,
           158774,
           174000,
           145161,
           120157,
           199112,
           462940,
           172762,
           148999,
           132780,
           155410,
           340132,
           179867,
           124571,
           158312,
           126314,
           129677,
           211560,
           160657,
           181308,
           203226,
           149231,
           116750,
           163026,
           177956,
           456298,
           161803,
           420161,
           338503,
           154839,
           208707,
           145161,
           124000,
           137431,
           165926,
           563809,
           185857,
           173333,
           156195,
           129371,
           199604,
           85742,
           175230,
           169153,
           210463,
           196653,
           179551,
           233720,
           167917,
           366458,
           175884,
           453204,
           295297,
           158247,
           202507,
           201526,
           188421,
           147800,
           177720,
           232067,
           133134,
           214800,
           147062,
           158571,
           162680,
           165978,
           216320,
           142644,
           169154,
           146667,
           467973,
           240400,
           247976,
           639133,
           199687,
           328819,
           244360,
           159382,
           160880,
           111787,
           183091,
           198095,
           172431,
           196520,
           160026,
           156000,
           158436,
           184516,
           623256,
           207640,
           146471,
           172714,
           133707,
           350693,
           168000,
           144349,
           135978
          ],
          "coloraxis": "coloraxis",
          "pattern": {
           "shape": ""
          }
         },
         "name": "",
         "offsetgroup": "",
         "orientation": "v",
         "showlegend": false,
         "textposition": "auto",
         "type": "bar",
         "x": [
          "24kGoldn",
          "Alex Alexander",
          "Alex D'Rosso",
          "Alfons",
          "Amaarae",
          "Amero",
          "Ana Shine",
          "Andrew Nagy",
          "Anitta",
          "Ariana Grande",
          "Arizona Zervas",
          "Arman Aydin",
          "Asketa & Natan Chaim",
          "Astelle",
          "BENEE",
          "Baby Bluu",
          "Bag Raiders",
          "Becky G",
          "Bee Gees",
          "Bella Poarch",
          "Billie Eilish",
          "Blanco Brown",
          "Boostereo",
          "Braaheim",
          "Breakbot",
          "Brent Faiyaz",
          "Bruno Mars",
          "BØRNS",
          "CAZZETTE",
          "CJ",
          "CKay",
          "CPX",
          "Cabuizee",
          "Camila Cabello",
          "Cardi B",
          "Charlie Puth",
          "Claire Rosinkranz",
          "Conkarah",
          "Coopex",
          "DLAY",
          "DaBaby",
          "Dame Dame",
          "Dirty Heads",
          "Disco Lines",
          "Doja Cat",
          "Drake",
          "DripReport",
          "Dua Lipa",
          "Duke & Jones",
          "Ed Sheeran",
          "Elley Duhé",
          "Elton John",
          "Emmy Meli",
          "Erica Banks",
          "Faruk Orman",
          "Farux",
          "Frank Ocean",
          "Future",
          "GAYLE",
          "Gianni Blu",
          "Girll Codee",
          "Glamii",
          "Glass Animals",
          "Goya Menor",
          "Gym Class Heroes",
          "HOURS",
          "Halsey",
          "Harddope",
          "Harry Styles",
          "HotBlock Jmoe",
          "Ilkay Sencan",
          "Imagine Dragons",
          "Internet Money",
          "JACKBOYS",
          "JAM & Philly",
          "JRL",
          "Jack Harlow",
          "Jawsh 685",
          "Jena Rose",
          "Jnr Choi",
          "John De Sohn",
          "Joji",
          "Jorm",
          "Jt5k",
          "Jungle Jonsson",
          "Justin Bieber",
          "Kali Uchis",
          "Kate Bush",
          "Kauai45",
          "Kayla Nicole",
          "KillBunk",
          "Kinrose",
          "Kreepa",
          "LANDR",
          "LF SYSTEM",
          "LISA",
          "LeXxìv",
          "Lil Mosey",
          "Lil Nas X",
          "Lil Tjay",
          "Lil Uzi Vert",
          "Lizzo",
          "Lucas Estrada",
          "Luude",
          "MISERO",
          "Madism",
          "Madonna",
          "Maluma",
          "Maroon 5",
          "Marshmello",
          "Martin van Lectro",
          "Masked Wolf",
          "Matvey Emerson",
          "Megan Thee Stallion",
          "Melanie Martinez",
          "Michael Shynes",
          "Monaldin",
          "Myrrhe",
          "MØRFI",
          "Måneskin",
          "NEIKED",
          "Nadia Gattas",
          "Naeleck",
          "Nander",
          "Nathan Evans",
          "Nicky Youre",
          "Nippandab",
          "Nito-Onna",
          "Oliver Tree",
          "Olivia Rodrigo",
          "P.S.",
          "Padé",
          "Panic! At The Disco",
          "Paradigm",
          "Peachy!",
          "Pia Baris",
          "Polo G",
          "Pop Smoke",
          "Post Malone",
          "Powfu",
          "Quavo",
          "ROSALÍA",
          "Rauw Alejandro",
          "Reyanna Maria",
          "Rich The Kid",
          "Riton",
          "Ritt Momney",
          "Roddy Ricch",
          "Rosa Linn",
          "Ruth B.",
          "S1mba",
          "SALES",
          "SAYGRACE",
          "SZA",
          "Saweetie",
          "Senhit",
          "Shab",
          "Sofía Reyes",
          "SoulChef",
          "StaySolidRocky",
          "Stephen Sanchez",
          "Steve Lacy",
          "Sub Urban",
          "Suki Waterhouse",
          "Surf Curse",
          "Surfaces",
          "THE ANXIETY",
          "THE SCOTTS",
          "Tame Impala",
          "Taylor Watson",
          "Tesher",
          "Thatsimo",
          "The Kid LAROI",
          "The Neighbourhood",
          "The Prince Karma",
          "The Weeknd",
          "Timemachine",
          "Tiësto",
          "Tom Odell",
          "Trevor Daniel",
          "Trinidad Cardona",
          "VANO 3000",
          "VINAI",
          "Vicetone",
          "Viva La Panda",
          "WILLOW",
          "Why Not",
          "XY&O",
          "Xilo",
          "Xtinctor",
          "YES YES",
          "Young T & Bugsey",
          "Yung Gravy",
          "Yusuf Alev",
          "bbno$",
          "blackbear",
          "loafers",
          "sad girls",
          "sped up nightcore"
         ],
         "xaxis": "x",
         "y": [
          140526,
          699867,
          454846,
          159023,
          204764,
          128095,
          178261,
          165854,
          193806,
          514026,
          163636,
          135484,
          148000,
          526190,
          223480,
          132625,
          235813,
          226088,
          196213,
          122773,
          174321,
          200594,
          180522,
          190879,
          215507,
          214693,
          459963,
          218107,
          170040,
          123263,
          145800,
          264093,
          163884,
          206071,
          344486,
          185681,
          129241,
          210329,
          837282,
          144677,
          341448,
          738048,
          209722,
          111074,
          1609093,
          465424,
          106031,
          608174,
          97209,
          450988,
          184448,
          202735,
          232813,
          188735,
          128825,
          541091,
          234093,
          237735,
          168602,
          167040,
          185376,
          138750,
          238805,
          227101,
          243773,
          154286,
          201661,
          197000,
          345258,
          204000,
          212280,
          173381,
          195429,
          157712,
          198982,
          141636,
          313689,
          171375,
          160982,
          152137,
          182613,
          233456,
          152323,
          135000,
          174222,
          410949,
          160191,
          298933,
          117037,
          154806,
          166805,
          183465,
          166504,
          397588,
          177525,
          168228,
          186000,
          162547,
          648775,
          205458,
          212354,
          191822,
          301669,
          158774,
          174000,
          145161,
          120157,
          199112,
          462940,
          172762,
          148999,
          132780,
          155410,
          340132,
          179867,
          124571,
          158312,
          126314,
          129677,
          211560,
          160657,
          181308,
          203226,
          149231,
          116750,
          163026,
          177956,
          456298,
          161803,
          420161,
          338503,
          154839,
          208707,
          145161,
          124000,
          137431,
          165926,
          563809,
          185857,
          173333,
          156195,
          129371,
          199604,
          85742,
          175230,
          169153,
          210463,
          196653,
          179551,
          233720,
          167917,
          366458,
          175884,
          453204,
          295297,
          158247,
          202507,
          201526,
          188421,
          147800,
          177720,
          232067,
          133134,
          214800,
          147062,
          158571,
          162680,
          165978,
          216320,
          142644,
          169154,
          146667,
          467973,
          240400,
          247976,
          639133,
          199687,
          328819,
          244360,
          159382,
          160880,
          111787,
          183091,
          198095,
          172431,
          196520,
          160026,
          156000,
          158436,
          184516,
          623256,
          207640,
          146471,
          172714,
          133707,
          350693,
          168000,
          144349,
          135978
         ],
         "yaxis": "y"
        }
       ],
       "layout": {
        "barmode": "relative",
        "coloraxis": {
         "colorbar": {
          "title": {
           "text": "color"
          }
         },
         "colorscale": [
          [
           0,
           "rgb(231, 250, 90)"
          ],
          [
           0.09090909090909091,
           "rgb(246, 211, 70)"
          ],
          [
           0.18181818181818182,
           "rgb(251, 173, 60)"
          ],
          [
           0.2727272727272727,
           "rgb(246, 139, 69)"
          ],
          [
           0.36363636363636365,
           "rgb(225, 113, 97)"
          ],
          [
           0.45454545454545453,
           "rgb(193, 100, 121)"
          ],
          [
           0.5454545454545454,
           "rgb(158, 89, 135)"
          ],
          [
           0.6363636363636364,
           "rgb(126, 77, 143)"
          ],
          [
           0.7272727272727273,
           "rgb(93, 62, 153)"
          ],
          [
           0.8181818181818182,
           "rgb(53, 50, 155)"
          ],
          [
           0.9090909090909091,
           "rgb(13, 48, 100)"
          ],
          [
           1,
           "rgb(3, 35, 51)"
          ]
         ]
        },
        "legend": {
         "tracegroupgap": 0
        },
        "template": {
         "data": {
          "bar": [
           {
            "error_x": {
             "color": "#2a3f5f"
            },
            "error_y": {
             "color": "#2a3f5f"
            },
            "marker": {
             "line": {
              "color": "#E5ECF6",
              "width": 0.5
             },
             "pattern": {
              "fillmode": "overlay",
              "size": 10,
              "solidity": 0.2
             }
            },
            "type": "bar"
           }
          ],
          "barpolar": [
           {
            "marker": {
             "line": {
              "color": "#E5ECF6",
              "width": 0.5
             },
             "pattern": {
              "fillmode": "overlay",
              "size": 10,
              "solidity": 0.2
             }
            },
            "type": "barpolar"
           }
          ],
          "carpet": [
           {
            "aaxis": {
             "endlinecolor": "#2a3f5f",
             "gridcolor": "white",
             "linecolor": "white",
             "minorgridcolor": "white",
             "startlinecolor": "#2a3f5f"
            },
            "baxis": {
             "endlinecolor": "#2a3f5f",
             "gridcolor": "white",
             "linecolor": "white",
             "minorgridcolor": "white",
             "startlinecolor": "#2a3f5f"
            },
            "type": "carpet"
           }
          ],
          "choropleth": [
           {
            "colorbar": {
             "outlinewidth": 0,
             "ticks": ""
            },
            "type": "choropleth"
           }
          ],
          "contour": [
           {
            "colorbar": {
             "outlinewidth": 0,
             "ticks": ""
            },
            "colorscale": [
             [
              0,
              "#0d0887"
             ],
             [
              0.1111111111111111,
              "#46039f"
             ],
             [
              0.2222222222222222,
              "#7201a8"
             ],
             [
              0.3333333333333333,
              "#9c179e"
             ],
             [
              0.4444444444444444,
              "#bd3786"
             ],
             [
              0.5555555555555556,
              "#d8576b"
             ],
             [
              0.6666666666666666,
              "#ed7953"
             ],
             [
              0.7777777777777778,
              "#fb9f3a"
             ],
             [
              0.8888888888888888,
              "#fdca26"
             ],
             [
              1,
              "#f0f921"
             ]
            ],
            "type": "contour"
           }
          ],
          "contourcarpet": [
           {
            "colorbar": {
             "outlinewidth": 0,
             "ticks": ""
            },
            "type": "contourcarpet"
           }
          ],
          "heatmap": [
           {
            "colorbar": {
             "outlinewidth": 0,
             "ticks": ""
            },
            "colorscale": [
             [
              0,
              "#0d0887"
             ],
             [
              0.1111111111111111,
              "#46039f"
             ],
             [
              0.2222222222222222,
              "#7201a8"
             ],
             [
              0.3333333333333333,
              "#9c179e"
             ],
             [
              0.4444444444444444,
              "#bd3786"
             ],
             [
              0.5555555555555556,
              "#d8576b"
             ],
             [
              0.6666666666666666,
              "#ed7953"
             ],
             [
              0.7777777777777778,
              "#fb9f3a"
             ],
             [
              0.8888888888888888,
              "#fdca26"
             ],
             [
              1,
              "#f0f921"
             ]
            ],
            "type": "heatmap"
           }
          ],
          "heatmapgl": [
           {
            "colorbar": {
             "outlinewidth": 0,
             "ticks": ""
            },
            "colorscale": [
             [
              0,
              "#0d0887"
             ],
             [
              0.1111111111111111,
              "#46039f"
             ],
             [
              0.2222222222222222,
              "#7201a8"
             ],
             [
              0.3333333333333333,
              "#9c179e"
             ],
             [
              0.4444444444444444,
              "#bd3786"
             ],
             [
              0.5555555555555556,
              "#d8576b"
             ],
             [
              0.6666666666666666,
              "#ed7953"
             ],
             [
              0.7777777777777778,
              "#fb9f3a"
             ],
             [
              0.8888888888888888,
              "#fdca26"
             ],
             [
              1,
              "#f0f921"
             ]
            ],
            "type": "heatmapgl"
           }
          ],
          "histogram": [
           {
            "marker": {
             "pattern": {
              "fillmode": "overlay",
              "size": 10,
              "solidity": 0.2
             }
            },
            "type": "histogram"
           }
          ],
          "histogram2d": [
           {
            "colorbar": {
             "outlinewidth": 0,
             "ticks": ""
            },
            "colorscale": [
             [
              0,
              "#0d0887"
             ],
             [
              0.1111111111111111,
              "#46039f"
             ],
             [
              0.2222222222222222,
              "#7201a8"
             ],
             [
              0.3333333333333333,
              "#9c179e"
             ],
             [
              0.4444444444444444,
              "#bd3786"
             ],
             [
              0.5555555555555556,
              "#d8576b"
             ],
             [
              0.6666666666666666,
              "#ed7953"
             ],
             [
              0.7777777777777778,
              "#fb9f3a"
             ],
             [
              0.8888888888888888,
              "#fdca26"
             ],
             [
              1,
              "#f0f921"
             ]
            ],
            "type": "histogram2d"
           }
          ],
          "histogram2dcontour": [
           {
            "colorbar": {
             "outlinewidth": 0,
             "ticks": ""
            },
            "colorscale": [
             [
              0,
              "#0d0887"
             ],
             [
              0.1111111111111111,
              "#46039f"
             ],
             [
              0.2222222222222222,
              "#7201a8"
             ],
             [
              0.3333333333333333,
              "#9c179e"
             ],
             [
              0.4444444444444444,
              "#bd3786"
             ],
             [
              0.5555555555555556,
              "#d8576b"
             ],
             [
              0.6666666666666666,
              "#ed7953"
             ],
             [
              0.7777777777777778,
              "#fb9f3a"
             ],
             [
              0.8888888888888888,
              "#fdca26"
             ],
             [
              1,
              "#f0f921"
             ]
            ],
            "type": "histogram2dcontour"
           }
          ],
          "mesh3d": [
           {
            "colorbar": {
             "outlinewidth": 0,
             "ticks": ""
            },
            "type": "mesh3d"
           }
          ],
          "parcoords": [
           {
            "line": {
             "colorbar": {
              "outlinewidth": 0,
              "ticks": ""
             }
            },
            "type": "parcoords"
           }
          ],
          "pie": [
           {
            "automargin": true,
            "type": "pie"
           }
          ],
          "scatter": [
           {
            "fillpattern": {
             "fillmode": "overlay",
             "size": 10,
             "solidity": 0.2
            },
            "type": "scatter"
           }
          ],
          "scatter3d": [
           {
            "line": {
             "colorbar": {
              "outlinewidth": 0,
              "ticks": ""
             }
            },
            "marker": {
             "colorbar": {
              "outlinewidth": 0,
              "ticks": ""
             }
            },
            "type": "scatter3d"
           }
          ],
          "scattercarpet": [
           {
            "marker": {
             "colorbar": {
              "outlinewidth": 0,
              "ticks": ""
             }
            },
            "type": "scattercarpet"
           }
          ],
          "scattergeo": [
           {
            "marker": {
             "colorbar": {
              "outlinewidth": 0,
              "ticks": ""
             }
            },
            "type": "scattergeo"
           }
          ],
          "scattergl": [
           {
            "marker": {
             "colorbar": {
              "outlinewidth": 0,
              "ticks": ""
             }
            },
            "type": "scattergl"
           }
          ],
          "scattermapbox": [
           {
            "marker": {
             "colorbar": {
              "outlinewidth": 0,
              "ticks": ""
             }
            },
            "type": "scattermapbox"
           }
          ],
          "scatterpolar": [
           {
            "marker": {
             "colorbar": {
              "outlinewidth": 0,
              "ticks": ""
             }
            },
            "type": "scatterpolar"
           }
          ],
          "scatterpolargl": [
           {
            "marker": {
             "colorbar": {
              "outlinewidth": 0,
              "ticks": ""
             }
            },
            "type": "scatterpolargl"
           }
          ],
          "scatterternary": [
           {
            "marker": {
             "colorbar": {
              "outlinewidth": 0,
              "ticks": ""
             }
            },
            "type": "scatterternary"
           }
          ],
          "surface": [
           {
            "colorbar": {
             "outlinewidth": 0,
             "ticks": ""
            },
            "colorscale": [
             [
              0,
              "#0d0887"
             ],
             [
              0.1111111111111111,
              "#46039f"
             ],
             [
              0.2222222222222222,
              "#7201a8"
             ],
             [
              0.3333333333333333,
              "#9c179e"
             ],
             [
              0.4444444444444444,
              "#bd3786"
             ],
             [
              0.5555555555555556,
              "#d8576b"
             ],
             [
              0.6666666666666666,
              "#ed7953"
             ],
             [
              0.7777777777777778,
              "#fb9f3a"
             ],
             [
              0.8888888888888888,
              "#fdca26"
             ],
             [
              1,
              "#f0f921"
             ]
            ],
            "type": "surface"
           }
          ],
          "table": [
           {
            "cells": {
             "fill": {
              "color": "#EBF0F8"
             },
             "line": {
              "color": "white"
             }
            },
            "header": {
             "fill": {
              "color": "#C8D4E3"
             },
             "line": {
              "color": "white"
             }
            },
            "type": "table"
           }
          ]
         },
         "layout": {
          "annotationdefaults": {
           "arrowcolor": "#2a3f5f",
           "arrowhead": 0,
           "arrowwidth": 1
          },
          "autotypenumbers": "strict",
          "coloraxis": {
           "colorbar": {
            "outlinewidth": 0,
            "ticks": ""
           }
          },
          "colorscale": {
           "diverging": [
            [
             0,
             "#8e0152"
            ],
            [
             0.1,
             "#c51b7d"
            ],
            [
             0.2,
             "#de77ae"
            ],
            [
             0.3,
             "#f1b6da"
            ],
            [
             0.4,
             "#fde0ef"
            ],
            [
             0.5,
             "#f7f7f7"
            ],
            [
             0.6,
             "#e6f5d0"
            ],
            [
             0.7,
             "#b8e186"
            ],
            [
             0.8,
             "#7fbc41"
            ],
            [
             0.9,
             "#4d9221"
            ],
            [
             1,
             "#276419"
            ]
           ],
           "sequential": [
            [
             0,
             "#0d0887"
            ],
            [
             0.1111111111111111,
             "#46039f"
            ],
            [
             0.2222222222222222,
             "#7201a8"
            ],
            [
             0.3333333333333333,
             "#9c179e"
            ],
            [
             0.4444444444444444,
             "#bd3786"
            ],
            [
             0.5555555555555556,
             "#d8576b"
            ],
            [
             0.6666666666666666,
             "#ed7953"
            ],
            [
             0.7777777777777778,
             "#fb9f3a"
            ],
            [
             0.8888888888888888,
             "#fdca26"
            ],
            [
             1,
             "#f0f921"
            ]
           ],
           "sequentialminus": [
            [
             0,
             "#0d0887"
            ],
            [
             0.1111111111111111,
             "#46039f"
            ],
            [
             0.2222222222222222,
             "#7201a8"
            ],
            [
             0.3333333333333333,
             "#9c179e"
            ],
            [
             0.4444444444444444,
             "#bd3786"
            ],
            [
             0.5555555555555556,
             "#d8576b"
            ],
            [
             0.6666666666666666,
             "#ed7953"
            ],
            [
             0.7777777777777778,
             "#fb9f3a"
            ],
            [
             0.8888888888888888,
             "#fdca26"
            ],
            [
             1,
             "#f0f921"
            ]
           ]
          },
          "colorway": [
           "#636efa",
           "#EF553B",
           "#00cc96",
           "#ab63fa",
           "#FFA15A",
           "#19d3f3",
           "#FF6692",
           "#B6E880",
           "#FF97FF",
           "#FECB52"
          ],
          "font": {
           "color": "#2a3f5f"
          },
          "geo": {
           "bgcolor": "white",
           "lakecolor": "white",
           "landcolor": "#E5ECF6",
           "showlakes": true,
           "showland": true,
           "subunitcolor": "white"
          },
          "hoverlabel": {
           "align": "left"
          },
          "hovermode": "closest",
          "mapbox": {
           "style": "light"
          },
          "paper_bgcolor": "white",
          "plot_bgcolor": "#E5ECF6",
          "polar": {
           "angularaxis": {
            "gridcolor": "white",
            "linecolor": "white",
            "ticks": ""
           },
           "bgcolor": "#E5ECF6",
           "radialaxis": {
            "gridcolor": "white",
            "linecolor": "white",
            "ticks": ""
           }
          },
          "scene": {
           "xaxis": {
            "backgroundcolor": "#E5ECF6",
            "gridcolor": "white",
            "gridwidth": 2,
            "linecolor": "white",
            "showbackground": true,
            "ticks": "",
            "zerolinecolor": "white"
           },
           "yaxis": {
            "backgroundcolor": "#E5ECF6",
            "gridcolor": "white",
            "gridwidth": 2,
            "linecolor": "white",
            "showbackground": true,
            "ticks": "",
            "zerolinecolor": "white"
           },
           "zaxis": {
            "backgroundcolor": "#E5ECF6",
            "gridcolor": "white",
            "gridwidth": 2,
            "linecolor": "white",
            "showbackground": true,
            "ticks": "",
            "zerolinecolor": "white"
           }
          },
          "shapedefaults": {
           "line": {
            "color": "#2a3f5f"
           }
          },
          "ternary": {
           "aaxis": {
            "gridcolor": "white",
            "linecolor": "white",
            "ticks": ""
           },
           "baxis": {
            "gridcolor": "white",
            "linecolor": "white",
            "ticks": ""
           },
           "bgcolor": "#E5ECF6",
           "caxis": {
            "gridcolor": "white",
            "linecolor": "white",
            "ticks": ""
           }
          },
          "title": {
           "x": 0.05
          },
          "xaxis": {
           "automargin": true,
           "gridcolor": "white",
           "linecolor": "white",
           "ticks": "",
           "title": {
            "standoff": 15
           },
           "zerolinecolor": "white",
           "zerolinewidth": 2
          },
          "yaxis": {
           "automargin": true,
           "gridcolor": "white",
           "linecolor": "white",
           "ticks": "",
           "title": {
            "standoff": 15
           },
           "zerolinecolor": "white",
           "zerolinewidth": 2
          }
         }
        },
        "title": {
         "text": "Artist Duration (ms)"
        },
        "xaxis": {
         "anchor": "y",
         "domain": [
          0,
          1
         ],
         "title": {
          "text": "Artist Name"
         }
        },
        "yaxis": {
         "anchor": "x",
         "domain": [
          0,
          1
         ],
         "title": {
          "text": "Duration (ms)"
         }
        }
       }
      }
     },
     "metadata": {},
     "output_type": "display_data"
    }
   ],
   "source": [
    "fig = px.bar( x=groupedArtistDurations.index, y=groupedArtistDurations.values, labels={'x':'Artist Name', 'y':'Duration (ms)'},\n",
    "color=groupedArtistDurations.values, color_continuous_scale=px.colors.sequential.thermal_r, title='Artist Duration (ms)')\n",
    "fig.show()\n"
   ]
  },
  {
   "cell_type": "code",
   "execution_count": 309,
   "id": "3821ab55",
   "metadata": {},
   "outputs": [
    {
     "data": {
      "application/vnd.plotly.v1+json": {
       "config": {
        "plotlyServerURL": "https://plot.ly"
       },
       "data": [
        {
         "alignmentgroup": "True",
         "bingroup": "x",
         "hovertemplate": "Valence=%{x}<br>count=%{y}<extra></extra>",
         "legendgroup": "",
         "marker": {
          "color": "#636efa",
          "pattern": {
           "shape": ""
          }
         },
         "name": "",
         "nbinsx": 110,
         "offsetgroup": "",
         "orientation": "v",
         "showlegend": false,
         "type": "histogram",
         "x": [
          0.197,
          0.662,
          0.841,
          0.531,
          0.722,
          0.268,
          0.7,
          0.478,
          0.555,
          0.324,
          0.68,
          0.58,
          0.415,
          0.844,
          0.0899,
          0.396,
          0.0567,
          0.518,
          0.249,
          0.365,
          0.506,
          0.864,
          0.203,
          0.894,
          0.227,
          0.429,
          0.377,
          0.386,
          0.823,
          0.689,
          0.149,
          0.956,
          0.724,
          0.855,
          0.131,
          0.375,
          0.373,
          0.0386,
          0.399,
          0.663,
          0.458,
          0.663,
          0.461,
          0.912,
          0.88,
          0.794,
          0.649,
          0.533,
          0.591,
          0.778,
          0.113,
          0.628,
          0.901,
          0.735,
          0.541,
          0.312,
          0.899,
          0.246,
          0.691,
          0.758,
          0.362,
          0.866,
          0.319,
          0.294,
          0.546,
          0.712,
          0.934,
          0.654,
          0.514,
          0.498,
          0.494,
          0.569,
          0.484,
          0.203,
          0.311,
          0.503,
          0.684,
          0.412,
          0.169,
          0.738,
          0.743,
          0.659,
          0.881,
          0.719,
          0.455,
          0.0774,
          0.839,
          0.139,
          0.51,
          0.742,
          0.589,
          0.736,
          0.335,
          0.688,
          0.419,
          0.866,
          0.373,
          0.0784,
          0.127,
          0.472,
          0.0754,
          0.454,
          0.75,
          0.508,
          0.325,
          0.519,
          0.478,
          0.699,
          0.464,
          0.194,
          0.614,
          0.396,
          0.407,
          0.397,
          0.334,
          0.891,
          0.517,
          0.733,
          0.386,
          0.721,
          0.437,
          0.658,
          0.41,
          0.619,
          0.439,
          0.25,
          0.342,
          0.781,
          0.464,
          0.675,
          0.41,
          0.349,
          0.721,
          0.45,
          0.915,
          0.86,
          0.584,
          0.398,
          0.483,
          0.485,
          0.202,
          0.471,
          0.436,
          0.66,
          0.518,
          0.597,
          0.673,
          0.801,
          0.558,
          0.756,
          0.675,
          0.132,
          0.471,
          0.638,
          0.819,
          0.422,
          0.486,
          0.402,
          0.619,
          0.333,
          0.235,
          0.553,
          0.493,
          0.661,
          0.511,
          0.307,
          0.412,
          0.543,
          0.471,
          0.357,
          0.761,
          0.67,
          0.837,
          0.467,
          0.388,
          0.497,
          0.485,
          0.803,
          0.159,
          0.269,
          0.716,
          0.274,
          0.136,
          0.347,
          0.452,
          0.485,
          0.449,
          0.204,
          0.446,
          0.373,
          0.0363,
          0.672,
          0.896,
          0.537,
          0.496,
          0.258,
          0.629,
          0.242,
          0.424,
          0.324,
          0.285,
          0.28,
          0.443,
          0.122,
          0.348,
          0.449,
          0.841,
          0.575,
          0.186,
          0.432,
          0.266,
          0.556,
          0.68,
          0.349,
          0.467,
          0.772,
          0.325,
          0.642,
          0.394,
          0.817,
          0.845,
          0.677,
          0.452,
          0.874,
          0.149,
          0.134,
          0.504,
          0.508,
          0.826,
          0.308,
          0.694,
          0.627,
          0.779,
          0.717,
          0.236,
          0.681,
          0.348,
          0.489,
          0.758,
          0.836,
          0.309,
          0.345,
          0.391,
          0.277,
          0.457,
          0.503,
          0.811,
          0.462,
          0.842,
          0.678,
          0.29,
          0.448,
          0.533,
          0.158,
          0.487,
          0.185,
          0.397,
          0.0375,
          0.785,
          0.454,
          0.366,
          0.267,
          0.637
         ],
         "xaxis": "x",
         "yaxis": "y"
        }
       ],
       "layout": {
        "barmode": "relative",
        "legend": {
         "tracegroupgap": 0
        },
        "template": {
         "data": {
          "bar": [
           {
            "error_x": {
             "color": "#2a3f5f"
            },
            "error_y": {
             "color": "#2a3f5f"
            },
            "marker": {
             "line": {
              "color": "#E5ECF6",
              "width": 0.5
             },
             "pattern": {
              "fillmode": "overlay",
              "size": 10,
              "solidity": 0.2
             }
            },
            "type": "bar"
           }
          ],
          "barpolar": [
           {
            "marker": {
             "line": {
              "color": "#E5ECF6",
              "width": 0.5
             },
             "pattern": {
              "fillmode": "overlay",
              "size": 10,
              "solidity": 0.2
             }
            },
            "type": "barpolar"
           }
          ],
          "carpet": [
           {
            "aaxis": {
             "endlinecolor": "#2a3f5f",
             "gridcolor": "white",
             "linecolor": "white",
             "minorgridcolor": "white",
             "startlinecolor": "#2a3f5f"
            },
            "baxis": {
             "endlinecolor": "#2a3f5f",
             "gridcolor": "white",
             "linecolor": "white",
             "minorgridcolor": "white",
             "startlinecolor": "#2a3f5f"
            },
            "type": "carpet"
           }
          ],
          "choropleth": [
           {
            "colorbar": {
             "outlinewidth": 0,
             "ticks": ""
            },
            "type": "choropleth"
           }
          ],
          "contour": [
           {
            "colorbar": {
             "outlinewidth": 0,
             "ticks": ""
            },
            "colorscale": [
             [
              0,
              "#0d0887"
             ],
             [
              0.1111111111111111,
              "#46039f"
             ],
             [
              0.2222222222222222,
              "#7201a8"
             ],
             [
              0.3333333333333333,
              "#9c179e"
             ],
             [
              0.4444444444444444,
              "#bd3786"
             ],
             [
              0.5555555555555556,
              "#d8576b"
             ],
             [
              0.6666666666666666,
              "#ed7953"
             ],
             [
              0.7777777777777778,
              "#fb9f3a"
             ],
             [
              0.8888888888888888,
              "#fdca26"
             ],
             [
              1,
              "#f0f921"
             ]
            ],
            "type": "contour"
           }
          ],
          "contourcarpet": [
           {
            "colorbar": {
             "outlinewidth": 0,
             "ticks": ""
            },
            "type": "contourcarpet"
           }
          ],
          "heatmap": [
           {
            "colorbar": {
             "outlinewidth": 0,
             "ticks": ""
            },
            "colorscale": [
             [
              0,
              "#0d0887"
             ],
             [
              0.1111111111111111,
              "#46039f"
             ],
             [
              0.2222222222222222,
              "#7201a8"
             ],
             [
              0.3333333333333333,
              "#9c179e"
             ],
             [
              0.4444444444444444,
              "#bd3786"
             ],
             [
              0.5555555555555556,
              "#d8576b"
             ],
             [
              0.6666666666666666,
              "#ed7953"
             ],
             [
              0.7777777777777778,
              "#fb9f3a"
             ],
             [
              0.8888888888888888,
              "#fdca26"
             ],
             [
              1,
              "#f0f921"
             ]
            ],
            "type": "heatmap"
           }
          ],
          "heatmapgl": [
           {
            "colorbar": {
             "outlinewidth": 0,
             "ticks": ""
            },
            "colorscale": [
             [
              0,
              "#0d0887"
             ],
             [
              0.1111111111111111,
              "#46039f"
             ],
             [
              0.2222222222222222,
              "#7201a8"
             ],
             [
              0.3333333333333333,
              "#9c179e"
             ],
             [
              0.4444444444444444,
              "#bd3786"
             ],
             [
              0.5555555555555556,
              "#d8576b"
             ],
             [
              0.6666666666666666,
              "#ed7953"
             ],
             [
              0.7777777777777778,
              "#fb9f3a"
             ],
             [
              0.8888888888888888,
              "#fdca26"
             ],
             [
              1,
              "#f0f921"
             ]
            ],
            "type": "heatmapgl"
           }
          ],
          "histogram": [
           {
            "marker": {
             "pattern": {
              "fillmode": "overlay",
              "size": 10,
              "solidity": 0.2
             }
            },
            "type": "histogram"
           }
          ],
          "histogram2d": [
           {
            "colorbar": {
             "outlinewidth": 0,
             "ticks": ""
            },
            "colorscale": [
             [
              0,
              "#0d0887"
             ],
             [
              0.1111111111111111,
              "#46039f"
             ],
             [
              0.2222222222222222,
              "#7201a8"
             ],
             [
              0.3333333333333333,
              "#9c179e"
             ],
             [
              0.4444444444444444,
              "#bd3786"
             ],
             [
              0.5555555555555556,
              "#d8576b"
             ],
             [
              0.6666666666666666,
              "#ed7953"
             ],
             [
              0.7777777777777778,
              "#fb9f3a"
             ],
             [
              0.8888888888888888,
              "#fdca26"
             ],
             [
              1,
              "#f0f921"
             ]
            ],
            "type": "histogram2d"
           }
          ],
          "histogram2dcontour": [
           {
            "colorbar": {
             "outlinewidth": 0,
             "ticks": ""
            },
            "colorscale": [
             [
              0,
              "#0d0887"
             ],
             [
              0.1111111111111111,
              "#46039f"
             ],
             [
              0.2222222222222222,
              "#7201a8"
             ],
             [
              0.3333333333333333,
              "#9c179e"
             ],
             [
              0.4444444444444444,
              "#bd3786"
             ],
             [
              0.5555555555555556,
              "#d8576b"
             ],
             [
              0.6666666666666666,
              "#ed7953"
             ],
             [
              0.7777777777777778,
              "#fb9f3a"
             ],
             [
              0.8888888888888888,
              "#fdca26"
             ],
             [
              1,
              "#f0f921"
             ]
            ],
            "type": "histogram2dcontour"
           }
          ],
          "mesh3d": [
           {
            "colorbar": {
             "outlinewidth": 0,
             "ticks": ""
            },
            "type": "mesh3d"
           }
          ],
          "parcoords": [
           {
            "line": {
             "colorbar": {
              "outlinewidth": 0,
              "ticks": ""
             }
            },
            "type": "parcoords"
           }
          ],
          "pie": [
           {
            "automargin": true,
            "type": "pie"
           }
          ],
          "scatter": [
           {
            "fillpattern": {
             "fillmode": "overlay",
             "size": 10,
             "solidity": 0.2
            },
            "type": "scatter"
           }
          ],
          "scatter3d": [
           {
            "line": {
             "colorbar": {
              "outlinewidth": 0,
              "ticks": ""
             }
            },
            "marker": {
             "colorbar": {
              "outlinewidth": 0,
              "ticks": ""
             }
            },
            "type": "scatter3d"
           }
          ],
          "scattercarpet": [
           {
            "marker": {
             "colorbar": {
              "outlinewidth": 0,
              "ticks": ""
             }
            },
            "type": "scattercarpet"
           }
          ],
          "scattergeo": [
           {
            "marker": {
             "colorbar": {
              "outlinewidth": 0,
              "ticks": ""
             }
            },
            "type": "scattergeo"
           }
          ],
          "scattergl": [
           {
            "marker": {
             "colorbar": {
              "outlinewidth": 0,
              "ticks": ""
             }
            },
            "type": "scattergl"
           }
          ],
          "scattermapbox": [
           {
            "marker": {
             "colorbar": {
              "outlinewidth": 0,
              "ticks": ""
             }
            },
            "type": "scattermapbox"
           }
          ],
          "scatterpolar": [
           {
            "marker": {
             "colorbar": {
              "outlinewidth": 0,
              "ticks": ""
             }
            },
            "type": "scatterpolar"
           }
          ],
          "scatterpolargl": [
           {
            "marker": {
             "colorbar": {
              "outlinewidth": 0,
              "ticks": ""
             }
            },
            "type": "scatterpolargl"
           }
          ],
          "scatterternary": [
           {
            "marker": {
             "colorbar": {
              "outlinewidth": 0,
              "ticks": ""
             }
            },
            "type": "scatterternary"
           }
          ],
          "surface": [
           {
            "colorbar": {
             "outlinewidth": 0,
             "ticks": ""
            },
            "colorscale": [
             [
              0,
              "#0d0887"
             ],
             [
              0.1111111111111111,
              "#46039f"
             ],
             [
              0.2222222222222222,
              "#7201a8"
             ],
             [
              0.3333333333333333,
              "#9c179e"
             ],
             [
              0.4444444444444444,
              "#bd3786"
             ],
             [
              0.5555555555555556,
              "#d8576b"
             ],
             [
              0.6666666666666666,
              "#ed7953"
             ],
             [
              0.7777777777777778,
              "#fb9f3a"
             ],
             [
              0.8888888888888888,
              "#fdca26"
             ],
             [
              1,
              "#f0f921"
             ]
            ],
            "type": "surface"
           }
          ],
          "table": [
           {
            "cells": {
             "fill": {
              "color": "#EBF0F8"
             },
             "line": {
              "color": "white"
             }
            },
            "header": {
             "fill": {
              "color": "#C8D4E3"
             },
             "line": {
              "color": "white"
             }
            },
            "type": "table"
           }
          ]
         },
         "layout": {
          "annotationdefaults": {
           "arrowcolor": "#2a3f5f",
           "arrowhead": 0,
           "arrowwidth": 1
          },
          "autotypenumbers": "strict",
          "coloraxis": {
           "colorbar": {
            "outlinewidth": 0,
            "ticks": ""
           }
          },
          "colorscale": {
           "diverging": [
            [
             0,
             "#8e0152"
            ],
            [
             0.1,
             "#c51b7d"
            ],
            [
             0.2,
             "#de77ae"
            ],
            [
             0.3,
             "#f1b6da"
            ],
            [
             0.4,
             "#fde0ef"
            ],
            [
             0.5,
             "#f7f7f7"
            ],
            [
             0.6,
             "#e6f5d0"
            ],
            [
             0.7,
             "#b8e186"
            ],
            [
             0.8,
             "#7fbc41"
            ],
            [
             0.9,
             "#4d9221"
            ],
            [
             1,
             "#276419"
            ]
           ],
           "sequential": [
            [
             0,
             "#0d0887"
            ],
            [
             0.1111111111111111,
             "#46039f"
            ],
            [
             0.2222222222222222,
             "#7201a8"
            ],
            [
             0.3333333333333333,
             "#9c179e"
            ],
            [
             0.4444444444444444,
             "#bd3786"
            ],
            [
             0.5555555555555556,
             "#d8576b"
            ],
            [
             0.6666666666666666,
             "#ed7953"
            ],
            [
             0.7777777777777778,
             "#fb9f3a"
            ],
            [
             0.8888888888888888,
             "#fdca26"
            ],
            [
             1,
             "#f0f921"
            ]
           ],
           "sequentialminus": [
            [
             0,
             "#0d0887"
            ],
            [
             0.1111111111111111,
             "#46039f"
            ],
            [
             0.2222222222222222,
             "#7201a8"
            ],
            [
             0.3333333333333333,
             "#9c179e"
            ],
            [
             0.4444444444444444,
             "#bd3786"
            ],
            [
             0.5555555555555556,
             "#d8576b"
            ],
            [
             0.6666666666666666,
             "#ed7953"
            ],
            [
             0.7777777777777778,
             "#fb9f3a"
            ],
            [
             0.8888888888888888,
             "#fdca26"
            ],
            [
             1,
             "#f0f921"
            ]
           ]
          },
          "colorway": [
           "#636efa",
           "#EF553B",
           "#00cc96",
           "#ab63fa",
           "#FFA15A",
           "#19d3f3",
           "#FF6692",
           "#B6E880",
           "#FF97FF",
           "#FECB52"
          ],
          "font": {
           "color": "#2a3f5f"
          },
          "geo": {
           "bgcolor": "white",
           "lakecolor": "white",
           "landcolor": "#E5ECF6",
           "showlakes": true,
           "showland": true,
           "subunitcolor": "white"
          },
          "hoverlabel": {
           "align": "left"
          },
          "hovermode": "closest",
          "mapbox": {
           "style": "light"
          },
          "paper_bgcolor": "white",
          "plot_bgcolor": "#E5ECF6",
          "polar": {
           "angularaxis": {
            "gridcolor": "white",
            "linecolor": "white",
            "ticks": ""
           },
           "bgcolor": "#E5ECF6",
           "radialaxis": {
            "gridcolor": "white",
            "linecolor": "white",
            "ticks": ""
           }
          },
          "scene": {
           "xaxis": {
            "backgroundcolor": "#E5ECF6",
            "gridcolor": "white",
            "gridwidth": 2,
            "linecolor": "white",
            "showbackground": true,
            "ticks": "",
            "zerolinecolor": "white"
           },
           "yaxis": {
            "backgroundcolor": "#E5ECF6",
            "gridcolor": "white",
            "gridwidth": 2,
            "linecolor": "white",
            "showbackground": true,
            "ticks": "",
            "zerolinecolor": "white"
           },
           "zaxis": {
            "backgroundcolor": "#E5ECF6",
            "gridcolor": "white",
            "gridwidth": 2,
            "linecolor": "white",
            "showbackground": true,
            "ticks": "",
            "zerolinecolor": "white"
           }
          },
          "shapedefaults": {
           "line": {
            "color": "#2a3f5f"
           }
          },
          "ternary": {
           "aaxis": {
            "gridcolor": "white",
            "linecolor": "white",
            "ticks": ""
           },
           "baxis": {
            "gridcolor": "white",
            "linecolor": "white",
            "ticks": ""
           },
           "bgcolor": "#E5ECF6",
           "caxis": {
            "gridcolor": "white",
            "linecolor": "white",
            "ticks": ""
           }
          },
          "title": {
           "x": 0.05
          },
          "xaxis": {
           "automargin": true,
           "gridcolor": "white",
           "linecolor": "white",
           "ticks": "",
           "title": {
            "standoff": 15
           },
           "zerolinecolor": "white",
           "zerolinewidth": 2
          },
          "yaxis": {
           "automargin": true,
           "gridcolor": "white",
           "linecolor": "white",
           "ticks": "",
           "title": {
            "standoff": 15
           },
           "zerolinecolor": "white",
           "zerolinewidth": 2
          }
         }
        },
        "title": {
         "text": "Valence(All Data)"
        },
        "xaxis": {
         "anchor": "y",
         "domain": [
          0,
          1
         ],
         "title": {
          "text": "Valence"
         }
        },
        "yaxis": {
         "anchor": "x",
         "domain": [
          0,
          1
         ],
         "title": {
          "text": "count"
         }
        }
       }
      }
     },
     "metadata": {},
     "output_type": "display_data"
    }
   ],
   "source": [
    "px.histogram(data, x='valence', nbins=110, labels={'valence':'Valence'}\n",
    ",title='Valence(All Data)').show()"
   ]
  },
  {
   "cell_type": "code",
   "execution_count": 313,
   "id": "64f55178",
   "metadata": {},
   "outputs": [
    {
     "data": {
      "application/vnd.plotly.v1+json": {
       "config": {
        "plotlyServerURL": "https://plot.ly"
       },
       "data": [
        {
         "alignmentgroup": "True",
         "bingroup": "x",
         "hovertemplate": "Tempo=%{x}<br>count=%{y}<extra></extra>",
         "legendgroup": "",
         "marker": {
          "color": "#636efa",
          "pattern": {
           "shape": ""
          }
         },
         "name": "",
         "nbinsx": 100,
         "offsetgroup": "",
         "orientation": "v",
         "showlegend": false,
         "texttemplate": "%{value:.2s}",
         "type": "histogram",
         "x": [
          108.375,
          173.93,
          131.43,
          80.87,
          108.966,
          169.914,
          168.946,
          169.928,
          77.011,
          106.998,
          127.87,
          102.004,
          121.932,
          111.986,
          185.727,
          91.993,
          87.849,
          169.985,
          120.968,
          85.285,
          109.952,
          124.034,
          80.565,
          149.995,
          101.358,
          176.123,
          93.923,
          144.047,
          150.056,
          114.269,
          125.973,
          94.996,
          120.018,
          119.021,
          122.769,
          110.005,
          101.996,
          171.966,
          94.995,
          124.036,
          163.87,
          162.039,
          124.968,
          184.009,
          112.043,
          94.968,
          148.95,
          93.005,
          126.026,
          169.893,
          125.989,
          139.925,
          114.996,
          109.92,
          121.976,
          117.979,
          93.991,
          124.09,
          171.907,
          178.818,
          126.024,
          102.931,
          110.02,
          129.886,
          87.981,
          112.114,
          116.032,
          99.992,
          123.07,
          120.067,
          123.056,
          79.982,
          119.997,
          122.076,
          90.024,
          120.004,
          106.032,
          106.703,
          125.03,
          123.979,
          112.998,
          125.981,
          107.998,
          148.088,
          170.084,
          125.985,
          150.064,
          120.012,
          120.009,
          110.968,
          134.002,
          125.916,
          134.977,
          166.928,
          134.088,
          93.059,
          124.953,
          145.867,
          124.084,
          149.996,
          124.013,
          124.791,
          109.997,
          125.998,
          126.109,
          128.054,
          186.049,
          110.054,
          117.953,
          130.041,
          123.976,
          140.026,
          179.626,
          123.89,
          171.005,
          130.02,
          123.901,
          127.851,
          123.903,
          99.048,
          81.039,
          122.015,
          125.09,
          124.097,
          119.932,
          187.906,
          127.949,
          93.005,
          90.03,
          144.005,
          128.048,
          126.001,
          93.688,
          169.837,
          102.977,
          125.014,
          130.022,
          124.053,
          104.98,
          122.014,
          104.949,
          125.005,
          128.986,
          140.201,
          120.041,
          166.016,
          106.164,
          122.98,
          180.067,
          90.989,
          117.993,
          143.874,
          140.04,
          159.87,
          166,
          81.672,
          95.065,
          94.018,
          78.953,
          124.038,
          120.031,
          83.97,
          163.924,
          116.965,
          124.981,
          121.796,
          121.002,
          83.995,
          101.995,
          133.073,
          150.076,
          100.044,
          151.947,
          93.005,
          140.142,
          89.977,
          109.978,
          62.948,
          91.066,
          179.798,
          94.009,
          155.941,
          125.997,
          125.971,
          138.026,
          94.634,
          125.976,
          120.119,
          123.97,
          116.912,
          123.005,
          101.003,
          95.114,
          98.948,
          86.048,
          125.992,
          130.022,
          125,
          108.957,
          108.028,
          115.052,
          129.979,
          136.01,
          107.938,
          126.069,
          122.023,
          102.999,
          125.989,
          127.983,
          100.036,
          124.998,
          120.978,
          168.983,
          99.034,
          113.011,
          96.039,
          126.093,
          116.971,
          120.06,
          128.977,
          81.604,
          123.941,
          93.995,
          147.986,
          92.992,
          105.101,
          121.116,
          142.037,
          145.062,
          120.018,
          112.022,
          121.975,
          110.962,
          100.021,
          127.085,
          122.039,
          144.026,
          129.962,
          118.05,
          126.77,
          139.864,
          171.017,
          123.752,
          99.998,
          116.735,
          124.968,
          97.984,
          125.07,
          101.956,
          129.989,
          124.056,
          124.959,
          136.041,
          94.981,
          124.048,
          100.012,
          79.509,
          128.078,
          116.879,
          116.959,
          165.921,
          149.971,
          127.883
         ],
         "xaxis": "x",
         "yaxis": "y"
        }
       ],
       "layout": {
        "barmode": "relative",
        "legend": {
         "tracegroupgap": 0
        },
        "template": {
         "data": {
          "bar": [
           {
            "error_x": {
             "color": "#2a3f5f"
            },
            "error_y": {
             "color": "#2a3f5f"
            },
            "marker": {
             "line": {
              "color": "#E5ECF6",
              "width": 0.5
             },
             "pattern": {
              "fillmode": "overlay",
              "size": 10,
              "solidity": 0.2
             }
            },
            "type": "bar"
           }
          ],
          "barpolar": [
           {
            "marker": {
             "line": {
              "color": "#E5ECF6",
              "width": 0.5
             },
             "pattern": {
              "fillmode": "overlay",
              "size": 10,
              "solidity": 0.2
             }
            },
            "type": "barpolar"
           }
          ],
          "carpet": [
           {
            "aaxis": {
             "endlinecolor": "#2a3f5f",
             "gridcolor": "white",
             "linecolor": "white",
             "minorgridcolor": "white",
             "startlinecolor": "#2a3f5f"
            },
            "baxis": {
             "endlinecolor": "#2a3f5f",
             "gridcolor": "white",
             "linecolor": "white",
             "minorgridcolor": "white",
             "startlinecolor": "#2a3f5f"
            },
            "type": "carpet"
           }
          ],
          "choropleth": [
           {
            "colorbar": {
             "outlinewidth": 0,
             "ticks": ""
            },
            "type": "choropleth"
           }
          ],
          "contour": [
           {
            "colorbar": {
             "outlinewidth": 0,
             "ticks": ""
            },
            "colorscale": [
             [
              0,
              "#0d0887"
             ],
             [
              0.1111111111111111,
              "#46039f"
             ],
             [
              0.2222222222222222,
              "#7201a8"
             ],
             [
              0.3333333333333333,
              "#9c179e"
             ],
             [
              0.4444444444444444,
              "#bd3786"
             ],
             [
              0.5555555555555556,
              "#d8576b"
             ],
             [
              0.6666666666666666,
              "#ed7953"
             ],
             [
              0.7777777777777778,
              "#fb9f3a"
             ],
             [
              0.8888888888888888,
              "#fdca26"
             ],
             [
              1,
              "#f0f921"
             ]
            ],
            "type": "contour"
           }
          ],
          "contourcarpet": [
           {
            "colorbar": {
             "outlinewidth": 0,
             "ticks": ""
            },
            "type": "contourcarpet"
           }
          ],
          "heatmap": [
           {
            "colorbar": {
             "outlinewidth": 0,
             "ticks": ""
            },
            "colorscale": [
             [
              0,
              "#0d0887"
             ],
             [
              0.1111111111111111,
              "#46039f"
             ],
             [
              0.2222222222222222,
              "#7201a8"
             ],
             [
              0.3333333333333333,
              "#9c179e"
             ],
             [
              0.4444444444444444,
              "#bd3786"
             ],
             [
              0.5555555555555556,
              "#d8576b"
             ],
             [
              0.6666666666666666,
              "#ed7953"
             ],
             [
              0.7777777777777778,
              "#fb9f3a"
             ],
             [
              0.8888888888888888,
              "#fdca26"
             ],
             [
              1,
              "#f0f921"
             ]
            ],
            "type": "heatmap"
           }
          ],
          "heatmapgl": [
           {
            "colorbar": {
             "outlinewidth": 0,
             "ticks": ""
            },
            "colorscale": [
             [
              0,
              "#0d0887"
             ],
             [
              0.1111111111111111,
              "#46039f"
             ],
             [
              0.2222222222222222,
              "#7201a8"
             ],
             [
              0.3333333333333333,
              "#9c179e"
             ],
             [
              0.4444444444444444,
              "#bd3786"
             ],
             [
              0.5555555555555556,
              "#d8576b"
             ],
             [
              0.6666666666666666,
              "#ed7953"
             ],
             [
              0.7777777777777778,
              "#fb9f3a"
             ],
             [
              0.8888888888888888,
              "#fdca26"
             ],
             [
              1,
              "#f0f921"
             ]
            ],
            "type": "heatmapgl"
           }
          ],
          "histogram": [
           {
            "marker": {
             "pattern": {
              "fillmode": "overlay",
              "size": 10,
              "solidity": 0.2
             }
            },
            "type": "histogram"
           }
          ],
          "histogram2d": [
           {
            "colorbar": {
             "outlinewidth": 0,
             "ticks": ""
            },
            "colorscale": [
             [
              0,
              "#0d0887"
             ],
             [
              0.1111111111111111,
              "#46039f"
             ],
             [
              0.2222222222222222,
              "#7201a8"
             ],
             [
              0.3333333333333333,
              "#9c179e"
             ],
             [
              0.4444444444444444,
              "#bd3786"
             ],
             [
              0.5555555555555556,
              "#d8576b"
             ],
             [
              0.6666666666666666,
              "#ed7953"
             ],
             [
              0.7777777777777778,
              "#fb9f3a"
             ],
             [
              0.8888888888888888,
              "#fdca26"
             ],
             [
              1,
              "#f0f921"
             ]
            ],
            "type": "histogram2d"
           }
          ],
          "histogram2dcontour": [
           {
            "colorbar": {
             "outlinewidth": 0,
             "ticks": ""
            },
            "colorscale": [
             [
              0,
              "#0d0887"
             ],
             [
              0.1111111111111111,
              "#46039f"
             ],
             [
              0.2222222222222222,
              "#7201a8"
             ],
             [
              0.3333333333333333,
              "#9c179e"
             ],
             [
              0.4444444444444444,
              "#bd3786"
             ],
             [
              0.5555555555555556,
              "#d8576b"
             ],
             [
              0.6666666666666666,
              "#ed7953"
             ],
             [
              0.7777777777777778,
              "#fb9f3a"
             ],
             [
              0.8888888888888888,
              "#fdca26"
             ],
             [
              1,
              "#f0f921"
             ]
            ],
            "type": "histogram2dcontour"
           }
          ],
          "mesh3d": [
           {
            "colorbar": {
             "outlinewidth": 0,
             "ticks": ""
            },
            "type": "mesh3d"
           }
          ],
          "parcoords": [
           {
            "line": {
             "colorbar": {
              "outlinewidth": 0,
              "ticks": ""
             }
            },
            "type": "parcoords"
           }
          ],
          "pie": [
           {
            "automargin": true,
            "type": "pie"
           }
          ],
          "scatter": [
           {
            "fillpattern": {
             "fillmode": "overlay",
             "size": 10,
             "solidity": 0.2
            },
            "type": "scatter"
           }
          ],
          "scatter3d": [
           {
            "line": {
             "colorbar": {
              "outlinewidth": 0,
              "ticks": ""
             }
            },
            "marker": {
             "colorbar": {
              "outlinewidth": 0,
              "ticks": ""
             }
            },
            "type": "scatter3d"
           }
          ],
          "scattercarpet": [
           {
            "marker": {
             "colorbar": {
              "outlinewidth": 0,
              "ticks": ""
             }
            },
            "type": "scattercarpet"
           }
          ],
          "scattergeo": [
           {
            "marker": {
             "colorbar": {
              "outlinewidth": 0,
              "ticks": ""
             }
            },
            "type": "scattergeo"
           }
          ],
          "scattergl": [
           {
            "marker": {
             "colorbar": {
              "outlinewidth": 0,
              "ticks": ""
             }
            },
            "type": "scattergl"
           }
          ],
          "scattermapbox": [
           {
            "marker": {
             "colorbar": {
              "outlinewidth": 0,
              "ticks": ""
             }
            },
            "type": "scattermapbox"
           }
          ],
          "scatterpolar": [
           {
            "marker": {
             "colorbar": {
              "outlinewidth": 0,
              "ticks": ""
             }
            },
            "type": "scatterpolar"
           }
          ],
          "scatterpolargl": [
           {
            "marker": {
             "colorbar": {
              "outlinewidth": 0,
              "ticks": ""
             }
            },
            "type": "scatterpolargl"
           }
          ],
          "scatterternary": [
           {
            "marker": {
             "colorbar": {
              "outlinewidth": 0,
              "ticks": ""
             }
            },
            "type": "scatterternary"
           }
          ],
          "surface": [
           {
            "colorbar": {
             "outlinewidth": 0,
             "ticks": ""
            },
            "colorscale": [
             [
              0,
              "#0d0887"
             ],
             [
              0.1111111111111111,
              "#46039f"
             ],
             [
              0.2222222222222222,
              "#7201a8"
             ],
             [
              0.3333333333333333,
              "#9c179e"
             ],
             [
              0.4444444444444444,
              "#bd3786"
             ],
             [
              0.5555555555555556,
              "#d8576b"
             ],
             [
              0.6666666666666666,
              "#ed7953"
             ],
             [
              0.7777777777777778,
              "#fb9f3a"
             ],
             [
              0.8888888888888888,
              "#fdca26"
             ],
             [
              1,
              "#f0f921"
             ]
            ],
            "type": "surface"
           }
          ],
          "table": [
           {
            "cells": {
             "fill": {
              "color": "#EBF0F8"
             },
             "line": {
              "color": "white"
             }
            },
            "header": {
             "fill": {
              "color": "#C8D4E3"
             },
             "line": {
              "color": "white"
             }
            },
            "type": "table"
           }
          ]
         },
         "layout": {
          "annotationdefaults": {
           "arrowcolor": "#2a3f5f",
           "arrowhead": 0,
           "arrowwidth": 1
          },
          "autotypenumbers": "strict",
          "coloraxis": {
           "colorbar": {
            "outlinewidth": 0,
            "ticks": ""
           }
          },
          "colorscale": {
           "diverging": [
            [
             0,
             "#8e0152"
            ],
            [
             0.1,
             "#c51b7d"
            ],
            [
             0.2,
             "#de77ae"
            ],
            [
             0.3,
             "#f1b6da"
            ],
            [
             0.4,
             "#fde0ef"
            ],
            [
             0.5,
             "#f7f7f7"
            ],
            [
             0.6,
             "#e6f5d0"
            ],
            [
             0.7,
             "#b8e186"
            ],
            [
             0.8,
             "#7fbc41"
            ],
            [
             0.9,
             "#4d9221"
            ],
            [
             1,
             "#276419"
            ]
           ],
           "sequential": [
            [
             0,
             "#0d0887"
            ],
            [
             0.1111111111111111,
             "#46039f"
            ],
            [
             0.2222222222222222,
             "#7201a8"
            ],
            [
             0.3333333333333333,
             "#9c179e"
            ],
            [
             0.4444444444444444,
             "#bd3786"
            ],
            [
             0.5555555555555556,
             "#d8576b"
            ],
            [
             0.6666666666666666,
             "#ed7953"
            ],
            [
             0.7777777777777778,
             "#fb9f3a"
            ],
            [
             0.8888888888888888,
             "#fdca26"
            ],
            [
             1,
             "#f0f921"
            ]
           ],
           "sequentialminus": [
            [
             0,
             "#0d0887"
            ],
            [
             0.1111111111111111,
             "#46039f"
            ],
            [
             0.2222222222222222,
             "#7201a8"
            ],
            [
             0.3333333333333333,
             "#9c179e"
            ],
            [
             0.4444444444444444,
             "#bd3786"
            ],
            [
             0.5555555555555556,
             "#d8576b"
            ],
            [
             0.6666666666666666,
             "#ed7953"
            ],
            [
             0.7777777777777778,
             "#fb9f3a"
            ],
            [
             0.8888888888888888,
             "#fdca26"
            ],
            [
             1,
             "#f0f921"
            ]
           ]
          },
          "colorway": [
           "#636efa",
           "#EF553B",
           "#00cc96",
           "#ab63fa",
           "#FFA15A",
           "#19d3f3",
           "#FF6692",
           "#B6E880",
           "#FF97FF",
           "#FECB52"
          ],
          "font": {
           "color": "#2a3f5f"
          },
          "geo": {
           "bgcolor": "white",
           "lakecolor": "white",
           "landcolor": "#E5ECF6",
           "showlakes": true,
           "showland": true,
           "subunitcolor": "white"
          },
          "hoverlabel": {
           "align": "left"
          },
          "hovermode": "closest",
          "mapbox": {
           "style": "light"
          },
          "paper_bgcolor": "white",
          "plot_bgcolor": "#E5ECF6",
          "polar": {
           "angularaxis": {
            "gridcolor": "white",
            "linecolor": "white",
            "ticks": ""
           },
           "bgcolor": "#E5ECF6",
           "radialaxis": {
            "gridcolor": "white",
            "linecolor": "white",
            "ticks": ""
           }
          },
          "scene": {
           "xaxis": {
            "backgroundcolor": "#E5ECF6",
            "gridcolor": "white",
            "gridwidth": 2,
            "linecolor": "white",
            "showbackground": true,
            "ticks": "",
            "zerolinecolor": "white"
           },
           "yaxis": {
            "backgroundcolor": "#E5ECF6",
            "gridcolor": "white",
            "gridwidth": 2,
            "linecolor": "white",
            "showbackground": true,
            "ticks": "",
            "zerolinecolor": "white"
           },
           "zaxis": {
            "backgroundcolor": "#E5ECF6",
            "gridcolor": "white",
            "gridwidth": 2,
            "linecolor": "white",
            "showbackground": true,
            "ticks": "",
            "zerolinecolor": "white"
           }
          },
          "shapedefaults": {
           "line": {
            "color": "#2a3f5f"
           }
          },
          "ternary": {
           "aaxis": {
            "gridcolor": "white",
            "linecolor": "white",
            "ticks": ""
           },
           "baxis": {
            "gridcolor": "white",
            "linecolor": "white",
            "ticks": ""
           },
           "bgcolor": "#E5ECF6",
           "caxis": {
            "gridcolor": "white",
            "linecolor": "white",
            "ticks": ""
           }
          },
          "title": {
           "x": 0.05
          },
          "xaxis": {
           "automargin": true,
           "gridcolor": "white",
           "linecolor": "white",
           "ticks": "",
           "title": {
            "standoff": 15
           },
           "zerolinecolor": "white",
           "zerolinewidth": 2
          },
          "yaxis": {
           "automargin": true,
           "gridcolor": "white",
           "linecolor": "white",
           "ticks": "",
           "title": {
            "standoff": 15
           },
           "zerolinecolor": "white",
           "zerolinewidth": 2
          }
         }
        },
        "title": {
         "text": "Tempo(All Data)"
        },
        "xaxis": {
         "anchor": "y",
         "domain": [
          0,
          1
         ],
         "title": {
          "text": "Tempo"
         }
        },
        "yaxis": {
         "anchor": "x",
         "domain": [
          0,
          1
         ],
         "title": {
          "text": "count"
         }
        }
       }
      }
     },
     "metadata": {},
     "output_type": "display_data"
    }
   ],
   "source": [
    "px.histogram(data, x='tempo', nbins=100, labels={'tempo':'Tempo'}, text_auto='.2s',\n",
    "title='Tempo(All Data)')\n"
   ]
  },
  {
   "cell_type": "code",
   "execution_count": 311,
   "id": "c8982236",
   "metadata": {},
   "outputs": [
    {
     "data": {
      "text/plain": [
       "Series([], Name: key, dtype: int64)"
      ]
     },
     "execution_count": 311,
     "metadata": {},
     "output_type": "execute_result"
    }
   ],
   "source": [
    "data.key.value_counts()"
   ]
  },
  {
   "cell_type": "code",
   "execution_count": 312,
   "id": "84ad0c16",
   "metadata": {},
   "outputs": [
    {
     "ename": "IndexError",
     "evalue": "index 0 is out of bounds for axis 0 with size 0",
     "output_type": "error",
     "traceback": [
      "\u001b[1;31m---------------------------------------------------------------------------\u001b[0m",
      "\u001b[1;31mIndexError\u001b[0m                                Traceback (most recent call last)",
      "\u001b[1;32mc:\\Users\\burak.ugur.TITRA\\Desktop\\Book\\Own\\projects_py\\1.02-TikTok Songs\\tiktok_analysis.ipynb Cell 29\u001b[0m in \u001b[0;36m<cell line: 1>\u001b[1;34m()\u001b[0m\n\u001b[1;32m----> <a href='vscode-notebook-cell:/c%3A/Users/burak.ugur.TITRA/Desktop/Book/Own/projects_py/1.02-TikTok%20Songs/tiktok_analysis.ipynb#Y140sZmlsZQ%3D%3D?line=0'>1</a>\u001b[0m data[\u001b[39m'\u001b[39;49m\u001b[39mkey\u001b[39;49m\u001b[39m'\u001b[39;49m]\u001b[39m.\u001b[39;49mvalue_counts()\u001b[39m.\u001b[39;49mplot(kind\u001b[39m=\u001b[39;49m\u001b[39m'\u001b[39;49m\u001b[39mbar\u001b[39;49m\u001b[39m'\u001b[39;49m, title\u001b[39m=\u001b[39;49m\u001b[39m'\u001b[39;49m\u001b[39mMost Use Keys(All Data)\u001b[39;49m\u001b[39m'\u001b[39;49m,\n\u001b[0;32m      <a href='vscode-notebook-cell:/c%3A/Users/burak.ugur.TITRA/Desktop/Book/Own/projects_py/1.02-TikTok%20Songs/tiktok_analysis.ipynb#Y140sZmlsZQ%3D%3D?line=1'>2</a>\u001b[0m color\u001b[39m=\u001b[39;49m\u001b[39m'\u001b[39;49m\u001b[39mred\u001b[39;49m\u001b[39m'\u001b[39;49m)\u001b[39m.\u001b[39mset(xlabel\u001b[39m=\u001b[39m\u001b[39m'\u001b[39m\u001b[39mKey\u001b[39m\u001b[39m'\u001b[39m, ylabel\u001b[39m=\u001b[39m\u001b[39m'\u001b[39m\u001b[39mCount\u001b[39m\u001b[39m'\u001b[39m)\n",
      "File \u001b[1;32mc:\\Users\\burak.ugur.TITRA\\AppData\\Local\\Programs\\Python\\Python310\\lib\\site-packages\\pandas\\plotting\\_core.py:972\u001b[0m, in \u001b[0;36mPlotAccessor.__call__\u001b[1;34m(self, *args, **kwargs)\u001b[0m\n\u001b[0;32m    969\u001b[0m             label_name \u001b[39m=\u001b[39m label_kw \u001b[39mor\u001b[39;00m data\u001b[39m.\u001b[39mcolumns\n\u001b[0;32m    970\u001b[0m             data\u001b[39m.\u001b[39mcolumns \u001b[39m=\u001b[39m label_name\n\u001b[1;32m--> 972\u001b[0m \u001b[39mreturn\u001b[39;00m plot_backend\u001b[39m.\u001b[39mplot(data, kind\u001b[39m=\u001b[39mkind, \u001b[39m*\u001b[39m\u001b[39m*\u001b[39mkwargs)\n",
      "File \u001b[1;32mc:\\Users\\burak.ugur.TITRA\\AppData\\Local\\Programs\\Python\\Python310\\lib\\site-packages\\pandas\\plotting\\_matplotlib\\__init__.py:71\u001b[0m, in \u001b[0;36mplot\u001b[1;34m(data, kind, **kwargs)\u001b[0m\n\u001b[0;32m     69\u001b[0m         kwargs[\u001b[39m\"\u001b[39m\u001b[39max\u001b[39m\u001b[39m\"\u001b[39m] \u001b[39m=\u001b[39m \u001b[39mgetattr\u001b[39m(ax, \u001b[39m\"\u001b[39m\u001b[39mleft_ax\u001b[39m\u001b[39m\"\u001b[39m, ax)\n\u001b[0;32m     70\u001b[0m plot_obj \u001b[39m=\u001b[39m PLOT_CLASSES[kind](data, \u001b[39m*\u001b[39m\u001b[39m*\u001b[39mkwargs)\n\u001b[1;32m---> 71\u001b[0m plot_obj\u001b[39m.\u001b[39;49mgenerate()\n\u001b[0;32m     72\u001b[0m plot_obj\u001b[39m.\u001b[39mdraw()\n\u001b[0;32m     73\u001b[0m \u001b[39mreturn\u001b[39;00m plot_obj\u001b[39m.\u001b[39mresult\n",
      "File \u001b[1;32mc:\\Users\\burak.ugur.TITRA\\AppData\\Local\\Programs\\Python\\Python310\\lib\\site-packages\\pandas\\plotting\\_matplotlib\\core.py:336\u001b[0m, in \u001b[0;36mMPLPlot.generate\u001b[1;34m(self)\u001b[0m\n\u001b[0;32m    334\u001b[0m \u001b[39mfor\u001b[39;00m ax \u001b[39min\u001b[39;00m \u001b[39mself\u001b[39m\u001b[39m.\u001b[39maxes:\n\u001b[0;32m    335\u001b[0m     \u001b[39mself\u001b[39m\u001b[39m.\u001b[39m_post_plot_logic_common(ax, \u001b[39mself\u001b[39m\u001b[39m.\u001b[39mdata)\n\u001b[1;32m--> 336\u001b[0m     \u001b[39mself\u001b[39;49m\u001b[39m.\u001b[39;49m_post_plot_logic(ax, \u001b[39mself\u001b[39;49m\u001b[39m.\u001b[39;49mdata)\n",
      "File \u001b[1;32mc:\\Users\\burak.ugur.TITRA\\AppData\\Local\\Programs\\Python\\Python310\\lib\\site-packages\\pandas\\plotting\\_matplotlib\\core.py:1577\u001b[0m, in \u001b[0;36mBarPlot._post_plot_logic\u001b[1;34m(self, ax, data)\u001b[0m\n\u001b[0;32m   1574\u001b[0m     str_index \u001b[39m=\u001b[39m [pprint_thing(key) \u001b[39mfor\u001b[39;00m key \u001b[39min\u001b[39;00m \u001b[39mrange\u001b[39m(data\u001b[39m.\u001b[39mshape[\u001b[39m0\u001b[39m])]\n\u001b[0;32m   1575\u001b[0m name \u001b[39m=\u001b[39m \u001b[39mself\u001b[39m\u001b[39m.\u001b[39m_get_index_name()\n\u001b[1;32m-> 1577\u001b[0m s_edge \u001b[39m=\u001b[39m \u001b[39mself\u001b[39;49m\u001b[39m.\u001b[39;49max_pos[\u001b[39m0\u001b[39;49m] \u001b[39m-\u001b[39m \u001b[39m0.25\u001b[39m \u001b[39m+\u001b[39m \u001b[39mself\u001b[39m\u001b[39m.\u001b[39mlim_offset\n\u001b[0;32m   1578\u001b[0m e_edge \u001b[39m=\u001b[39m \u001b[39mself\u001b[39m\u001b[39m.\u001b[39max_pos[\u001b[39m-\u001b[39m\u001b[39m1\u001b[39m] \u001b[39m+\u001b[39m \u001b[39m0.25\u001b[39m \u001b[39m+\u001b[39m \u001b[39mself\u001b[39m\u001b[39m.\u001b[39mbar_width \u001b[39m+\u001b[39m \u001b[39mself\u001b[39m\u001b[39m.\u001b[39mlim_offset\n\u001b[0;32m   1580\u001b[0m \u001b[39mself\u001b[39m\u001b[39m.\u001b[39m_decorate_ticks(ax, name, str_index, s_edge, e_edge)\n",
      "\u001b[1;31mIndexError\u001b[0m: index 0 is out of bounds for axis 0 with size 0"
     ]
    },
    {
     "data": {
      "image/png": "[encoded data removed]",
      "text/plain": [
       "<Figure size 640x480 with 1 Axes>"
      ]
     },
     "metadata": {},
     "output_type": "display_data"
    }
   ],
   "source": [
    "data['key'].value_counts().plot(kind='bar', title='Most Use Keys(All Data)',\n",
    "color='red').set(xlabel='Key', ylabel='Count');"
   ]
  },
  {
   "cell_type": "code",
   "execution_count": null,
   "id": "424c34e8",
   "metadata": {},
   "outputs": [
    {
     "data": {
      "application/vnd.plotly.v1+json": {
       "config": {
        "plotlyServerURL": "https://plot.ly"
       },
       "data": [
        {
         "alignmentgroup": "True",
         "hovertemplate": "Count=%{x}<br>Key=%{y}<br>color=%{marker.color}<extra></extra>",
         "legendgroup": "",
         "marker": {
          "color": [
           33,
           30,
           27,
           27,
           25,
           23,
           23,
           19,
           18,
           18,
           12,
           8
          ],
          "coloraxis": "coloraxis",
          "pattern": {
           "shape": ""
          }
         },
         "name": "",
         "offsetgroup": "",
         "orientation": "h",
         "showlegend": false,
         "textposition": "auto",
         "type": "bar",
         "x": [
          33,
          30,
          27,
          27,
          25,
          23,
          23,
          19,
          18,
          18,
          12,
          8
         ],
         "xaxis": "x",
         "y": [
          "D Major",
          "BFlat Major",
          "A Major",
          "C Major",
          "B Major",
          "AFlat Major",
          "E Major",
          "F# Major",
          "EFlat Major",
          "F Major",
          "DFlat Major",
          "G Major"
         ],
         "yaxis": "y"
        }
       ],
       "layout": {
        "barmode": "relative",
        "coloraxis": {
         "cmid": 15,
         "colorbar": {
          "title": {
           "text": "color"
          }
         },
         "colorscale": [
          [
           0,
           "rgb(255,0,0)"
          ],
          [
           1,
           "rgb(0,0,255)"
          ]
         ]
        },
        "legend": {
         "tracegroupgap": 0
        },
        "template": {
         "data": {
          "bar": [
           {
            "error_x": {
             "color": "#2a3f5f"
            },
            "error_y": {
             "color": "#2a3f5f"
            },
            "marker": {
             "line": {
              "color": "#E5ECF6",
              "width": 0.5
             },
             "pattern": {
              "fillmode": "overlay",
              "size": 10,
              "solidity": 0.2
             }
            },
            "type": "bar"
           }
          ],
          "barpolar": [
           {
            "marker": {
             "line": {
              "color": "#E5ECF6",
              "width": 0.5
             },
             "pattern": {
              "fillmode": "overlay",
              "size": 10,
              "solidity": 0.2
             }
            },
            "type": "barpolar"
           }
          ],
          "carpet": [
           {
            "aaxis": {
             "endlinecolor": "#2a3f5f",
             "gridcolor": "white",
             "linecolor": "white",
             "minorgridcolor": "white",
             "startlinecolor": "#2a3f5f"
            },
            "baxis": {
             "endlinecolor": "#2a3f5f",
             "gridcolor": "white",
             "linecolor": "white",
             "minorgridcolor": "white",
             "startlinecolor": "#2a3f5f"
            },
            "type": "carpet"
           }
          ],
          "choropleth": [
           {
            "colorbar": {
             "outlinewidth": 0,
             "ticks": ""
            },
            "type": "choropleth"
           }
          ],
          "contour": [
           {
            "colorbar": {
             "outlinewidth": 0,
             "ticks": ""
            },
            "colorscale": [
             [
              0,
              "#0d0887"
             ],
             [
              0.1111111111111111,
              "#46039f"
             ],
             [
              0.2222222222222222,
              "#7201a8"
             ],
             [
              0.3333333333333333,
              "#9c179e"
             ],
             [
              0.4444444444444444,
              "#bd3786"
             ],
             [
              0.5555555555555556,
              "#d8576b"
             ],
             [
              0.6666666666666666,
              "#ed7953"
             ],
             [
              0.7777777777777778,
              "#fb9f3a"
             ],
             [
              0.8888888888888888,
              "#fdca26"
             ],
             [
              1,
              "#f0f921"
             ]
            ],
            "type": "contour"
           }
          ],
          "contourcarpet": [
           {
            "colorbar": {
             "outlinewidth": 0,
             "ticks": ""
            },
            "type": "contourcarpet"
           }
          ],
          "heatmap": [
           {
            "colorbar": {
             "outlinewidth": 0,
             "ticks": ""
            },
            "colorscale": [
             [
              0,
              "#0d0887"
             ],
             [
              0.1111111111111111,
              "#46039f"
             ],
             [
              0.2222222222222222,
              "#7201a8"
             ],
             [
              0.3333333333333333,
              "#9c179e"
             ],
             [
              0.4444444444444444,
              "#bd3786"
             ],
             [
              0.5555555555555556,
              "#d8576b"
             ],
             [
              0.6666666666666666,
              "#ed7953"
             ],
             [
              0.7777777777777778,
              "#fb9f3a"
             ],
             [
              0.8888888888888888,
              "#fdca26"
             ],
             [
              1,
              "#f0f921"
             ]
            ],
            "type": "heatmap"
           }
          ],
          "heatmapgl": [
           {
            "colorbar": {
             "outlinewidth": 0,
             "ticks": ""
            },
            "colorscale": [
             [
              0,
              "#0d0887"
             ],
             [
              0.1111111111111111,
              "#46039f"
             ],
             [
              0.2222222222222222,
              "#7201a8"
             ],
             [
              0.3333333333333333,
              "#9c179e"
             ],
             [
              0.4444444444444444,
              "#bd3786"
             ],
             [
              0.5555555555555556,
              "#d8576b"
             ],
             [
              0.6666666666666666,
              "#ed7953"
             ],
             [
              0.7777777777777778,
              "#fb9f3a"
             ],
             [
              0.8888888888888888,
              "#fdca26"
             ],
             [
              1,
              "#f0f921"
             ]
            ],
            "type": "heatmapgl"
           }
          ],
          "histogram": [
           {
            "marker": {
             "pattern": {
              "fillmode": "overlay",
              "size": 10,
              "solidity": 0.2
             }
            },
            "type": "histogram"
           }
          ],
          "histogram2d": [
           {
            "colorbar": {
             "outlinewidth": 0,
             "ticks": ""
            },
            "colorscale": [
             [
              0,
              "#0d0887"
             ],
             [
              0.1111111111111111,
              "#46039f"
             ],
             [
              0.2222222222222222,
              "#7201a8"
             ],
             [
              0.3333333333333333,
              "#9c179e"
             ],
             [
              0.4444444444444444,
              "#bd3786"
             ],
             [
              0.5555555555555556,
              "#d8576b"
             ],
             [
              0.6666666666666666,
              "#ed7953"
             ],
             [
              0.7777777777777778,
              "#fb9f3a"
             ],
             [
              0.8888888888888888,
              "#fdca26"
             ],
             [
              1,
              "#f0f921"
             ]
            ],
            "type": "histogram2d"
           }
          ],
          "histogram2dcontour": [
           {
            "colorbar": {
             "outlinewidth": 0,
             "ticks": ""
            },
            "colorscale": [
             [
              0,
              "#0d0887"
             ],
             [
              0.1111111111111111,
              "#46039f"
             ],
             [
              0.2222222222222222,
              "#7201a8"
             ],
             [
              0.3333333333333333,
              "#9c179e"
             ],
             [
              0.4444444444444444,
              "#bd3786"
             ],
             [
              0.5555555555555556,
              "#d8576b"
             ],
             [
              0.6666666666666666,
              "#ed7953"
             ],
             [
              0.7777777777777778,
              "#fb9f3a"
             ],
             [
              0.8888888888888888,
              "#fdca26"
             ],
             [
              1,
              "#f0f921"
             ]
            ],
            "type": "histogram2dcontour"
           }
          ],
          "mesh3d": [
           {
            "colorbar": {
             "outlinewidth": 0,
             "ticks": ""
            },
            "type": "mesh3d"
           }
          ],
          "parcoords": [
           {
            "line": {
             "colorbar": {
              "outlinewidth": 0,
              "ticks": ""
             }
            },
            "type": "parcoords"
           }
          ],
          "pie": [
           {
            "automargin": true,
            "type": "pie"
           }
          ],
          "scatter": [
           {
            "fillpattern": {
             "fillmode": "overlay",
             "size": 10,
             "solidity": 0.2
            },
            "type": "scatter"
           }
          ],
          "scatter3d": [
           {
            "line": {
             "colorbar": {
              "outlinewidth": 0,
              "ticks": ""
             }
            },
            "marker": {
             "colorbar": {
              "outlinewidth": 0,
              "ticks": ""
             }
            },
            "type": "scatter3d"
           }
          ],
          "scattercarpet": [
           {
            "marker": {
             "colorbar": {
              "outlinewidth": 0,
              "ticks": ""
             }
            },
            "type": "scattercarpet"
           }
          ],
          "scattergeo": [
           {
            "marker": {
             "colorbar": {
              "outlinewidth": 0,
              "ticks": ""
             }
            },
            "type": "scattergeo"
           }
          ],
          "scattergl": [
           {
            "marker": {
             "colorbar": {
              "outlinewidth": 0,
              "ticks": ""
             }
            },
            "type": "scattergl"
           }
          ],
          "scattermapbox": [
           {
            "marker": {
             "colorbar": {
              "outlinewidth": 0,
              "ticks": ""
             }
            },
            "type": "scattermapbox"
           }
          ],
          "scatterpolar": [
           {
            "marker": {
             "colorbar": {
              "outlinewidth": 0,
              "ticks": ""
             }
            },
            "type": "scatterpolar"
           }
          ],
          "scatterpolargl": [
           {
            "marker": {
             "colorbar": {
              "outlinewidth": 0,
              "ticks": ""
             }
            },
            "type": "scatterpolargl"
           }
          ],
          "scatterternary": [
           {
            "marker": {
             "colorbar": {
              "outlinewidth": 0,
              "ticks": ""
             }
            },
            "type": "scatterternary"
           }
          ],
          "surface": [
           {
            "colorbar": {
             "outlinewidth": 0,
             "ticks": ""
            },
            "colorscale": [
             [
              0,
              "#0d0887"
             ],
             [
              0.1111111111111111,
              "#46039f"
             ],
             [
              0.2222222222222222,
              "#7201a8"
             ],
             [
              0.3333333333333333,
              "#9c179e"
             ],
             [
              0.4444444444444444,
              "#bd3786"
             ],
             [
              0.5555555555555556,
              "#d8576b"
             ],
             [
              0.6666666666666666,
              "#ed7953"
             ],
             [
              0.7777777777777778,
              "#fb9f3a"
             ],
             [
              0.8888888888888888,
              "#fdca26"
             ],
             [
              1,
              "#f0f921"
             ]
            ],
            "type": "surface"
           }
          ],
          "table": [
           {
            "cells": {
             "fill": {
              "color": "#EBF0F8"
             },
             "line": {
              "color": "white"
             }
            },
            "header": {
             "fill": {
              "color": "#C8D4E3"
             },
             "line": {
              "color": "white"
             }
            },
            "type": "table"
           }
          ]
         },
         "layout": {
          "annotationdefaults": {
           "arrowcolor": "#2a3f5f",
           "arrowhead": 0,
           "arrowwidth": 1
          },
          "autotypenumbers": "strict",
          "coloraxis": {
           "colorbar": {
            "outlinewidth": 0,
            "ticks": ""
           }
          },
          "colorscale": {
           "diverging": [
            [
             0,
             "#8e0152"
            ],
            [
             0.1,
             "#c51b7d"
            ],
            [
             0.2,
             "#de77ae"
            ],
            [
             0.3,
             "#f1b6da"
            ],
            [
             0.4,
             "#fde0ef"
            ],
            [
             0.5,
             "#f7f7f7"
            ],
            [
             0.6,
             "#e6f5d0"
            ],
            [
             0.7,
             "#b8e186"
            ],
            [
             0.8,
             "#7fbc41"
            ],
            [
             0.9,
             "#4d9221"
            ],
            [
             1,
             "#276419"
            ]
           ],
           "sequential": [
            [
             0,
             "#0d0887"
            ],
            [
             0.1111111111111111,
             "#46039f"
            ],
            [
             0.2222222222222222,
             "#7201a8"
            ],
            [
             0.3333333333333333,
             "#9c179e"
            ],
            [
             0.4444444444444444,
             "#bd3786"
            ],
            [
             0.5555555555555556,
             "#d8576b"
            ],
            [
             0.6666666666666666,
             "#ed7953"
            ],
            [
             0.7777777777777778,
             "#fb9f3a"
            ],
            [
             0.8888888888888888,
             "#fdca26"
            ],
            [
             1,
             "#f0f921"
            ]
           ],
           "sequentialminus": [
            [
             0,
             "#0d0887"
            ],
            [
             0.1111111111111111,
             "#46039f"
            ],
            [
             0.2222222222222222,
             "#7201a8"
            ],
            [
             0.3333333333333333,
             "#9c179e"
            ],
            [
             0.4444444444444444,
             "#bd3786"
            ],
            [
             0.5555555555555556,
             "#d8576b"
            ],
            [
             0.6666666666666666,
             "#ed7953"
            ],
            [
             0.7777777777777778,
             "#fb9f3a"
            ],
            [
             0.8888888888888888,
             "#fdca26"
            ],
            [
             1,
             "#f0f921"
            ]
           ]
          },
          "colorway": [
           "#636efa",
           "#EF553B",
           "#00cc96",
           "#ab63fa",
           "#FFA15A",
           "#19d3f3",
           "#FF6692",
           "#B6E880",
           "#FF97FF",
           "#FECB52"
          ],
          "font": {
           "color": "#2a3f5f"
          },
          "geo": {
           "bgcolor": "white",
           "lakecolor": "white",
           "landcolor": "#E5ECF6",
           "showlakes": true,
           "showland": true,
           "subunitcolor": "white"
          },
          "hoverlabel": {
           "align": "left"
          },
          "hovermode": "closest",
          "mapbox": {
           "style": "light"
          },
          "paper_bgcolor": "white",
          "plot_bgcolor": "#E5ECF6",
          "polar": {
           "angularaxis": {
            "gridcolor": "white",
            "linecolor": "white",
            "ticks": ""
           },
           "bgcolor": "#E5ECF6",
           "radialaxis": {
            "gridcolor": "white",
            "linecolor": "white",
            "ticks": ""
           }
          },
          "scene": {
           "xaxis": {
            "backgroundcolor": "#E5ECF6",
            "gridcolor": "white",
            "gridwidth": 2,
            "linecolor": "white",
            "showbackground": true,
            "ticks": "",
            "zerolinecolor": "white"
           },
           "yaxis": {
            "backgroundcolor": "#E5ECF6",
            "gridcolor": "white",
            "gridwidth": 2,
            "linecolor": "white",
            "showbackground": true,
            "ticks": "",
            "zerolinecolor": "white"
           },
           "zaxis": {
            "backgroundcolor": "#E5ECF6",
            "gridcolor": "white",
            "gridwidth": 2,
            "linecolor": "white",
            "showbackground": true,
            "ticks": "",
            "zerolinecolor": "white"
           }
          },
          "shapedefaults": {
           "line": {
            "color": "#2a3f5f"
           }
          },
          "ternary": {
           "aaxis": {
            "gridcolor": "white",
            "linecolor": "white",
            "ticks": ""
           },
           "baxis": {
            "gridcolor": "white",
            "linecolor": "white",
            "ticks": ""
           },
           "bgcolor": "#E5ECF6",
           "caxis": {
            "gridcolor": "white",
            "linecolor": "white",
            "ticks": ""
           }
          },
          "title": {
           "x": 0.05
          },
          "xaxis": {
           "automargin": true,
           "gridcolor": "white",
           "linecolor": "white",
           "ticks": "",
           "title": {
            "standoff": 15
           },
           "zerolinecolor": "white",
           "zerolinewidth": 2
          },
          "yaxis": {
           "automargin": true,
           "gridcolor": "white",
           "linecolor": "white",
           "ticks": "",
           "title": {
            "standoff": 15
           },
           "zerolinecolor": "white",
           "zerolinewidth": 2
          }
         }
        },
        "title": {
         "text": "Most Use Keys(All Data)"
        },
        "xaxis": {
         "anchor": "y",
         "domain": [
          0,
          1
         ],
         "title": {
          "text": "Count"
         }
        },
        "yaxis": {
         "anchor": "x",
         "domain": [
          0,
          1
         ],
         "title": {
          "text": "Key"
         }
        }
       }
      }
     },
     "metadata": {},
     "output_type": "display_data"
    }
   ],
   "source": [
    "fig = px.bar(data, y=data.key.unique(), x=data.key.value_counts(), \n",
    "orientation='h', \n",
    "color=data.key.value_counts(),\n",
    "color_continuous_midpoint=15, \n",
    "color_continuous_scale=px.colors.sequential.Bluered_r,\n",
    "title='Most Use Keys(All Data)',\n",
    "labels={'y':'Key', 'x':'Count'})\n",
    "\n",
    "fig.show()"
   ]
  },
  {
   "cell_type": "code",
   "execution_count": null,
   "id": "671fb4d6",
   "metadata": {},
   "outputs": [],
   "source": [
    "# araştırılması gerekilen sütun araştırılır (domain?)"
   ]
  },
  {
   "cell_type": "code",
   "execution_count": null,
   "id": "2b0c5fe4",
   "metadata": {},
   "outputs": [],
   "source": [
    "# veri bilimcinin araştırma"
   ]
  },
  {
   "cell_type": "code",
   "execution_count": null,
   "id": "4bb67c05",
   "metadata": {
    "scrolled": false
   },
   "outputs": [
    {
     "data": {
      "text/html": [
       "<div>\n",
       "<style scoped>\n",
       "    .dataframe tbody tr th:only-of-type {\n",
       "        vertical-align: middle;\n",
       "    }\n",
       "\n",
       "    .dataframe tbody tr th {\n",
       "        vertical-align: top;\n",
       "    }\n",
       "\n",
       "    .dataframe thead th {\n",
       "        text-align: right;\n",
       "    }\n",
       "</style>\n",
       "<table border=\"1\" class=\"dataframe\">\n",
       "  <thead>\n",
       "    <tr style=\"text-align: right;\">\n",
       "      <th></th>\n",
       "      <th>track_name</th>\n",
       "      <th>artist_name</th>\n",
       "      <th>artist_pop</th>\n",
       "      <th>album</th>\n",
       "      <th>track_pop</th>\n",
       "      <th>danceability</th>\n",
       "      <th>energy</th>\n",
       "      <th>loudness</th>\n",
       "      <th>mode</th>\n",
       "      <th>key</th>\n",
       "      <th>speechiness</th>\n",
       "      <th>acousticness</th>\n",
       "      <th>instrumentalness</th>\n",
       "      <th>liveness</th>\n",
       "      <th>valence</th>\n",
       "      <th>tempo</th>\n",
       "      <th>time_signature</th>\n",
       "      <th>duration_ms</th>\n",
       "    </tr>\n",
       "  </thead>\n",
       "  <tbody>\n",
       "    <tr>\n",
       "      <th>0</th>\n",
       "      <td>Running Up That Hill (A Deal With God)</td>\n",
       "      <td>Kate Bush</td>\n",
       "      <td>81</td>\n",
       "      <td>Hounds Of Love</td>\n",
       "      <td>95</td>\n",
       "      <td>0.629</td>\n",
       "      <td>0.547</td>\n",
       "      <td>-13.123</td>\n",
       "      <td>0</td>\n",
       "      <td>10</td>\n",
       "      <td>0.0550</td>\n",
       "      <td>0.7200</td>\n",
       "      <td>0.003140</td>\n",
       "      <td>0.0604</td>\n",
       "      <td>0.197</td>\n",
       "      <td>108.375</td>\n",
       "      <td>4</td>\n",
       "      <td>298933</td>\n",
       "    </tr>\n",
       "    <tr>\n",
       "      <th>1</th>\n",
       "      <td>As It Was</td>\n",
       "      <td>Harry Styles</td>\n",
       "      <td>91</td>\n",
       "      <td>As It Was</td>\n",
       "      <td>96</td>\n",
       "      <td>0.520</td>\n",
       "      <td>0.731</td>\n",
       "      <td>-5.338</td>\n",
       "      <td>0</td>\n",
       "      <td>6</td>\n",
       "      <td>0.0557</td>\n",
       "      <td>0.3420</td>\n",
       "      <td>0.001010</td>\n",
       "      <td>0.3110</td>\n",
       "      <td>0.662</td>\n",
       "      <td>173.930</td>\n",
       "      <td>4</td>\n",
       "      <td>167303</td>\n",
       "    </tr>\n",
       "    <tr>\n",
       "      <th>2</th>\n",
       "      <td>Sunroof</td>\n",
       "      <td>Nicky Youre</td>\n",
       "      <td>73</td>\n",
       "      <td>Sunroof</td>\n",
       "      <td>44</td>\n",
       "      <td>0.768</td>\n",
       "      <td>0.716</td>\n",
       "      <td>-5.110</td>\n",
       "      <td>1</td>\n",
       "      <td>10</td>\n",
       "      <td>0.0404</td>\n",
       "      <td>0.3500</td>\n",
       "      <td>0.000000</td>\n",
       "      <td>0.1500</td>\n",
       "      <td>0.841</td>\n",
       "      <td>131.430</td>\n",
       "      <td>4</td>\n",
       "      <td>163026</td>\n",
       "    </tr>\n",
       "    <tr>\n",
       "      <th>3</th>\n",
       "      <td>Heat Waves</td>\n",
       "      <td>Glass Animals</td>\n",
       "      <td>80</td>\n",
       "      <td>Dreamland (+ Bonus Levels)</td>\n",
       "      <td>89</td>\n",
       "      <td>0.761</td>\n",
       "      <td>0.525</td>\n",
       "      <td>-6.900</td>\n",
       "      <td>1</td>\n",
       "      <td>11</td>\n",
       "      <td>0.0944</td>\n",
       "      <td>0.4400</td>\n",
       "      <td>0.000007</td>\n",
       "      <td>0.0921</td>\n",
       "      <td>0.531</td>\n",
       "      <td>80.870</td>\n",
       "      <td>4</td>\n",
       "      <td>238805</td>\n",
       "    </tr>\n",
       "    <tr>\n",
       "      <th>4</th>\n",
       "      <td>About Damn Time</td>\n",
       "      <td>Lizzo</td>\n",
       "      <td>81</td>\n",
       "      <td>About Damn Time</td>\n",
       "      <td>92</td>\n",
       "      <td>0.836</td>\n",
       "      <td>0.743</td>\n",
       "      <td>-6.305</td>\n",
       "      <td>0</td>\n",
       "      <td>10</td>\n",
       "      <td>0.0656</td>\n",
       "      <td>0.0995</td>\n",
       "      <td>0.000000</td>\n",
       "      <td>0.3350</td>\n",
       "      <td>0.722</td>\n",
       "      <td>108.966</td>\n",
       "      <td>4</td>\n",
       "      <td>191822</td>\n",
       "    </tr>\n",
       "  </tbody>\n",
       "</table>\n",
       "</div>"
      ],
      "text/plain": [
       "                               track_name    artist_name  artist_pop  \\\n",
       "0  Running Up That Hill (A Deal With God)      Kate Bush          81   \n",
       "1                               As It Was   Harry Styles          91   \n",
       "2                                 Sunroof    Nicky Youre          73   \n",
       "3                              Heat Waves  Glass Animals          80   \n",
       "4                         About Damn Time          Lizzo          81   \n",
       "\n",
       "                        album  track_pop  danceability  energy  loudness  \\\n",
       "0              Hounds Of Love         95         0.629   0.547   -13.123   \n",
       "1                   As It Was         96         0.520   0.731    -5.338   \n",
       "2                     Sunroof         44         0.768   0.716    -5.110   \n",
       "3  Dreamland (+ Bonus Levels)         89         0.761   0.525    -6.900   \n",
       "4             About Damn Time         92         0.836   0.743    -6.305   \n",
       "\n",
       "   mode  key  speechiness  acousticness  instrumentalness  liveness  valence  \\\n",
       "0     0   10       0.0550        0.7200          0.003140    0.0604    0.197   \n",
       "1     0    6       0.0557        0.3420          0.001010    0.3110    0.662   \n",
       "2     1   10       0.0404        0.3500          0.000000    0.1500    0.841   \n",
       "3     1   11       0.0944        0.4400          0.000007    0.0921    0.531   \n",
       "4     0   10       0.0656        0.0995          0.000000    0.3350    0.722   \n",
       "\n",
       "     tempo  time_signature  duration_ms  \n",
       "0  108.375               4       298933  \n",
       "1  173.930               4       167303  \n",
       "2  131.430               4       163026  \n",
       "3   80.870               4       238805  \n",
       "4  108.966               4       191822  "
      ]
     },
     "execution_count": 212,
     "metadata": {},
     "output_type": "execute_result"
    }
   ],
   "source": [
    "data.head()"
   ]
  },
  {
   "cell_type": "markdown",
   "id": "6c5631cc",
   "metadata": {},
   "source": [
    "# Shapiro-Wilk Test"
   ]
  },
  {
   "cell_type": "code",
   "execution_count": null,
   "id": "e1da1f10",
   "metadata": {},
   "outputs": [],
   "source": [
    "tempo = data['tempo']"
   ]
  },
  {
   "cell_type": "code",
   "execution_count": null,
   "id": "321cc7be",
   "metadata": {},
   "outputs": [
    {
     "name": "stdout",
     "output_type": "stream",
     "text": [
      "stat=0.956, p=0.000\n",
      "Probably not Gaussian(normal-dist)\n"
     ]
    }
   ],
   "source": [
    "from scipy.stats import shapiro\n",
    "dataTempo = tempo\n",
    "stat, p = shapiro(dataTempo)\n",
    "\n",
    "print('stat=%.3f, p=%.3f' % (stat, p))\n",
    "if p > 0.05:\n",
    "    print('Probably Gaussian')\n",
    "else:\n",
    "    print('Probably not Gaussian(normal-dist)')"
   ]
  },
  {
   "cell_type": "code",
   "execution_count": null,
   "id": "fe2b2607",
   "metadata": {},
   "outputs": [
    {
     "data": {
      "text/html": [
       "<div>\n",
       "<style scoped>\n",
       "    .dataframe tbody tr th:only-of-type {\n",
       "        vertical-align: middle;\n",
       "    }\n",
       "\n",
       "    .dataframe tbody tr th {\n",
       "        vertical-align: top;\n",
       "    }\n",
       "\n",
       "    .dataframe thead th {\n",
       "        text-align: right;\n",
       "    }\n",
       "</style>\n",
       "<table border=\"1\" class=\"dataframe\">\n",
       "  <thead>\n",
       "    <tr style=\"text-align: right;\">\n",
       "      <th></th>\n",
       "      <th>track_name</th>\n",
       "      <th>artist_name</th>\n",
       "      <th>artist_pop</th>\n",
       "      <th>album</th>\n",
       "      <th>track_pop</th>\n",
       "      <th>danceability</th>\n",
       "      <th>energy</th>\n",
       "      <th>loudness</th>\n",
       "      <th>mode</th>\n",
       "      <th>key</th>\n",
       "      <th>speechiness</th>\n",
       "      <th>acousticness</th>\n",
       "      <th>instrumentalness</th>\n",
       "      <th>liveness</th>\n",
       "      <th>valence</th>\n",
       "      <th>tempo</th>\n",
       "      <th>time_signature</th>\n",
       "      <th>duration_ms</th>\n",
       "    </tr>\n",
       "  </thead>\n",
       "  <tbody>\n",
       "    <tr>\n",
       "      <th>0</th>\n",
       "      <td>Running Up That Hill (A Deal With God)</td>\n",
       "      <td>Kate Bush</td>\n",
       "      <td>81</td>\n",
       "      <td>Hounds Of Love</td>\n",
       "      <td>95</td>\n",
       "      <td>0.629</td>\n",
       "      <td>0.547</td>\n",
       "      <td>-13.123</td>\n",
       "      <td>0</td>\n",
       "      <td>10</td>\n",
       "      <td>0.0550</td>\n",
       "      <td>0.720000</td>\n",
       "      <td>0.003140</td>\n",
       "      <td>0.0604</td>\n",
       "      <td>0.197</td>\n",
       "      <td>108.375</td>\n",
       "      <td>4</td>\n",
       "      <td>298933</td>\n",
       "    </tr>\n",
       "    <tr>\n",
       "      <th>1</th>\n",
       "      <td>As It Was</td>\n",
       "      <td>Harry Styles</td>\n",
       "      <td>91</td>\n",
       "      <td>As It Was</td>\n",
       "      <td>96</td>\n",
       "      <td>0.520</td>\n",
       "      <td>0.731</td>\n",
       "      <td>-5.338</td>\n",
       "      <td>0</td>\n",
       "      <td>6</td>\n",
       "      <td>0.0557</td>\n",
       "      <td>0.342000</td>\n",
       "      <td>0.001010</td>\n",
       "      <td>0.3110</td>\n",
       "      <td>0.662</td>\n",
       "      <td>173.930</td>\n",
       "      <td>4</td>\n",
       "      <td>167303</td>\n",
       "    </tr>\n",
       "    <tr>\n",
       "      <th>2</th>\n",
       "      <td>Sunroof</td>\n",
       "      <td>Nicky Youre</td>\n",
       "      <td>73</td>\n",
       "      <td>Sunroof</td>\n",
       "      <td>44</td>\n",
       "      <td>0.768</td>\n",
       "      <td>0.716</td>\n",
       "      <td>-5.110</td>\n",
       "      <td>1</td>\n",
       "      <td>10</td>\n",
       "      <td>0.0404</td>\n",
       "      <td>0.350000</td>\n",
       "      <td>0.000000</td>\n",
       "      <td>0.1500</td>\n",
       "      <td>0.841</td>\n",
       "      <td>131.430</td>\n",
       "      <td>4</td>\n",
       "      <td>163026</td>\n",
       "    </tr>\n",
       "    <tr>\n",
       "      <th>3</th>\n",
       "      <td>Heat Waves</td>\n",
       "      <td>Glass Animals</td>\n",
       "      <td>80</td>\n",
       "      <td>Dreamland (+ Bonus Levels)</td>\n",
       "      <td>89</td>\n",
       "      <td>0.761</td>\n",
       "      <td>0.525</td>\n",
       "      <td>-6.900</td>\n",
       "      <td>1</td>\n",
       "      <td>11</td>\n",
       "      <td>0.0944</td>\n",
       "      <td>0.440000</td>\n",
       "      <td>0.000007</td>\n",
       "      <td>0.0921</td>\n",
       "      <td>0.531</td>\n",
       "      <td>80.870</td>\n",
       "      <td>4</td>\n",
       "      <td>238805</td>\n",
       "    </tr>\n",
       "    <tr>\n",
       "      <th>4</th>\n",
       "      <td>About Damn Time</td>\n",
       "      <td>Lizzo</td>\n",
       "      <td>81</td>\n",
       "      <td>About Damn Time</td>\n",
       "      <td>92</td>\n",
       "      <td>0.836</td>\n",
       "      <td>0.743</td>\n",
       "      <td>-6.305</td>\n",
       "      <td>0</td>\n",
       "      <td>10</td>\n",
       "      <td>0.0656</td>\n",
       "      <td>0.099500</td>\n",
       "      <td>0.000000</td>\n",
       "      <td>0.3350</td>\n",
       "      <td>0.722</td>\n",
       "      <td>108.966</td>\n",
       "      <td>4</td>\n",
       "      <td>191822</td>\n",
       "    </tr>\n",
       "    <tr>\n",
       "      <th>...</th>\n",
       "      <td>...</td>\n",
       "      <td>...</td>\n",
       "      <td>...</td>\n",
       "      <td>...</td>\n",
       "      <td>...</td>\n",
       "      <td>...</td>\n",
       "      <td>...</td>\n",
       "      <td>...</td>\n",
       "      <td>...</td>\n",
       "      <td>...</td>\n",
       "      <td>...</td>\n",
       "      <td>...</td>\n",
       "      <td>...</td>\n",
       "      <td>...</td>\n",
       "      <td>...</td>\n",
       "      <td>...</td>\n",
       "      <td>...</td>\n",
       "      <td>...</td>\n",
       "    </tr>\n",
       "    <tr>\n",
       "      <th>258</th>\n",
       "      <td>The Less I Know The Better</td>\n",
       "      <td>Tame Impala</td>\n",
       "      <td>78</td>\n",
       "      <td>Currents</td>\n",
       "      <td>84</td>\n",
       "      <td>0.640</td>\n",
       "      <td>0.740</td>\n",
       "      <td>-4.083</td>\n",
       "      <td>1</td>\n",
       "      <td>4</td>\n",
       "      <td>0.0284</td>\n",
       "      <td>0.011500</td>\n",
       "      <td>0.006780</td>\n",
       "      <td>0.1670</td>\n",
       "      <td>0.785</td>\n",
       "      <td>116.879</td>\n",
       "      <td>4</td>\n",
       "      <td>216320</td>\n",
       "    </tr>\n",
       "    <tr>\n",
       "      <th>259</th>\n",
       "      <td>Dandelions</td>\n",
       "      <td>Ruth B.</td>\n",
       "      <td>75</td>\n",
       "      <td>Safe Haven</td>\n",
       "      <td>90</td>\n",
       "      <td>0.609</td>\n",
       "      <td>0.692</td>\n",
       "      <td>-2.958</td>\n",
       "      <td>1</td>\n",
       "      <td>1</td>\n",
       "      <td>0.0259</td>\n",
       "      <td>0.015700</td>\n",
       "      <td>0.000000</td>\n",
       "      <td>0.0864</td>\n",
       "      <td>0.454</td>\n",
       "      <td>116.959</td>\n",
       "      <td>3</td>\n",
       "      <td>233720</td>\n",
       "    </tr>\n",
       "    <tr>\n",
       "      <th>260</th>\n",
       "      <td>Jimmy Cooks (feat. 21 Savage)</td>\n",
       "      <td>Drake</td>\n",
       "      <td>95</td>\n",
       "      <td>Honestly, Nevermind</td>\n",
       "      <td>92</td>\n",
       "      <td>0.529</td>\n",
       "      <td>0.673</td>\n",
       "      <td>-4.711</td>\n",
       "      <td>1</td>\n",
       "      <td>0</td>\n",
       "      <td>0.1750</td>\n",
       "      <td>0.000307</td>\n",
       "      <td>0.000002</td>\n",
       "      <td>0.0930</td>\n",
       "      <td>0.366</td>\n",
       "      <td>165.921</td>\n",
       "      <td>4</td>\n",
       "      <td>218365</td>\n",
       "    </tr>\n",
       "    <tr>\n",
       "      <th>261</th>\n",
       "      <td>Good Looking</td>\n",
       "      <td>Suki Waterhouse</td>\n",
       "      <td>64</td>\n",
       "      <td>Good Looking</td>\n",
       "      <td>80</td>\n",
       "      <td>0.377</td>\n",
       "      <td>0.558</td>\n",
       "      <td>-9.076</td>\n",
       "      <td>1</td>\n",
       "      <td>4</td>\n",
       "      <td>0.0299</td>\n",
       "      <td>0.078900</td>\n",
       "      <td>0.000342</td>\n",
       "      <td>0.1250</td>\n",
       "      <td>0.267</td>\n",
       "      <td>149.971</td>\n",
       "      <td>3</td>\n",
       "      <td>214800</td>\n",
       "    </tr>\n",
       "    <tr>\n",
       "      <th>262</th>\n",
       "      <td>INFERNO</td>\n",
       "      <td>Sub Urban</td>\n",
       "      <td>67</td>\n",
       "      <td>INFERNO</td>\n",
       "      <td>71</td>\n",
       "      <td>0.820</td>\n",
       "      <td>0.611</td>\n",
       "      <td>-5.020</td>\n",
       "      <td>0</td>\n",
       "      <td>9</td>\n",
       "      <td>0.1220</td>\n",
       "      <td>0.076600</td>\n",
       "      <td>0.000025</td>\n",
       "      <td>0.0684</td>\n",
       "      <td>0.637</td>\n",
       "      <td>127.883</td>\n",
       "      <td>4</td>\n",
       "      <td>133134</td>\n",
       "    </tr>\n",
       "  </tbody>\n",
       "</table>\n",
       "<p>263 rows × 18 columns</p>\n",
       "</div>"
      ],
      "text/plain": [
       "                                 track_name      artist_name  artist_pop  \\\n",
       "0    Running Up That Hill (A Deal With God)        Kate Bush          81   \n",
       "1                                 As It Was     Harry Styles          91   \n",
       "2                                   Sunroof      Nicky Youre          73   \n",
       "3                                Heat Waves    Glass Animals          80   \n",
       "4                           About Damn Time            Lizzo          81   \n",
       "..                                      ...              ...         ...   \n",
       "258              The Less I Know The Better      Tame Impala          78   \n",
       "259                              Dandelions          Ruth B.          75   \n",
       "260           Jimmy Cooks (feat. 21 Savage)            Drake          95   \n",
       "261                            Good Looking  Suki Waterhouse          64   \n",
       "262                                 INFERNO        Sub Urban          67   \n",
       "\n",
       "                          album  track_pop  danceability  energy  loudness  \\\n",
       "0                Hounds Of Love         95         0.629   0.547   -13.123   \n",
       "1                     As It Was         96         0.520   0.731    -5.338   \n",
       "2                       Sunroof         44         0.768   0.716    -5.110   \n",
       "3    Dreamland (+ Bonus Levels)         89         0.761   0.525    -6.900   \n",
       "4               About Damn Time         92         0.836   0.743    -6.305   \n",
       "..                          ...        ...           ...     ...       ...   \n",
       "258                    Currents         84         0.640   0.740    -4.083   \n",
       "259                  Safe Haven         90         0.609   0.692    -2.958   \n",
       "260         Honestly, Nevermind         92         0.529   0.673    -4.711   \n",
       "261                Good Looking         80         0.377   0.558    -9.076   \n",
       "262                     INFERNO         71         0.820   0.611    -5.020   \n",
       "\n",
       "     mode  key  speechiness  acousticness  instrumentalness  liveness  \\\n",
       "0       0   10       0.0550      0.720000          0.003140    0.0604   \n",
       "1       0    6       0.0557      0.342000          0.001010    0.3110   \n",
       "2       1   10       0.0404      0.350000          0.000000    0.1500   \n",
       "3       1   11       0.0944      0.440000          0.000007    0.0921   \n",
       "4       0   10       0.0656      0.099500          0.000000    0.3350   \n",
       "..    ...  ...          ...           ...               ...       ...   \n",
       "258     1    4       0.0284      0.011500          0.006780    0.1670   \n",
       "259     1    1       0.0259      0.015700          0.000000    0.0864   \n",
       "260     1    0       0.1750      0.000307          0.000002    0.0930   \n",
       "261     1    4       0.0299      0.078900          0.000342    0.1250   \n",
       "262     0    9       0.1220      0.076600          0.000025    0.0684   \n",
       "\n",
       "     valence    tempo  time_signature  duration_ms  \n",
       "0      0.197  108.375               4       298933  \n",
       "1      0.662  173.930               4       167303  \n",
       "2      0.841  131.430               4       163026  \n",
       "3      0.531   80.870               4       238805  \n",
       "4      0.722  108.966               4       191822  \n",
       "..       ...      ...             ...          ...  \n",
       "258    0.785  116.879               4       216320  \n",
       "259    0.454  116.959               3       233720  \n",
       "260    0.366  165.921               4       218365  \n",
       "261    0.267  149.971               3       214800  \n",
       "262    0.637  127.883               4       133134  \n",
       "\n",
       "[263 rows x 18 columns]"
      ]
     },
     "execution_count": 215,
     "metadata": {},
     "output_type": "execute_result"
    }
   ],
   "source": [
    "data"
   ]
  },
  {
   "cell_type": "code",
   "execution_count": null,
   "id": "aff23d2b",
   "metadata": {},
   "outputs": [
    {
     "data": {
      "text/plain": [
       "Index(['track_name', 'artist_name', 'artist_pop', 'album', 'track_pop',\n",
       "       'danceability', 'energy', 'loudness', 'mode', 'key', 'speechiness',\n",
       "       'acousticness', 'instrumentalness', 'liveness', 'valence', 'tempo',\n",
       "       'time_signature', 'duration_ms'],\n",
       "      dtype='object')"
      ]
     },
     "execution_count": 216,
     "metadata": {},
     "output_type": "execute_result"
    }
   ],
   "source": [
    "data.columns"
   ]
  },
  {
   "cell_type": "code",
   "execution_count": null,
   "id": "23e57f89",
   "metadata": {},
   "outputs": [],
   "source": [
    "numerics = ['int16', 'int32', 'int64', 'float16', 'float32', 'float64']"
   ]
  },
  {
   "cell_type": "code",
   "execution_count": null,
   "id": "065275d4",
   "metadata": {},
   "outputs": [],
   "source": [
    "newdf = data.select_dtypes(include=numerics)\n"
   ]
  },
  {
   "cell_type": "code",
   "execution_count": null,
   "id": "ee342124",
   "metadata": {},
   "outputs": [
    {
     "data": {
      "text/html": [
       "<div>\n",
       "<style scoped>\n",
       "    .dataframe tbody tr th:only-of-type {\n",
       "        vertical-align: middle;\n",
       "    }\n",
       "\n",
       "    .dataframe tbody tr th {\n",
       "        vertical-align: top;\n",
       "    }\n",
       "\n",
       "    .dataframe thead th {\n",
       "        text-align: right;\n",
       "    }\n",
       "</style>\n",
       "<table border=\"1\" class=\"dataframe\">\n",
       "  <thead>\n",
       "    <tr style=\"text-align: right;\">\n",
       "      <th></th>\n",
       "      <th>artist_pop</th>\n",
       "      <th>track_pop</th>\n",
       "      <th>danceability</th>\n",
       "      <th>energy</th>\n",
       "      <th>loudness</th>\n",
       "      <th>mode</th>\n",
       "      <th>key</th>\n",
       "      <th>speechiness</th>\n",
       "      <th>acousticness</th>\n",
       "      <th>instrumentalness</th>\n",
       "      <th>liveness</th>\n",
       "      <th>valence</th>\n",
       "      <th>tempo</th>\n",
       "      <th>time_signature</th>\n",
       "      <th>duration_ms</th>\n",
       "    </tr>\n",
       "  </thead>\n",
       "  <tbody>\n",
       "    <tr>\n",
       "      <th>0</th>\n",
       "      <td>81</td>\n",
       "      <td>95</td>\n",
       "      <td>0.629</td>\n",
       "      <td>0.547</td>\n",
       "      <td>-13.123</td>\n",
       "      <td>0</td>\n",
       "      <td>10</td>\n",
       "      <td>0.0550</td>\n",
       "      <td>0.7200</td>\n",
       "      <td>0.003140</td>\n",
       "      <td>0.0604</td>\n",
       "      <td>0.197</td>\n",
       "      <td>108.375</td>\n",
       "      <td>4</td>\n",
       "      <td>298933</td>\n",
       "    </tr>\n",
       "    <tr>\n",
       "      <th>1</th>\n",
       "      <td>91</td>\n",
       "      <td>96</td>\n",
       "      <td>0.520</td>\n",
       "      <td>0.731</td>\n",
       "      <td>-5.338</td>\n",
       "      <td>0</td>\n",
       "      <td>6</td>\n",
       "      <td>0.0557</td>\n",
       "      <td>0.3420</td>\n",
       "      <td>0.001010</td>\n",
       "      <td>0.3110</td>\n",
       "      <td>0.662</td>\n",
       "      <td>173.930</td>\n",
       "      <td>4</td>\n",
       "      <td>167303</td>\n",
       "    </tr>\n",
       "    <tr>\n",
       "      <th>2</th>\n",
       "      <td>73</td>\n",
       "      <td>44</td>\n",
       "      <td>0.768</td>\n",
       "      <td>0.716</td>\n",
       "      <td>-5.110</td>\n",
       "      <td>1</td>\n",
       "      <td>10</td>\n",
       "      <td>0.0404</td>\n",
       "      <td>0.3500</td>\n",
       "      <td>0.000000</td>\n",
       "      <td>0.1500</td>\n",
       "      <td>0.841</td>\n",
       "      <td>131.430</td>\n",
       "      <td>4</td>\n",
       "      <td>163026</td>\n",
       "    </tr>\n",
       "    <tr>\n",
       "      <th>3</th>\n",
       "      <td>80</td>\n",
       "      <td>89</td>\n",
       "      <td>0.761</td>\n",
       "      <td>0.525</td>\n",
       "      <td>-6.900</td>\n",
       "      <td>1</td>\n",
       "      <td>11</td>\n",
       "      <td>0.0944</td>\n",
       "      <td>0.4400</td>\n",
       "      <td>0.000007</td>\n",
       "      <td>0.0921</td>\n",
       "      <td>0.531</td>\n",
       "      <td>80.870</td>\n",
       "      <td>4</td>\n",
       "      <td>238805</td>\n",
       "    </tr>\n",
       "    <tr>\n",
       "      <th>4</th>\n",
       "      <td>81</td>\n",
       "      <td>92</td>\n",
       "      <td>0.836</td>\n",
       "      <td>0.743</td>\n",
       "      <td>-6.305</td>\n",
       "      <td>0</td>\n",
       "      <td>10</td>\n",
       "      <td>0.0656</td>\n",
       "      <td>0.0995</td>\n",
       "      <td>0.000000</td>\n",
       "      <td>0.3350</td>\n",
       "      <td>0.722</td>\n",
       "      <td>108.966</td>\n",
       "      <td>4</td>\n",
       "      <td>191822</td>\n",
       "    </tr>\n",
       "  </tbody>\n",
       "</table>\n",
       "</div>"
      ],
      "text/plain": [
       "   artist_pop  track_pop  danceability  energy  loudness  mode  key  \\\n",
       "0          81         95         0.629   0.547   -13.123     0   10   \n",
       "1          91         96         0.520   0.731    -5.338     0    6   \n",
       "2          73         44         0.768   0.716    -5.110     1   10   \n",
       "3          80         89         0.761   0.525    -6.900     1   11   \n",
       "4          81         92         0.836   0.743    -6.305     0   10   \n",
       "\n",
       "   speechiness  acousticness  instrumentalness  liveness  valence    tempo  \\\n",
       "0       0.0550        0.7200          0.003140    0.0604    0.197  108.375   \n",
       "1       0.0557        0.3420          0.001010    0.3110    0.662  173.930   \n",
       "2       0.0404        0.3500          0.000000    0.1500    0.841  131.430   \n",
       "3       0.0944        0.4400          0.000007    0.0921    0.531   80.870   \n",
       "4       0.0656        0.0995          0.000000    0.3350    0.722  108.966   \n",
       "\n",
       "   time_signature  duration_ms  \n",
       "0               4       298933  \n",
       "1               4       167303  \n",
       "2               4       163026  \n",
       "3               4       238805  \n",
       "4               4       191822  "
      ]
     },
     "execution_count": 219,
     "metadata": {},
     "output_type": "execute_result"
    }
   ],
   "source": [
    "newdf.head()"
   ]
  },
  {
   "cell_type": "code",
   "execution_count": null,
   "id": "983f3723",
   "metadata": {
    "scrolled": true
   },
   "outputs": [
    {
     "name": "stdout",
     "output_type": "stream",
     "text": [
      "['artist_pop']\n",
      "[36.84461597] [9.98374081e-09]\n",
      "The null hypothesis can be rejected. (Not normal distributed)\n",
      "\n",
      "['track_pop']\n",
      "[30.76008669] [2.09185724e-07]\n",
      "The null hypothesis can be rejected. (Not normal distributed)\n",
      "\n",
      "['danceability']\n",
      "[20.79656986] [3.04847216e-05]\n",
      "The null hypothesis can be rejected. (Not normal distributed)\n",
      "\n",
      "['energy']\n",
      "[10.39635694] [0.00552662]\n",
      "The null hypothesis can be rejected. (Not normal distributed)\n",
      "\n",
      "['loudness']\n",
      "[24.50920939] [4.76313403e-06]\n",
      "The null hypothesis can be rejected. (Not normal distributed)\n",
      "\n",
      "['mode']\n",
      "[1300.57995373] [3.8251759e-283]\n",
      "The null hypothesis can be rejected. (Not normal distributed)\n",
      "\n",
      "['key']\n",
      "[195.19073482] [4.11974632e-43]\n",
      "The null hypothesis can be rejected. (Not normal distributed)\n",
      "\n",
      "['speechiness']\n",
      "[71.74309323] [2.63745615e-16]\n",
      "The null hypothesis can be rejected. (Not normal distributed)\n",
      "\n",
      "['acousticness']\n",
      "[66.14961778] [4.32307738e-15]\n",
      "The null hypothesis can be rejected. (Not normal distributed)\n",
      "\n",
      "['instrumentalness']\n",
      "[375.12482401] [3.48882715e-82]\n",
      "The null hypothesis can be rejected. (Not normal distributed)\n",
      "\n",
      "['liveness']\n",
      "[70.33168505] [5.34156651e-16]\n",
      "The null hypothesis can be rejected. (Not normal distributed)\n",
      "\n",
      "['valence']\n",
      "[16.901797] [0.00021371]\n",
      "The null hypothesis can be rejected. (Not normal distributed)\n",
      "\n",
      "['tempo']\n",
      "[12.5056359] [0.00192502]\n",
      "The null hypothesis can be rejected. (Not normal distributed)\n",
      "\n",
      "['time_signature']\n",
      "[308.00548538] [1.31056526e-67]\n",
      "The null hypothesis can be rejected. (Not normal distributed)\n",
      "\n",
      "['duration_ms']\n",
      "[11.89527565] [0.002612]\n",
      "The null hypothesis can be rejected. (Not normal distributed)\n",
      "\n"
     ]
    }
   ],
   "source": [
    "for i in newdf.columns:\n",
    "    print([i])\n",
    "    alpha = 0.05\n",
    "    a, b = scipy.stats.normaltest(data[[i]])\n",
    "    print(a, b)\n",
    "    if b < alpha:\n",
    "        print(\"The null hypothesis can be rejected. (Not normal distributed)\\n\")\n",
    "    else:\n",
    "        print(\"The null hypothesis cannot be rejected. (Normal distributed)\\n\")\n"
   ]
  },
  {
   "cell_type": "markdown",
   "id": "6f0ae5f1",
   "metadata": {},
   "source": [
    "Numeric columns in \"newdf\" are not normally distributed so we can only use non-parametric tests."
   ]
  },
  {
   "cell_type": "code",
   "execution_count": null,
   "id": "43836f5b",
   "metadata": {},
   "outputs": [
    {
     "data": {
      "text/plain": [
       "Index(['track_name', 'artist_name', 'artist_pop', 'album', 'track_pop',\n",
       "       'danceability', 'energy', 'loudness', 'mode', 'key', 'speechiness',\n",
       "       'acousticness', 'instrumentalness', 'liveness', 'valence', 'tempo',\n",
       "       'time_signature', 'duration_ms'],\n",
       "      dtype='object')"
      ]
     },
     "execution_count": 221,
     "metadata": {},
     "output_type": "execute_result"
    }
   ],
   "source": [
    "data.columns"
   ]
  },
  {
   "cell_type": "code",
   "execution_count": null,
   "id": "f4f781f0",
   "metadata": {},
   "outputs": [
    {
     "data": {
      "text/html": [
       "<div>\n",
       "<style scoped>\n",
       "    .dataframe tbody tr th:only-of-type {\n",
       "        vertical-align: middle;\n",
       "    }\n",
       "\n",
       "    .dataframe tbody tr th {\n",
       "        vertical-align: top;\n",
       "    }\n",
       "\n",
       "    .dataframe thead th {\n",
       "        text-align: right;\n",
       "    }\n",
       "</style>\n",
       "<table border=\"1\" class=\"dataframe\">\n",
       "  <thead>\n",
       "    <tr style=\"text-align: right;\">\n",
       "      <th></th>\n",
       "      <th>track_name</th>\n",
       "      <th>artist_name</th>\n",
       "      <th>artist_pop</th>\n",
       "      <th>album</th>\n",
       "      <th>track_pop</th>\n",
       "      <th>danceability</th>\n",
       "      <th>energy</th>\n",
       "      <th>loudness</th>\n",
       "      <th>mode</th>\n",
       "      <th>key</th>\n",
       "      <th>speechiness</th>\n",
       "      <th>acousticness</th>\n",
       "      <th>instrumentalness</th>\n",
       "      <th>liveness</th>\n",
       "      <th>valence</th>\n",
       "      <th>tempo</th>\n",
       "      <th>time_signature</th>\n",
       "      <th>duration_ms</th>\n",
       "    </tr>\n",
       "  </thead>\n",
       "  <tbody>\n",
       "    <tr>\n",
       "      <th>0</th>\n",
       "      <td>Running Up That Hill (A Deal With God)</td>\n",
       "      <td>Kate Bush</td>\n",
       "      <td>81</td>\n",
       "      <td>Hounds Of Love</td>\n",
       "      <td>95</td>\n",
       "      <td>0.629</td>\n",
       "      <td>0.547</td>\n",
       "      <td>-13.123</td>\n",
       "      <td>0</td>\n",
       "      <td>10</td>\n",
       "      <td>0.0550</td>\n",
       "      <td>0.7200</td>\n",
       "      <td>0.003140</td>\n",
       "      <td>0.0604</td>\n",
       "      <td>0.197</td>\n",
       "      <td>108.375</td>\n",
       "      <td>4</td>\n",
       "      <td>298933</td>\n",
       "    </tr>\n",
       "    <tr>\n",
       "      <th>1</th>\n",
       "      <td>As It Was</td>\n",
       "      <td>Harry Styles</td>\n",
       "      <td>91</td>\n",
       "      <td>As It Was</td>\n",
       "      <td>96</td>\n",
       "      <td>0.520</td>\n",
       "      <td>0.731</td>\n",
       "      <td>-5.338</td>\n",
       "      <td>0</td>\n",
       "      <td>6</td>\n",
       "      <td>0.0557</td>\n",
       "      <td>0.3420</td>\n",
       "      <td>0.001010</td>\n",
       "      <td>0.3110</td>\n",
       "      <td>0.662</td>\n",
       "      <td>173.930</td>\n",
       "      <td>4</td>\n",
       "      <td>167303</td>\n",
       "    </tr>\n",
       "    <tr>\n",
       "      <th>2</th>\n",
       "      <td>Sunroof</td>\n",
       "      <td>Nicky Youre</td>\n",
       "      <td>73</td>\n",
       "      <td>Sunroof</td>\n",
       "      <td>44</td>\n",
       "      <td>0.768</td>\n",
       "      <td>0.716</td>\n",
       "      <td>-5.110</td>\n",
       "      <td>1</td>\n",
       "      <td>10</td>\n",
       "      <td>0.0404</td>\n",
       "      <td>0.3500</td>\n",
       "      <td>0.000000</td>\n",
       "      <td>0.1500</td>\n",
       "      <td>0.841</td>\n",
       "      <td>131.430</td>\n",
       "      <td>4</td>\n",
       "      <td>163026</td>\n",
       "    </tr>\n",
       "    <tr>\n",
       "      <th>3</th>\n",
       "      <td>Heat Waves</td>\n",
       "      <td>Glass Animals</td>\n",
       "      <td>80</td>\n",
       "      <td>Dreamland (+ Bonus Levels)</td>\n",
       "      <td>89</td>\n",
       "      <td>0.761</td>\n",
       "      <td>0.525</td>\n",
       "      <td>-6.900</td>\n",
       "      <td>1</td>\n",
       "      <td>11</td>\n",
       "      <td>0.0944</td>\n",
       "      <td>0.4400</td>\n",
       "      <td>0.000007</td>\n",
       "      <td>0.0921</td>\n",
       "      <td>0.531</td>\n",
       "      <td>80.870</td>\n",
       "      <td>4</td>\n",
       "      <td>238805</td>\n",
       "    </tr>\n",
       "    <tr>\n",
       "      <th>4</th>\n",
       "      <td>About Damn Time</td>\n",
       "      <td>Lizzo</td>\n",
       "      <td>81</td>\n",
       "      <td>About Damn Time</td>\n",
       "      <td>92</td>\n",
       "      <td>0.836</td>\n",
       "      <td>0.743</td>\n",
       "      <td>-6.305</td>\n",
       "      <td>0</td>\n",
       "      <td>10</td>\n",
       "      <td>0.0656</td>\n",
       "      <td>0.0995</td>\n",
       "      <td>0.000000</td>\n",
       "      <td>0.3350</td>\n",
       "      <td>0.722</td>\n",
       "      <td>108.966</td>\n",
       "      <td>4</td>\n",
       "      <td>191822</td>\n",
       "    </tr>\n",
       "  </tbody>\n",
       "</table>\n",
       "</div>"
      ],
      "text/plain": [
       "                               track_name    artist_name  artist_pop  \\\n",
       "0  Running Up That Hill (A Deal With God)      Kate Bush          81   \n",
       "1                               As It Was   Harry Styles          91   \n",
       "2                                 Sunroof    Nicky Youre          73   \n",
       "3                              Heat Waves  Glass Animals          80   \n",
       "4                         About Damn Time          Lizzo          81   \n",
       "\n",
       "                        album  track_pop  danceability  energy  loudness  \\\n",
       "0              Hounds Of Love         95         0.629   0.547   -13.123   \n",
       "1                   As It Was         96         0.520   0.731    -5.338   \n",
       "2                     Sunroof         44         0.768   0.716    -5.110   \n",
       "3  Dreamland (+ Bonus Levels)         89         0.761   0.525    -6.900   \n",
       "4             About Damn Time         92         0.836   0.743    -6.305   \n",
       "\n",
       "   mode  key  speechiness  acousticness  instrumentalness  liveness  valence  \\\n",
       "0     0   10       0.0550        0.7200          0.003140    0.0604    0.197   \n",
       "1     0    6       0.0557        0.3420          0.001010    0.3110    0.662   \n",
       "2     1   10       0.0404        0.3500          0.000000    0.1500    0.841   \n",
       "3     1   11       0.0944        0.4400          0.000007    0.0921    0.531   \n",
       "4     0   10       0.0656        0.0995          0.000000    0.3350    0.722   \n",
       "\n",
       "     tempo  time_signature  duration_ms  \n",
       "0  108.375               4       298933  \n",
       "1  173.930               4       167303  \n",
       "2  131.430               4       163026  \n",
       "3   80.870               4       238805  \n",
       "4  108.966               4       191822  "
      ]
     },
     "execution_count": 222,
     "metadata": {},
     "output_type": "execute_result"
    }
   ],
   "source": [
    "data.head()"
   ]
  },
  {
   "cell_type": "code",
   "execution_count": null,
   "id": "8915b4c2",
   "metadata": {},
   "outputs": [],
   "source": []
  },
  {
   "cell_type": "code",
   "execution_count": null,
   "id": "cb0c4426",
   "metadata": {},
   "outputs": [],
   "source": []
  },
  {
   "cell_type": "code",
   "execution_count": null,
   "id": "f7956de8",
   "metadata": {},
   "outputs": [],
   "source": []
  },
  {
   "cell_type": "code",
   "execution_count": null,
   "id": "46db24b0",
   "metadata": {},
   "outputs": [],
   "source": []
  },
  {
   "cell_type": "code",
   "execution_count": null,
   "id": "7eeb90e7",
   "metadata": {},
   "outputs": [],
   "source": []
  },
  {
   "cell_type": "code",
   "execution_count": null,
   "id": "dc8a8d7d",
   "metadata": {},
   "outputs": [],
   "source": []
  },
  {
   "cell_type": "code",
   "execution_count": null,
   "id": "1186d3d8",
   "metadata": {},
   "outputs": [],
   "source": []
  },
  {
   "cell_type": "code",
   "execution_count": null,
   "id": "c6dd41c2",
   "metadata": {},
   "outputs": [],
   "source": []
  },
  {
   "cell_type": "code",
   "execution_count": null,
   "id": "b6951269",
   "metadata": {},
   "outputs": [],
   "source": []
  },
  {
   "cell_type": "code",
   "execution_count": null,
   "id": "cf1ec804",
   "metadata": {},
   "outputs": [],
   "source": []
  },
  {
   "cell_type": "code",
   "execution_count": null,
   "id": "1f1a3856",
   "metadata": {},
   "outputs": [],
   "source": []
  },
  {
   "cell_type": "code",
   "execution_count": null,
   "id": "41e830d9",
   "metadata": {},
   "outputs": [],
   "source": []
  },
  {
   "cell_type": "code",
   "execution_count": null,
   "id": "4d4c72df",
   "metadata": {},
   "outputs": [],
   "source": []
  },
  {
   "cell_type": "code",
   "execution_count": null,
   "id": "c467d930",
   "metadata": {},
   "outputs": [],
   "source": []
  },
  {
   "cell_type": "code",
   "execution_count": null,
   "id": "6afc589a",
   "metadata": {},
   "outputs": [],
   "source": []
  },
  {
   "cell_type": "code",
   "execution_count": null,
   "id": "a8e5b755",
   "metadata": {},
   "outputs": [],
   "source": []
  },
  {
   "cell_type": "code",
   "execution_count": null,
   "id": "ac24f000",
   "metadata": {},
   "outputs": [],
   "source": []
  },
  {
   "cell_type": "code",
   "execution_count": null,
   "id": "d1b36aab",
   "metadata": {},
   "outputs": [],
   "source": []
  },
  {
   "cell_type": "code",
   "execution_count": null,
   "id": "4f8039d1",
   "metadata": {},
   "outputs": [],
   "source": []
  },
  {
   "cell_type": "code",
   "execution_count": null,
   "id": "b79211f6",
   "metadata": {},
   "outputs": [],
   "source": []
  },
  {
   "cell_type": "code",
   "execution_count": null,
   "id": "8a1ce793",
   "metadata": {},
   "outputs": [],
   "source": []
  },
  {
   "cell_type": "code",
   "execution_count": null,
   "id": "6eb2eda5",
   "metadata": {},
   "outputs": [],
   "source": []
  },
  {
   "cell_type": "code",
   "execution_count": null,
   "id": "f235c0f3",
   "metadata": {},
   "outputs": [],
   "source": []
  },
  {
   "cell_type": "code",
   "execution_count": null,
   "id": "f31bf30a",
   "metadata": {},
   "outputs": [],
   "source": []
  },
  {
   "cell_type": "code",
   "execution_count": null,
   "id": "968634fa",
   "metadata": {},
   "outputs": [],
   "source": []
  },
  {
   "cell_type": "code",
   "execution_count": null,
   "id": "bff12f8f",
   "metadata": {},
   "outputs": [],
   "source": []
  },
  {
   "cell_type": "code",
   "execution_count": null,
   "id": "8bee46d9",
   "metadata": {},
   "outputs": [],
   "source": []
  },
  {
   "cell_type": "code",
   "execution_count": null,
   "id": "50fc3d24",
   "metadata": {},
   "outputs": [],
   "source": []
  },
  {
   "cell_type": "code",
   "execution_count": null,
   "id": "d615bbba",
   "metadata": {},
   "outputs": [],
   "source": []
  },
  {
   "cell_type": "code",
   "execution_count": null,
   "id": "0a450fcb",
   "metadata": {},
   "outputs": [],
   "source": []
  },
  {
   "cell_type": "code",
   "execution_count": null,
   "id": "3bed8cdf",
   "metadata": {},
   "outputs": [],
   "source": []
  }
 ],
 "metadata": {
  "kernelspec": {
   "display_name": "Python 3.10.6 64-bit",
   "language": "python",
   "name": "python3"
  },
  "language_info": {
   "codemirror_mode": {
    "name": "ipython",
    "version": 3
   },
   "file_extension": ".py",
   "mimetype": "text/x-python",
   "name": "python",
   "nbconvert_exporter": "python",
   "pygments_lexer": "ipython3",
   "version": "3.10.6"
  },
  "vscode": {
   "interpreter": {
    "hash": "1ae1229f089f2bbb42cc129bd6dcd85df6a4e5b077f38927b80493e8b375003d"
   }
  }
 },
 "nbformat": 4,
 "nbformat_minor": 5
}
